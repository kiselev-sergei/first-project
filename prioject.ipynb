{
 "cells": [
  {
   "cell_type": "markdown",
   "metadata": {},
   "source": [
    "<div style=\"border:solid green 2px; padding: 20px\">\n",
    "Сергей, привет и хорошего дня! <br>\n",
    "Меня зовут Сергей Дроздов, и я буду проверять твой проект. Предлагаю общаться на «ты». Если тебе удобнее общаться на \"Вы\", просто дай знать. \n",
    "\n",
    "Ты уже проделал большую работу над проектом, но давай сделаем его еще лучше. Ниже ты найдешь мои комментарии - пожалуйста, не перемещай, не изменяй и не удаляй их. Я буду использовать цветовую разметку:\n",
    "\n",
    "<div class=\"alert alert-danger\">\n",
    "<b>Комментарий ревьюера: &#10060; </b> Так будут выделены комментарии с указаниями, обязательными к выполнению. Без их выполнения проект не будет принят. </div>\n",
    "\n",
    "<div class=\"alert alert-warning\">\n",
    "<b>Комментарий ревьюера:\n",
    "&#9888;</b> Так будут выделены некритичные замечания. Их отработка позволит улучшить качество твоего проекта.\n",
    "</div>\n",
    "\n",
    "<div class=\"alert alert-success\">\n",
    "<b>Комментарий ревьюера:\n",
    "&#9989;</b> Так будут выделены остальные комментарии, полезные лайфхаки и ссылки на сторонние ресурсы </div>\n",
    "\n",
    "Для наиболее эффективной и оперативной работы над проектом, мне хотелось бы иметь обратную связь. Не стесняйся задавать вопросы. Если ты что-либо меняешь в проекте, пожалуйста, комментируй это. Мне будет легче отследить изменения, если ты выделишь свои комментарии:\n",
    "<div class=\"alert alert-info\"> <b>Комментарий студента:</b> Например вот так</div>"
   ]
  },
  {
   "cell_type": "markdown",
   "metadata": {},
   "source": [
    "<div class=\"alert alert-info\"> <b>Комментарий студента:</b> Привет, Сергей! Спасибо за ревью. Исправляю...</div>"
   ]
  },
  {
   "cell_type": "markdown",
   "metadata": {},
   "source": [
    "# Прогнозирование оттока клиентов в сети отелей «Как в гостях»"
   ]
  },
  {
   "cell_type": "markdown",
   "metadata": {},
   "source": [
    "### Шаг 1. Откройте файлы с данными"
   ]
  },
  {
   "cell_type": "code",
   "execution_count": 109,
   "metadata": {},
   "outputs": [],
   "source": [
    "import pandas as pd\n",
    "import numpy as np\n",
    "import matplotlib.pyplot as plt\n",
    "import math\n",
    "from sklearn.preprocessing import StandardScaler, OneHotEncoder\n",
    "from sklearn.experimental import enable_halving_search_cv\n",
    "from sklearn.model_selection import cross_val_score, RandomizedSearchCV, HalvingGridSearchCV\n",
    "from sklearn.tree import DecisionTreeClassifier\n",
    "from sklearn.linear_model import LogisticRegression\n",
    "from sklearn.ensemble import RandomForestClassifier\n",
    "from sklearn.metrics import f1_score, accuracy_score\n",
    "\n",
    "pd.options.mode.chained_assignment = None"
   ]
  },
  {
   "cell_type": "code",
   "execution_count": 3,
   "metadata": {
    "scrolled": false
   },
   "outputs": [
    {
     "name": "stdout",
     "output_type": "stream",
     "text": [
      "<class 'pandas.core.frame.DataFrame'>\n",
      "RangeIndex: 65229 entries, 0 to 65228\n",
      "Data columns (total 25 columns):\n",
      " #   Column                          Non-Null Count  Dtype  \n",
      "---  ------                          --------------  -----  \n",
      " 0   id                              65229 non-null  int64  \n",
      " 1   is_canceled                     65229 non-null  int64  \n",
      " 2   lead_time                       65229 non-null  float64\n",
      " 3   arrival_date_year               65229 non-null  int64  \n",
      " 4   arrival_date_month              65229 non-null  object \n",
      " 5   arrival_date_week_number        65229 non-null  int64  \n",
      " 6   arrival_date_day_of_month       65229 non-null  int64  \n",
      " 7   stays_in_weekend_nights         65229 non-null  int64  \n",
      " 8   stays_in_week_nights            65229 non-null  int64  \n",
      " 9   adults                          65229 non-null  float64\n",
      " 10  children                        65229 non-null  float64\n",
      " 11  babies                          65229 non-null  float64\n",
      " 12  meal                            65229 non-null  object \n",
      " 13  country                         65229 non-null  object \n",
      " 14  distribution_channel            65229 non-null  object \n",
      " 15  is_repeated_guest               65229 non-null  int64  \n",
      " 16  previous_cancellations          65229 non-null  int64  \n",
      " 17  previous_bookings_not_canceled  65229 non-null  int64  \n",
      " 18  reserved_room_type              65229 non-null  object \n",
      " 19  booking_changes                 65229 non-null  int64  \n",
      " 20  days_in_waiting_list            65229 non-null  int64  \n",
      " 21  customer_type                   65229 non-null  object \n",
      " 22  required_car_parking_spaces     65229 non-null  int64  \n",
      " 23  total_of_special_requests       65229 non-null  int64  \n",
      " 24  total_nights                    65229 non-null  int64  \n",
      "dtypes: float64(4), int64(15), object(6)\n",
      "memory usage: 12.4+ MB\n",
      "<class 'pandas.core.frame.DataFrame'>\n",
      "RangeIndex: 32412 entries, 0 to 32411\n",
      "Data columns (total 25 columns):\n",
      " #   Column                          Non-Null Count  Dtype  \n",
      "---  ------                          --------------  -----  \n",
      " 0   id                              32412 non-null  int64  \n",
      " 1   is_canceled                     32412 non-null  int64  \n",
      " 2   lead_time                       32412 non-null  float64\n",
      " 3   arrival_date_year               32412 non-null  int64  \n",
      " 4   arrival_date_month              32412 non-null  object \n",
      " 5   arrival_date_week_number        32412 non-null  int64  \n",
      " 6   arrival_date_day_of_month       32412 non-null  int64  \n",
      " 7   stays_in_weekend_nights         32412 non-null  int64  \n",
      " 8   stays_in_week_nights            32412 non-null  int64  \n",
      " 9   adults                          32412 non-null  float64\n",
      " 10  children                        32412 non-null  float64\n",
      " 11  babies                          32412 non-null  float64\n",
      " 12  meal                            32412 non-null  object \n",
      " 13  country                         32412 non-null  object \n",
      " 14  distribution_channel            32412 non-null  object \n",
      " 15  is_repeated_guest               32412 non-null  int64  \n",
      " 16  previous_cancellations          32412 non-null  int64  \n",
      " 17  previous_bookings_not_canceled  32412 non-null  int64  \n",
      " 18  reserved_room_type              32412 non-null  object \n",
      " 19  booking_changes                 32412 non-null  int64  \n",
      " 20  days_in_waiting_list            32412 non-null  int64  \n",
      " 21  customer_type                   32412 non-null  object \n",
      " 22  required_car_parking_spaces     32412 non-null  int64  \n",
      " 23  total_of_special_requests       32412 non-null  int64  \n",
      " 24  total_nights                    32412 non-null  int64  \n",
      "dtypes: float64(4), int64(15), object(6)\n",
      "memory usage: 6.2+ MB\n"
     ]
    }
   ],
   "source": [
    "df_train = pd.read_csv('/datasets/hotel_train.csv')\n",
    "df_test = pd.read_csv('/datasets/hotel_test.csv')\n",
    "\n",
    "df_train.info()\n",
    "df_test.info()"
   ]
  },
  {
   "cell_type": "markdown",
   "metadata": {},
   "source": [
    "<div class=\"alert alert-success\">\n",
    "<b>Комментарий ревьюера:\n",
    "&#9989;</b> Ок, данные на базе! </div>"
   ]
  },
  {
   "cell_type": "markdown",
   "metadata": {},
   "source": [
    "### Шаг 2. Предобработка и исследовательский анализ данных"
   ]
  },
  {
   "cell_type": "code",
   "execution_count": 4,
   "metadata": {},
   "outputs": [
    {
     "data": {
      "text/plain": [
       "0"
      ]
     },
     "execution_count": 4,
     "metadata": {},
     "output_type": "execute_result"
    }
   ],
   "source": [
    "df_train.duplicated().sum()\n",
    "df_test.duplicated().sum()"
   ]
  },
  {
   "cell_type": "markdown",
   "metadata": {},
   "source": [
    "Дубликатов нет, это позитивно."
   ]
  },
  {
   "cell_type": "markdown",
   "metadata": {},
   "source": [
    "<div class=\"alert alert-success\">\n",
    "<b>Комментарий ревьюера:\n",
    "&#9989;</b> Хорошо! </div>"
   ]
  },
  {
   "cell_type": "code",
   "execution_count": 5,
   "metadata": {
    "scrolled": false
   },
   "outputs": [
    {
     "data": {
      "text/html": [
       "<div>\n",
       "<style scoped>\n",
       "    .dataframe tbody tr th:only-of-type {\n",
       "        vertical-align: middle;\n",
       "    }\n",
       "\n",
       "    .dataframe tbody tr th {\n",
       "        vertical-align: top;\n",
       "    }\n",
       "\n",
       "    .dataframe thead th {\n",
       "        text-align: right;\n",
       "    }\n",
       "</style>\n",
       "<table border=\"1\" class=\"dataframe\">\n",
       "  <thead>\n",
       "    <tr style=\"text-align: right;\">\n",
       "      <th></th>\n",
       "      <th>id</th>\n",
       "      <th>is_canceled</th>\n",
       "      <th>lead_time</th>\n",
       "      <th>arrival_date_year</th>\n",
       "      <th>arrival_date_month</th>\n",
       "      <th>arrival_date_week_number</th>\n",
       "      <th>arrival_date_day_of_month</th>\n",
       "      <th>stays_in_weekend_nights</th>\n",
       "      <th>stays_in_week_nights</th>\n",
       "      <th>adults</th>\n",
       "      <th>...</th>\n",
       "      <th>is_repeated_guest</th>\n",
       "      <th>previous_cancellations</th>\n",
       "      <th>previous_bookings_not_canceled</th>\n",
       "      <th>reserved_room_type</th>\n",
       "      <th>booking_changes</th>\n",
       "      <th>days_in_waiting_list</th>\n",
       "      <th>customer_type</th>\n",
       "      <th>required_car_parking_spaces</th>\n",
       "      <th>total_of_special_requests</th>\n",
       "      <th>total_nights</th>\n",
       "    </tr>\n",
       "  </thead>\n",
       "  <tbody>\n",
       "    <tr>\n",
       "      <th>65214</th>\n",
       "      <td>84008</td>\n",
       "      <td>0</td>\n",
       "      <td>258.0</td>\n",
       "      <td>2016</td>\n",
       "      <td>December</td>\n",
       "      <td>53</td>\n",
       "      <td>28</td>\n",
       "      <td>2</td>\n",
       "      <td>5</td>\n",
       "      <td>1.0</td>\n",
       "      <td>...</td>\n",
       "      <td>0</td>\n",
       "      <td>0</td>\n",
       "      <td>0</td>\n",
       "      <td>B</td>\n",
       "      <td>2</td>\n",
       "      <td>0</td>\n",
       "      <td>Transient</td>\n",
       "      <td>0</td>\n",
       "      <td>3</td>\n",
       "      <td>7</td>\n",
       "    </tr>\n",
       "    <tr>\n",
       "      <th>65215</th>\n",
       "      <td>84009</td>\n",
       "      <td>0</td>\n",
       "      <td>259.0</td>\n",
       "      <td>2016</td>\n",
       "      <td>December</td>\n",
       "      <td>53</td>\n",
       "      <td>28</td>\n",
       "      <td>2</td>\n",
       "      <td>5</td>\n",
       "      <td>2.0</td>\n",
       "      <td>...</td>\n",
       "      <td>0</td>\n",
       "      <td>0</td>\n",
       "      <td>0</td>\n",
       "      <td>B</td>\n",
       "      <td>3</td>\n",
       "      <td>0</td>\n",
       "      <td>Transient</td>\n",
       "      <td>0</td>\n",
       "      <td>3</td>\n",
       "      <td>7</td>\n",
       "    </tr>\n",
       "    <tr>\n",
       "      <th>65216</th>\n",
       "      <td>84012</td>\n",
       "      <td>0</td>\n",
       "      <td>259.0</td>\n",
       "      <td>2016</td>\n",
       "      <td>December</td>\n",
       "      <td>53</td>\n",
       "      <td>28</td>\n",
       "      <td>2</td>\n",
       "      <td>5</td>\n",
       "      <td>2.0</td>\n",
       "      <td>...</td>\n",
       "      <td>0</td>\n",
       "      <td>0</td>\n",
       "      <td>0</td>\n",
       "      <td>A</td>\n",
       "      <td>3</td>\n",
       "      <td>0</td>\n",
       "      <td>Transient</td>\n",
       "      <td>0</td>\n",
       "      <td>3</td>\n",
       "      <td>7</td>\n",
       "    </tr>\n",
       "    <tr>\n",
       "      <th>65217</th>\n",
       "      <td>84014</td>\n",
       "      <td>0</td>\n",
       "      <td>14.0</td>\n",
       "      <td>2016</td>\n",
       "      <td>December</td>\n",
       "      <td>53</td>\n",
       "      <td>28</td>\n",
       "      <td>2</td>\n",
       "      <td>5</td>\n",
       "      <td>2.0</td>\n",
       "      <td>...</td>\n",
       "      <td>0</td>\n",
       "      <td>0</td>\n",
       "      <td>0</td>\n",
       "      <td>A</td>\n",
       "      <td>0</td>\n",
       "      <td>0</td>\n",
       "      <td>Transient</td>\n",
       "      <td>0</td>\n",
       "      <td>1</td>\n",
       "      <td>7</td>\n",
       "    </tr>\n",
       "    <tr>\n",
       "      <th>65218</th>\n",
       "      <td>84015</td>\n",
       "      <td>0</td>\n",
       "      <td>291.0</td>\n",
       "      <td>2016</td>\n",
       "      <td>December</td>\n",
       "      <td>53</td>\n",
       "      <td>28</td>\n",
       "      <td>2</td>\n",
       "      <td>5</td>\n",
       "      <td>2.0</td>\n",
       "      <td>...</td>\n",
       "      <td>0</td>\n",
       "      <td>0</td>\n",
       "      <td>0</td>\n",
       "      <td>A</td>\n",
       "      <td>0</td>\n",
       "      <td>0</td>\n",
       "      <td>Transient</td>\n",
       "      <td>0</td>\n",
       "      <td>0</td>\n",
       "      <td>7</td>\n",
       "    </tr>\n",
       "    <tr>\n",
       "      <th>65219</th>\n",
       "      <td>84016</td>\n",
       "      <td>0</td>\n",
       "      <td>42.0</td>\n",
       "      <td>2016</td>\n",
       "      <td>December</td>\n",
       "      <td>53</td>\n",
       "      <td>31</td>\n",
       "      <td>2</td>\n",
       "      <td>2</td>\n",
       "      <td>2.0</td>\n",
       "      <td>...</td>\n",
       "      <td>0</td>\n",
       "      <td>0</td>\n",
       "      <td>0</td>\n",
       "      <td>A</td>\n",
       "      <td>1</td>\n",
       "      <td>0</td>\n",
       "      <td>Transient</td>\n",
       "      <td>0</td>\n",
       "      <td>1</td>\n",
       "      <td>4</td>\n",
       "    </tr>\n",
       "    <tr>\n",
       "      <th>65220</th>\n",
       "      <td>84022</td>\n",
       "      <td>0</td>\n",
       "      <td>23.0</td>\n",
       "      <td>2016</td>\n",
       "      <td>December</td>\n",
       "      <td>53</td>\n",
       "      <td>30</td>\n",
       "      <td>2</td>\n",
       "      <td>3</td>\n",
       "      <td>2.0</td>\n",
       "      <td>...</td>\n",
       "      <td>0</td>\n",
       "      <td>0</td>\n",
       "      <td>0</td>\n",
       "      <td>D</td>\n",
       "      <td>1</td>\n",
       "      <td>0</td>\n",
       "      <td>Transient</td>\n",
       "      <td>0</td>\n",
       "      <td>3</td>\n",
       "      <td>5</td>\n",
       "    </tr>\n",
       "    <tr>\n",
       "      <th>65221</th>\n",
       "      <td>84023</td>\n",
       "      <td>0</td>\n",
       "      <td>42.0</td>\n",
       "      <td>2016</td>\n",
       "      <td>December</td>\n",
       "      <td>53</td>\n",
       "      <td>29</td>\n",
       "      <td>2</td>\n",
       "      <td>5</td>\n",
       "      <td>2.0</td>\n",
       "      <td>...</td>\n",
       "      <td>0</td>\n",
       "      <td>0</td>\n",
       "      <td>0</td>\n",
       "      <td>E</td>\n",
       "      <td>0</td>\n",
       "      <td>0</td>\n",
       "      <td>Transient</td>\n",
       "      <td>0</td>\n",
       "      <td>0</td>\n",
       "      <td>7</td>\n",
       "    </tr>\n",
       "    <tr>\n",
       "      <th>65222</th>\n",
       "      <td>84050</td>\n",
       "      <td>0</td>\n",
       "      <td>96.0</td>\n",
       "      <td>2016</td>\n",
       "      <td>December</td>\n",
       "      <td>53</td>\n",
       "      <td>31</td>\n",
       "      <td>2</td>\n",
       "      <td>3</td>\n",
       "      <td>2.0</td>\n",
       "      <td>...</td>\n",
       "      <td>0</td>\n",
       "      <td>0</td>\n",
       "      <td>0</td>\n",
       "      <td>A</td>\n",
       "      <td>0</td>\n",
       "      <td>0</td>\n",
       "      <td>Transient</td>\n",
       "      <td>0</td>\n",
       "      <td>0</td>\n",
       "      <td>5</td>\n",
       "    </tr>\n",
       "    <tr>\n",
       "      <th>65223</th>\n",
       "      <td>84056</td>\n",
       "      <td>0</td>\n",
       "      <td>23.0</td>\n",
       "      <td>2016</td>\n",
       "      <td>December</td>\n",
       "      <td>53</td>\n",
       "      <td>30</td>\n",
       "      <td>2</td>\n",
       "      <td>4</td>\n",
       "      <td>2.0</td>\n",
       "      <td>...</td>\n",
       "      <td>0</td>\n",
       "      <td>0</td>\n",
       "      <td>0</td>\n",
       "      <td>D</td>\n",
       "      <td>0</td>\n",
       "      <td>0</td>\n",
       "      <td>Transient</td>\n",
       "      <td>0</td>\n",
       "      <td>2</td>\n",
       "      <td>6</td>\n",
       "    </tr>\n",
       "    <tr>\n",
       "      <th>65224</th>\n",
       "      <td>84057</td>\n",
       "      <td>0</td>\n",
       "      <td>23.0</td>\n",
       "      <td>2016</td>\n",
       "      <td>December</td>\n",
       "      <td>53</td>\n",
       "      <td>30</td>\n",
       "      <td>2</td>\n",
       "      <td>4</td>\n",
       "      <td>2.0</td>\n",
       "      <td>...</td>\n",
       "      <td>0</td>\n",
       "      <td>0</td>\n",
       "      <td>0</td>\n",
       "      <td>D</td>\n",
       "      <td>0</td>\n",
       "      <td>0</td>\n",
       "      <td>Transient</td>\n",
       "      <td>0</td>\n",
       "      <td>2</td>\n",
       "      <td>6</td>\n",
       "    </tr>\n",
       "    <tr>\n",
       "      <th>65225</th>\n",
       "      <td>84063</td>\n",
       "      <td>0</td>\n",
       "      <td>53.0</td>\n",
       "      <td>2016</td>\n",
       "      <td>December</td>\n",
       "      <td>53</td>\n",
       "      <td>31</td>\n",
       "      <td>2</td>\n",
       "      <td>3</td>\n",
       "      <td>2.0</td>\n",
       "      <td>...</td>\n",
       "      <td>0</td>\n",
       "      <td>0</td>\n",
       "      <td>0</td>\n",
       "      <td>D</td>\n",
       "      <td>0</td>\n",
       "      <td>0</td>\n",
       "      <td>Transient</td>\n",
       "      <td>0</td>\n",
       "      <td>3</td>\n",
       "      <td>5</td>\n",
       "    </tr>\n",
       "    <tr>\n",
       "      <th>65226</th>\n",
       "      <td>84094</td>\n",
       "      <td>0</td>\n",
       "      <td>7.0</td>\n",
       "      <td>2016</td>\n",
       "      <td>December</td>\n",
       "      <td>53</td>\n",
       "      <td>31</td>\n",
       "      <td>2</td>\n",
       "      <td>4</td>\n",
       "      <td>2.0</td>\n",
       "      <td>...</td>\n",
       "      <td>0</td>\n",
       "      <td>0</td>\n",
       "      <td>0</td>\n",
       "      <td>D</td>\n",
       "      <td>0</td>\n",
       "      <td>0</td>\n",
       "      <td>Transient</td>\n",
       "      <td>0</td>\n",
       "      <td>1</td>\n",
       "      <td>6</td>\n",
       "    </tr>\n",
       "    <tr>\n",
       "      <th>65227</th>\n",
       "      <td>84117</td>\n",
       "      <td>0</td>\n",
       "      <td>17.0</td>\n",
       "      <td>2016</td>\n",
       "      <td>December</td>\n",
       "      <td>53</td>\n",
       "      <td>30</td>\n",
       "      <td>2</td>\n",
       "      <td>5</td>\n",
       "      <td>2.0</td>\n",
       "      <td>...</td>\n",
       "      <td>0</td>\n",
       "      <td>0</td>\n",
       "      <td>0</td>\n",
       "      <td>A</td>\n",
       "      <td>0</td>\n",
       "      <td>0</td>\n",
       "      <td>Transient</td>\n",
       "      <td>0</td>\n",
       "      <td>1</td>\n",
       "      <td>7</td>\n",
       "    </tr>\n",
       "    <tr>\n",
       "      <th>65228</th>\n",
       "      <td>84121</td>\n",
       "      <td>0</td>\n",
       "      <td>107.0</td>\n",
       "      <td>2016</td>\n",
       "      <td>December</td>\n",
       "      <td>53</td>\n",
       "      <td>31</td>\n",
       "      <td>2</td>\n",
       "      <td>5</td>\n",
       "      <td>2.0</td>\n",
       "      <td>...</td>\n",
       "      <td>0</td>\n",
       "      <td>0</td>\n",
       "      <td>0</td>\n",
       "      <td>A</td>\n",
       "      <td>0</td>\n",
       "      <td>0</td>\n",
       "      <td>Transient</td>\n",
       "      <td>0</td>\n",
       "      <td>0</td>\n",
       "      <td>7</td>\n",
       "    </tr>\n",
       "  </tbody>\n",
       "</table>\n",
       "<p>15 rows × 25 columns</p>\n",
       "</div>"
      ],
      "text/plain": [
       "          id  is_canceled  lead_time  arrival_date_year arrival_date_month  \\\n",
       "65214  84008            0      258.0               2016           December   \n",
       "65215  84009            0      259.0               2016           December   \n",
       "65216  84012            0      259.0               2016           December   \n",
       "65217  84014            0       14.0               2016           December   \n",
       "65218  84015            0      291.0               2016           December   \n",
       "65219  84016            0       42.0               2016           December   \n",
       "65220  84022            0       23.0               2016           December   \n",
       "65221  84023            0       42.0               2016           December   \n",
       "65222  84050            0       96.0               2016           December   \n",
       "65223  84056            0       23.0               2016           December   \n",
       "65224  84057            0       23.0               2016           December   \n",
       "65225  84063            0       53.0               2016           December   \n",
       "65226  84094            0        7.0               2016           December   \n",
       "65227  84117            0       17.0               2016           December   \n",
       "65228  84121            0      107.0               2016           December   \n",
       "\n",
       "       arrival_date_week_number  arrival_date_day_of_month  \\\n",
       "65214                        53                         28   \n",
       "65215                        53                         28   \n",
       "65216                        53                         28   \n",
       "65217                        53                         28   \n",
       "65218                        53                         28   \n",
       "65219                        53                         31   \n",
       "65220                        53                         30   \n",
       "65221                        53                         29   \n",
       "65222                        53                         31   \n",
       "65223                        53                         30   \n",
       "65224                        53                         30   \n",
       "65225                        53                         31   \n",
       "65226                        53                         31   \n",
       "65227                        53                         30   \n",
       "65228                        53                         31   \n",
       "\n",
       "       stays_in_weekend_nights  stays_in_week_nights  adults  ...  \\\n",
       "65214                        2                     5     1.0  ...   \n",
       "65215                        2                     5     2.0  ...   \n",
       "65216                        2                     5     2.0  ...   \n",
       "65217                        2                     5     2.0  ...   \n",
       "65218                        2                     5     2.0  ...   \n",
       "65219                        2                     2     2.0  ...   \n",
       "65220                        2                     3     2.0  ...   \n",
       "65221                        2                     5     2.0  ...   \n",
       "65222                        2                     3     2.0  ...   \n",
       "65223                        2                     4     2.0  ...   \n",
       "65224                        2                     4     2.0  ...   \n",
       "65225                        2                     3     2.0  ...   \n",
       "65226                        2                     4     2.0  ...   \n",
       "65227                        2                     5     2.0  ...   \n",
       "65228                        2                     5     2.0  ...   \n",
       "\n",
       "       is_repeated_guest  previous_cancellations  \\\n",
       "65214                  0                       0   \n",
       "65215                  0                       0   \n",
       "65216                  0                       0   \n",
       "65217                  0                       0   \n",
       "65218                  0                       0   \n",
       "65219                  0                       0   \n",
       "65220                  0                       0   \n",
       "65221                  0                       0   \n",
       "65222                  0                       0   \n",
       "65223                  0                       0   \n",
       "65224                  0                       0   \n",
       "65225                  0                       0   \n",
       "65226                  0                       0   \n",
       "65227                  0                       0   \n",
       "65228                  0                       0   \n",
       "\n",
       "      previous_bookings_not_canceled reserved_room_type booking_changes  \\\n",
       "65214                              0   B                              2   \n",
       "65215                              0   B                              3   \n",
       "65216                              0   A                              3   \n",
       "65217                              0   A                              0   \n",
       "65218                              0   A                              0   \n",
       "65219                              0   A                              1   \n",
       "65220                              0   D                              1   \n",
       "65221                              0   E                              0   \n",
       "65222                              0   A                              0   \n",
       "65223                              0   D                              0   \n",
       "65224                              0   D                              0   \n",
       "65225                              0   D                              0   \n",
       "65226                              0   D                              0   \n",
       "65227                              0   A                              0   \n",
       "65228                              0   A                              0   \n",
       "\n",
       "       days_in_waiting_list  customer_type  required_car_parking_spaces  \\\n",
       "65214                     0      Transient                            0   \n",
       "65215                     0      Transient                            0   \n",
       "65216                     0      Transient                            0   \n",
       "65217                     0      Transient                            0   \n",
       "65218                     0      Transient                            0   \n",
       "65219                     0      Transient                            0   \n",
       "65220                     0      Transient                            0   \n",
       "65221                     0      Transient                            0   \n",
       "65222                     0      Transient                            0   \n",
       "65223                     0      Transient                            0   \n",
       "65224                     0      Transient                            0   \n",
       "65225                     0      Transient                            0   \n",
       "65226                     0      Transient                            0   \n",
       "65227                     0      Transient                            0   \n",
       "65228                     0      Transient                            0   \n",
       "\n",
       "      total_of_special_requests  total_nights  \n",
       "65214                         3             7  \n",
       "65215                         3             7  \n",
       "65216                         3             7  \n",
       "65217                         1             7  \n",
       "65218                         0             7  \n",
       "65219                         1             4  \n",
       "65220                         3             5  \n",
       "65221                         0             7  \n",
       "65222                         0             5  \n",
       "65223                         2             6  \n",
       "65224                         2             6  \n",
       "65225                         3             5  \n",
       "65226                         1             6  \n",
       "65227                         1             7  \n",
       "65228                         0             7  \n",
       "\n",
       "[15 rows x 25 columns]"
      ]
     },
     "metadata": {},
     "output_type": "display_data"
    }
   ],
   "source": [
    "display(df_train.tail(15))\n",
    "#Столбец id удалить хотелось, пока не заглянул в tail и не увидел, что они не дублируют первый столбец, который без названия"
   ]
  },
  {
   "cell_type": "code",
   "execution_count": 6,
   "metadata": {},
   "outputs": [
    {
     "data": {
      "text/plain": [
       "array([ 74.,  62.,  71., 172.,  52., 143.,  21.,  89.,  48.,  31.,  20.,\n",
       "       173.,  23.,  46., 149.,  44.,  68.,   6.,  43., 112.,  59.,  93.,\n",
       "         4., 115., 187.,  11.,   2.,  15.,  66., 113., 125., 161., 154.,\n",
       "         1.,   0.,  35.,  37.,  60., 129.,  78.,  10.,  82.,   8.,  22.,\n",
       "        33., 108.,  87., 106.,  45.,  40.,  17.,   5.,  16.,   3.,  41.,\n",
       "       135., 123., 128.,  47.,  12., 124., 160.,  58.,  65., 281.,  24.,\n",
       "        30.,  27.,   9.,  94., 219.,  84.,  79.,  72.,  36., 292., 186.,\n",
       "        85., 169., 166.,  28.,  83., 111.,  54., 200.,  80., 102.,  95.,\n",
       "       170., 307., 298.,  55.,  77.,  32.,  25., 238.,   7.,  19., 211.,\n",
       "       137.,  39.,  18., 206.,  42., 179., 205., 142.,  38.,  92.,  56.,\n",
       "        29., 119.,  73., 320.,  34., 127.,  69.,  13., 140.,  14., 164.,\n",
       "        51.,  70., 120.,  76., 105.,  50., 191.,  26.,  75., 116., 184.,\n",
       "        53.,  49.,  63., 194., 167., 312., 171., 218.,  86., 100., 146.,\n",
       "        64., 148.,  81.,  88.,  57., 339., 332., 133., 208.,  61., 177.,\n",
       "       157., 278., 285., 210., 232., 139., 134., 204., 201., 216., 340.,\n",
       "       350., 214., 226., 273., 103., 136., 176., 180., 192., 175., 145.,\n",
       "       162., 174., 117., 255., 364., 121., 240., 152., 252., 223., 155.,\n",
       "       351., 313., 233., 212., 188., 217., 220., 141., 203., 153., 246.,\n",
       "       261.,  90., 230., 159., 224.,  98., 229., 272., 267., 239., 158.,\n",
       "       132., 131., 221., 104., 144., 126., 228., 287.,  96., 213., 296.,\n",
       "       234.,  67., 253., 266., 245., 225., 302., 215., 109., 251., 243.,\n",
       "       308., 209., 237., 202., 183., 295., 227., 319., 257., 156., 231.,\n",
       "       303., 288., 150., 189., 338., 101., 305., 284., 258., 322., 107.,\n",
       "       178., 333., 165., 262., 207., 300., 263., 259., 280., 317., 352.,\n",
       "       297., 355., 311., 337., 198., 222., 247., 289., 314., 279., 138.,\n",
       "       309., 241., 264.,  99., 274., 323., 310., 326., 318., 321.,  91.,\n",
       "       304., 122., 193., 114., 130.,  97., 151., 110., 254., 250., 248.,\n",
       "       368., 331., 277., 147., 244., 282., 294., 336., 325., 275., 163.,\n",
       "       330., 196., 353., 197., 268., 271., 269., 270., 345., 334., 168.,\n",
       "       256., 181., 118., 182., 372., 195., 335., 199., 358., 357., 329.,\n",
       "       328., 265., 306., 291., 342., 315., 301., 344., 327., 236., 185.,\n",
       "       190., 276., 290., 260., 361., 286., 299., 249., 347., 283., 293.,\n",
       "       316., 349., 356., 359., 242., 235., 346., 348., 373., 324., 366.,\n",
       "       365., 341., 354., 343., 367.])"
      ]
     },
     "execution_count": 6,
     "metadata": {},
     "output_type": "execute_result"
    }
   ],
   "source": [
    "df_train['lead_time'].unique()\n",
    "df_test['lead_time'].unique()"
   ]
  },
  {
   "cell_type": "markdown",
   "metadata": {},
   "source": [
    "Убедились, что все значения в lead_time целочисленные, можно поменять тип данных на соответствующий. Проверим еще и \"вещественные\" исчисления людей от мала до велика - adults, children & babies."
   ]
  },
  {
   "cell_type": "markdown",
   "metadata": {},
   "source": [
    "<div class=\"alert alert-success\">\n",
    "<b>Комментарий ревьюера:\n",
    "&#9989;</b> Хорошо! </div>"
   ]
  },
  {
   "cell_type": "code",
   "execution_count": 7,
   "metadata": {},
   "outputs": [
    {
     "data": {
      "text/plain": [
       "0.0     64777\n",
       "1.0       447\n",
       "2.0         3\n",
       "9.0         1\n",
       "10.0        1\n",
       "Name: babies, dtype: int64"
      ]
     },
     "execution_count": 7,
     "metadata": {},
     "output_type": "execute_result"
    }
   ],
   "source": [
    "df_train['adults'].unique()\n",
    "df_train['children'].unique()\n",
    "df_train['babies'].unique()\n",
    "df_train['babies'].value_counts()"
   ]
  },
  {
   "cell_type": "markdown",
   "metadata": {},
   "source": [
    "Все значения целые, но напрягают 9-10 babies. Обрежем тренировочный датафрейм на эти две строчки. В тестовом таких проблем нет. Заменим все значения на целочисленные:"
   ]
  },
  {
   "cell_type": "markdown",
   "metadata": {},
   "source": [
    "<div class=\"alert alert-success\">\n",
    "<b>Комментарий ревьюера:\n",
    "&#9989;</b> Хорошо! </div>"
   ]
  },
  {
   "cell_type": "code",
   "execution_count": 8,
   "metadata": {
    "scrolled": false
   },
   "outputs": [
    {
     "name": "stdout",
     "output_type": "stream",
     "text": [
      "<class 'pandas.core.frame.DataFrame'>\n",
      "Int64Index: 65227 entries, 0 to 65228\n",
      "Data columns (total 25 columns):\n",
      " #   Column                          Non-Null Count  Dtype \n",
      "---  ------                          --------------  ----- \n",
      " 0   id                              65227 non-null  int64 \n",
      " 1   is_canceled                     65227 non-null  int64 \n",
      " 2   lead_time                       65227 non-null  int64 \n",
      " 3   arrival_date_year               65227 non-null  int64 \n",
      " 4   arrival_date_month              65227 non-null  object\n",
      " 5   arrival_date_week_number        65227 non-null  int64 \n",
      " 6   arrival_date_day_of_month       65227 non-null  int64 \n",
      " 7   stays_in_weekend_nights         65227 non-null  int64 \n",
      " 8   stays_in_week_nights            65227 non-null  int64 \n",
      " 9   adults                          65227 non-null  int64 \n",
      " 10  children                        65227 non-null  int64 \n",
      " 11  babies                          65227 non-null  int64 \n",
      " 12  meal                            65227 non-null  object\n",
      " 13  country                         65227 non-null  object\n",
      " 14  distribution_channel            65227 non-null  object\n",
      " 15  is_repeated_guest               65227 non-null  int64 \n",
      " 16  previous_cancellations          65227 non-null  int64 \n",
      " 17  previous_bookings_not_canceled  65227 non-null  int64 \n",
      " 18  reserved_room_type              65227 non-null  object\n",
      " 19  booking_changes                 65227 non-null  int64 \n",
      " 20  days_in_waiting_list            65227 non-null  int64 \n",
      " 21  customer_type                   65227 non-null  object\n",
      " 22  required_car_parking_spaces     65227 non-null  int64 \n",
      " 23  total_of_special_requests       65227 non-null  int64 \n",
      " 24  total_nights                    65227 non-null  int64 \n",
      "dtypes: int64(19), object(6)\n",
      "memory usage: 12.9+ MB\n"
     ]
    }
   ],
   "source": [
    "df_train = df_train.loc[df_train['babies'] <= 2]\n",
    "\n",
    "df_test['babies'].unique()\n",
    "\n",
    "df_test['children'].unique()\n",
    "df_train['lead_time'] = df_train['lead_time'].astype('int')\n",
    "df_test['lead_time'] = df_test['lead_time'].astype('int')\n",
    "df_train['adults'] = df_train['adults'].astype('int')\n",
    "df_test['adults'] = df_test['adults'].astype('int')\n",
    "df_train['children'] = df_train['children'].astype('int')\n",
    "df_test['children'] = df_test['children'].astype('int')\n",
    "df_train['babies'] = df_train['babies'].astype('int')\n",
    "df_test['babies'] = df_test['babies'].astype('int')\n",
    "df_train.info()"
   ]
  },
  {
   "cell_type": "code",
   "execution_count": 9,
   "metadata": {
    "scrolled": true
   },
   "outputs": [
    {
     "data": {
      "text/plain": [
       "array(['BB       ', 'FB       ', 'HB       ', 'SC       ', 'SC'],\n",
       "      dtype=object)"
      ]
     },
     "execution_count": 9,
     "metadata": {},
     "output_type": "execute_result"
    }
   ],
   "source": [
    "df_train['meal'].value_counts()\n",
    "df_train['meal'].unique()"
   ]
  },
  {
   "cell_type": "markdown",
   "metadata": {},
   "source": [
    "Кажется, у нас лишние пробелы в параметрах включенного в бронь питания. BB, FB & HB с пробелами проблем вызывать не должны, то SC с пробелами и без надо слить в одно."
   ]
  },
  {
   "cell_type": "markdown",
   "metadata": {},
   "source": [
    "<div class=\"alert alert-success\">\n",
    "<b>Комментарий ревьюера:\n",
    "&#9989;</b> Хорошо! Можно еще использовать str.strip()</div>"
   ]
  },
  {
   "cell_type": "code",
   "execution_count": 10,
   "metadata": {},
   "outputs": [
    {
     "data": {
      "text/plain": [
       "BB           24684\n",
       "SC            5293\n",
       "HB            2399\n",
       "FB              36\n",
       "Name: meal, dtype: int64"
      ]
     },
     "execution_count": 10,
     "metadata": {},
     "output_type": "execute_result"
    }
   ],
   "source": [
    "df_train['meal'] = df_train['meal'].replace('SC       ', 'SC')\n",
    "df_train['meal'].value_counts()\n",
    "df_test['meal'].value_counts()\n",
    "df_test['meal'] = df_test['meal'].replace('SC       ', 'SC')\n",
    "df_test['meal'].value_counts()"
   ]
  },
  {
   "cell_type": "code",
   "execution_count": 11,
   "metadata": {},
   "outputs": [
    {
     "data": {
      "text/plain": [
       "October      9254\n",
       "September    8782\n",
       "August       6678\n",
       "November     5761\n",
       "July         5718\n",
       "December     5497\n",
       "April        4804\n",
       "May          4677\n",
       "June         4659\n",
       "March        4148\n",
       "February     3358\n",
       "January      1891\n",
       "Name: arrival_date_month, dtype: int64"
      ]
     },
     "execution_count": 11,
     "metadata": {},
     "output_type": "execute_result"
    }
   ],
   "source": [
    "df_train['arrival_date_month'].value_counts()"
   ]
  },
  {
   "cell_type": "code",
   "execution_count": 12,
   "metadata": {},
   "outputs": [
    {
     "data": {
      "text/plain": [
       "array(['GBR', 'PRT', 'ESP', 'IRL', 'FRA', 'ROU', 'NOR', 'USA', 'DEU',\n",
       "       'BEL', 'CHE', 'CN', 'GRC', 'NLD', 'ARG', 'RUS', 'SWE', 'POL',\n",
       "       'EST', 'CZE', 'ITA', 'FIN', 'DNK', 'MOZ', 'BWA', 'LUX', 'BRA',\n",
       "       'SVN', 'ALB', 'CHN', 'MEX', 'MAR', 'SMR', 'LVA', 'CHL', 'AUT',\n",
       "       'LTU', 'TUR', 'ISR', 'IND', 'CYM', 'AUS', 'CPV', 'ZWE', 'DZA',\n",
       "       'KOR', 'CRI', 'HUN', 'TUN', 'ARE', 'HRV', 'HKG', 'IRN', 'GIB',\n",
       "       'JEY', 'URY', 'ZAF', 'COL', 'GGY', 'KWT', 'CYP', 'KAZ', 'THA',\n",
       "       'DOM', 'NGA', 'BLR', 'VEN', 'UKR', 'ARM', 'JPN', 'LKA', 'MYS',\n",
       "       'BIH', 'MUS', 'OMN', 'SUR', 'JAM', 'BGR', 'CIV', 'SRB', 'JOR',\n",
       "       'SYR', 'PHL', 'PRI', 'SGP', 'BDI', 'LBN', 'AGO', 'VNM', 'AZE',\n",
       "       'PLW', 'NZL', 'EGY', 'MDV', 'CMR', 'MLT', 'SVK', 'MWI', 'STP',\n",
       "       'TWN', 'IDN', 'SEN', 'PER', 'SAU', 'KNA', 'ETH', 'ECU', 'IRQ',\n",
       "       'AND', 'HND', 'PAK', 'GEO', 'ZMB', 'QAT', 'KHM', 'MCO', 'BGD',\n",
       "       'ISL', 'UZB', 'IMN', 'TJK', 'NIC', 'BEN', 'MAC', 'VGB', 'TZA',\n",
       "       'GAB', 'MKD', 'TMP', 'GLP', 'KEN', 'LIE', 'MMR', 'PAN', 'BFA',\n",
       "       'LBY', 'GNB', 'MLI', 'BHR', 'NAM', 'BOL', 'SYC', 'PRY', 'BRB',\n",
       "       'ABW', 'SLV', 'DMA', 'CUB', 'PYF', 'UGA', 'GUY', 'LCA', 'ATA',\n",
       "       'RWA', 'MNE'], dtype=object)"
      ]
     },
     "execution_count": 12,
     "metadata": {},
     "output_type": "execute_result"
    }
   ],
   "source": [
    "df_train['country'].unique()"
   ]
  },
  {
   "cell_type": "code",
   "execution_count": 13,
   "metadata": {},
   "outputs": [
    {
     "name": "stdout",
     "output_type": "stream",
     "text": [
      "PRT    28830\n",
      "FRA     5974\n",
      "GBR     5108\n",
      "ESP     4900\n",
      "DEU     3887\n",
      "ITA     2327\n",
      "IRL     1445\n",
      "BEL     1245\n",
      "NLD     1166\n",
      "BRA     1088\n",
      "USA     1008\n",
      "CHE      874\n",
      "AUT      716\n",
      "SWE      544\n",
      "POL      531\n",
      "CHN      526\n",
      "CN       488\n",
      "ISR      375\n",
      "RUS      296\n",
      "NOR      261\n",
      "ROU      249\n",
      "FIN      241\n",
      "DNK      201\n",
      "TUR      169\n",
      "AUS      168\n",
      "AGO      140\n",
      "LUX      134\n",
      "MAR      125\n",
      "HUN      121\n",
      "JPN      117\n",
      "CZE      112\n",
      "ARG      107\n",
      "IND       88\n",
      "SRB       81\n",
      "GRC       81\n",
      "KOR       68\n",
      "DZA       62\n",
      "HRV       54\n",
      "IRN       52\n",
      "THA       48\n",
      "Name: country, dtype: int64\n"
     ]
    }
   ],
   "source": [
    "print(df_train['country'].value_counts().head(40))"
   ]
  },
  {
   "cell_type": "markdown",
   "metadata": {},
   "source": [
    "Очень интересная графа с увлекательными кодами. \n",
    "Скорее всего, это коды ISO \n",
    "https://bankirsha.com/country.classifier.html\n",
    "\n",
    "Но выделяется TMP (гугл подсказывает, что это временный код Восточного Тимора, заведомо небольшой (статистически вряд ли значимой) территории, и особенно CN, который, вероятно, 2-буквенный аналог CHN (Китая). Среди 2-х и 3-хбуквенных обозначений ISO буквосочетание \"CN\" встречается, помимо Китая, только у островов Питкэрн, но вряд ли оттуда столько же туристов, сколько из Китая/Израиля/Польши (соседних по таблице выше стран). Делаем вывод, что CN = CHN и соединяем их в одно.\n",
    "\n",
    "Судя по топу таблицы, предположу, что данные собирались по Португалии (максимальное количество туристов - внутренний туризм, затем страны западной Европы, США и Китай, что логично, но высоко расположены Бразилия (португалоговорящая страна) и в топ-30 также выделяются Ангола (еще одна португалоговорящая) и Марокко (по сути, соседи через Гибралтар). А если расширить до топ-40, добавится еще соседний Алжир (DZA). Есть ли способ узнать, верна ли моя гипотеза? :)"
   ]
  },
  {
   "cell_type": "markdown",
   "metadata": {},
   "source": [
    "<div class=\"alert alert-success\">\n",
    "<b>Комментарий ревьюера:\n",
    "    &#9989;</b> Да, ты прав)<a href = \"https://laendercode.net/en/\">Codes</a></div>"
   ]
  },
  {
   "cell_type": "markdown",
   "metadata": {},
   "source": [
    "<div class=\"alert alert-info\"> <b>Комментарий студента:</b>  Вопрос был, действительно ли исходные данные из каких-то португальских отелей) </div>"
   ]
  },
  {
   "cell_type": "code",
   "execution_count": 14,
   "metadata": {},
   "outputs": [
    {
     "data": {
      "text/plain": [
       "PRT    9887\n",
       "GBR    3927\n",
       "FRA    3477\n",
       "DEU    2378\n",
       "ESP    1932\n",
       "ITA    1153\n",
       "IRL    1060\n",
       "BEL     882\n",
       "BRA     881\n",
       "CHN     864\n",
       "USA     774\n",
       "NLD     709\n",
       "CHE     602\n",
       "AUT     439\n",
       "SWE     318\n",
       "ISR     264\n",
       "NOR     242\n",
       "POL     239\n",
       "RUS     217\n",
       "DNK     182\n",
       "Name: country, dtype: int64"
      ]
     },
     "execution_count": 14,
     "metadata": {},
     "output_type": "execute_result"
    }
   ],
   "source": [
    "df_train['country'] = df_train['country'].replace('CN', 'CHN')\n",
    "df_train['country'].value_counts().head(20)\n",
    "df_test['country'].value_counts().head(20)\n",
    "df_test['country'] = df_test['country'].replace('CN', 'CHN')\n",
    "df_test['country'].value_counts().head(20)"
   ]
  },
  {
   "cell_type": "markdown",
   "metadata": {},
   "source": [
    "В остальных столбцах типа object существенных проблем не выявлено."
   ]
  },
  {
   "cell_type": "code",
   "execution_count": 15,
   "metadata": {},
   "outputs": [
    {
     "data": {
      "text/plain": [
       "array(['A', 'E', 'G', 'D', 'F', 'C', 'B'], dtype=object)"
      ]
     },
     "execution_count": 15,
     "metadata": {},
     "output_type": "execute_result"
    }
   ],
   "source": [
    "df_train['distribution_channel'].unique()\n",
    "df_train['customer_type'].unique()\n",
    "df_train['reserved_room_type'].unique() #опять пробелы, но анализу они, кажется, не должны помешать. а вот при расчете прибыли помешали, убираю)\n",
    "df_train['reserved_room_type'] = df_train['reserved_room_type'].str.replace(\"               \", \"\")\n",
    "df_test['reserved_room_type'] = df_test['reserved_room_type'].str.replace(\"               \", \"\")\n",
    "df_train['reserved_room_type'].unique()\n",
    "df_test['reserved_room_type'].unique()"
   ]
  },
  {
   "cell_type": "code",
   "execution_count": 16,
   "metadata": {
    "scrolled": false
   },
   "outputs": [
    {
     "name": "stdout",
     "output_type": "stream",
     "text": [
      "<class 'pandas.core.frame.DataFrame'>\n",
      "RangeIndex: 32412 entries, 0 to 32411\n",
      "Data columns (total 25 columns):\n",
      " #   Column                          Non-Null Count  Dtype \n",
      "---  ------                          --------------  ----- \n",
      " 0   id                              32412 non-null  int64 \n",
      " 1   is_canceled                     32412 non-null  int64 \n",
      " 2   lead_time                       32412 non-null  int64 \n",
      " 3   arrival_date_year               32412 non-null  int64 \n",
      " 4   arrival_date_month              32412 non-null  object\n",
      " 5   arrival_date_week_number        32412 non-null  int64 \n",
      " 6   arrival_date_day_of_month       32412 non-null  int64 \n",
      " 7   stays_in_weekend_nights         32412 non-null  int64 \n",
      " 8   stays_in_week_nights            32412 non-null  int64 \n",
      " 9   adults                          32412 non-null  int64 \n",
      " 10  children                        32412 non-null  int64 \n",
      " 11  babies                          32412 non-null  int64 \n",
      " 12  meal                            32412 non-null  object\n",
      " 13  country                         32412 non-null  object\n",
      " 14  distribution_channel            32412 non-null  object\n",
      " 15  is_repeated_guest               32412 non-null  int64 \n",
      " 16  previous_cancellations          32412 non-null  int64 \n",
      " 17  previous_bookings_not_canceled  32412 non-null  int64 \n",
      " 18  reserved_room_type              32412 non-null  object\n",
      " 19  booking_changes                 32412 non-null  int64 \n",
      " 20  days_in_waiting_list            32412 non-null  int64 \n",
      " 21  customer_type                   32412 non-null  object\n",
      " 22  required_car_parking_spaces     32412 non-null  int64 \n",
      " 23  total_of_special_requests       32412 non-null  int64 \n",
      " 24  total_nights                    32412 non-null  int64 \n",
      "dtypes: int64(19), object(6)\n",
      "memory usage: 6.2+ MB\n"
     ]
    }
   ],
   "source": [
    "df_test.info() # теперь надо проверить числовые столбцы на выбросы. все по одному ручками?.."
   ]
  },
  {
   "cell_type": "code",
   "execution_count": 17,
   "metadata": {},
   "outputs": [
    {
     "data": {
      "text/html": [
       "<div>\n",
       "<style scoped>\n",
       "    .dataframe tbody tr th:only-of-type {\n",
       "        vertical-align: middle;\n",
       "    }\n",
       "\n",
       "    .dataframe tbody tr th {\n",
       "        vertical-align: top;\n",
       "    }\n",
       "\n",
       "    .dataframe thead th {\n",
       "        text-align: right;\n",
       "    }\n",
       "</style>\n",
       "<table border=\"1\" class=\"dataframe\">\n",
       "  <thead>\n",
       "    <tr style=\"text-align: right;\">\n",
       "      <th></th>\n",
       "      <th>id</th>\n",
       "      <th>is_canceled</th>\n",
       "      <th>lead_time</th>\n",
       "      <th>arrival_date_year</th>\n",
       "      <th>arrival_date_week_number</th>\n",
       "      <th>arrival_date_day_of_month</th>\n",
       "      <th>stays_in_weekend_nights</th>\n",
       "      <th>stays_in_week_nights</th>\n",
       "      <th>adults</th>\n",
       "      <th>children</th>\n",
       "      <th>babies</th>\n",
       "      <th>is_repeated_guest</th>\n",
       "      <th>previous_cancellations</th>\n",
       "      <th>previous_bookings_not_canceled</th>\n",
       "      <th>booking_changes</th>\n",
       "      <th>days_in_waiting_list</th>\n",
       "      <th>required_car_parking_spaces</th>\n",
       "      <th>total_of_special_requests</th>\n",
       "      <th>total_nights</th>\n",
       "    </tr>\n",
       "  </thead>\n",
       "  <tbody>\n",
       "    <tr>\n",
       "      <th>count</th>\n",
       "      <td>65227.000000</td>\n",
       "      <td>65227.000000</td>\n",
       "      <td>65227.000000</td>\n",
       "      <td>65227.000000</td>\n",
       "      <td>65227.000000</td>\n",
       "      <td>65227.000000</td>\n",
       "      <td>65227.000000</td>\n",
       "      <td>65227.000000</td>\n",
       "      <td>65227.000000</td>\n",
       "      <td>65227.000000</td>\n",
       "      <td>65227.000000</td>\n",
       "      <td>65227.000000</td>\n",
       "      <td>65227.000000</td>\n",
       "      <td>65227.000000</td>\n",
       "      <td>65227.000000</td>\n",
       "      <td>65227.000000</td>\n",
       "      <td>65227.000000</td>\n",
       "      <td>65227.000000</td>\n",
       "      <td>65227.000000</td>\n",
       "    </tr>\n",
       "    <tr>\n",
       "      <th>mean</th>\n",
       "      <td>43544.011345</td>\n",
       "      <td>0.368620</td>\n",
       "      <td>96.340135</td>\n",
       "      <td>2015.719027</td>\n",
       "      <td>31.340043</td>\n",
       "      <td>15.847946</td>\n",
       "      <td>0.825180</td>\n",
       "      <td>2.224815</td>\n",
       "      <td>1.836586</td>\n",
       "      <td>0.074892</td>\n",
       "      <td>0.006945</td>\n",
       "      <td>0.027151</td>\n",
       "      <td>0.128919</td>\n",
       "      <td>0.107716</td>\n",
       "      <td>0.194245</td>\n",
       "      <td>3.334524</td>\n",
       "      <td>0.056648</td>\n",
       "      <td>0.512763</td>\n",
       "      <td>3.049995</td>\n",
       "    </tr>\n",
       "    <tr>\n",
       "      <th>std</th>\n",
       "      <td>25615.123796</td>\n",
       "      <td>0.482434</td>\n",
       "      <td>96.128157</td>\n",
       "      <td>0.449478</td>\n",
       "      <td>13.463709</td>\n",
       "      <td>8.748283</td>\n",
       "      <td>0.853472</td>\n",
       "      <td>1.355004</td>\n",
       "      <td>0.480241</td>\n",
       "      <td>0.334248</td>\n",
       "      <td>0.083599</td>\n",
       "      <td>0.162526</td>\n",
       "      <td>0.965340</td>\n",
       "      <td>1.326658</td>\n",
       "      <td>0.593830</td>\n",
       "      <td>18.239876</td>\n",
       "      <td>0.232098</td>\n",
       "      <td>0.752597</td>\n",
       "      <td>1.738130</td>\n",
       "    </tr>\n",
       "    <tr>\n",
       "      <th>min</th>\n",
       "      <td>0.000000</td>\n",
       "      <td>0.000000</td>\n",
       "      <td>0.000000</td>\n",
       "      <td>2015.000000</td>\n",
       "      <td>1.000000</td>\n",
       "      <td>1.000000</td>\n",
       "      <td>0.000000</td>\n",
       "      <td>0.000000</td>\n",
       "      <td>0.000000</td>\n",
       "      <td>0.000000</td>\n",
       "      <td>0.000000</td>\n",
       "      <td>0.000000</td>\n",
       "      <td>0.000000</td>\n",
       "      <td>0.000000</td>\n",
       "      <td>0.000000</td>\n",
       "      <td>0.000000</td>\n",
       "      <td>0.000000</td>\n",
       "      <td>0.000000</td>\n",
       "      <td>1.000000</td>\n",
       "    </tr>\n",
       "    <tr>\n",
       "      <th>25%</th>\n",
       "      <td>19107.000000</td>\n",
       "      <td>0.000000</td>\n",
       "      <td>17.000000</td>\n",
       "      <td>2015.000000</td>\n",
       "      <td>21.000000</td>\n",
       "      <td>8.000000</td>\n",
       "      <td>0.000000</td>\n",
       "      <td>1.000000</td>\n",
       "      <td>2.000000</td>\n",
       "      <td>0.000000</td>\n",
       "      <td>0.000000</td>\n",
       "      <td>0.000000</td>\n",
       "      <td>0.000000</td>\n",
       "      <td>0.000000</td>\n",
       "      <td>0.000000</td>\n",
       "      <td>0.000000</td>\n",
       "      <td>0.000000</td>\n",
       "      <td>0.000000</td>\n",
       "      <td>2.000000</td>\n",
       "    </tr>\n",
       "    <tr>\n",
       "      <th>50%</th>\n",
       "      <td>40554.000000</td>\n",
       "      <td>0.000000</td>\n",
       "      <td>64.000000</td>\n",
       "      <td>2016.000000</td>\n",
       "      <td>34.000000</td>\n",
       "      <td>16.000000</td>\n",
       "      <td>1.000000</td>\n",
       "      <td>2.000000</td>\n",
       "      <td>2.000000</td>\n",
       "      <td>0.000000</td>\n",
       "      <td>0.000000</td>\n",
       "      <td>0.000000</td>\n",
       "      <td>0.000000</td>\n",
       "      <td>0.000000</td>\n",
       "      <td>0.000000</td>\n",
       "      <td>0.000000</td>\n",
       "      <td>0.000000</td>\n",
       "      <td>0.000000</td>\n",
       "      <td>3.000000</td>\n",
       "    </tr>\n",
       "    <tr>\n",
       "      <th>75%</th>\n",
       "      <td>67414.500000</td>\n",
       "      <td>1.000000</td>\n",
       "      <td>151.000000</td>\n",
       "      <td>2016.000000</td>\n",
       "      <td>42.000000</td>\n",
       "      <td>23.000000</td>\n",
       "      <td>2.000000</td>\n",
       "      <td>3.000000</td>\n",
       "      <td>2.000000</td>\n",
       "      <td>0.000000</td>\n",
       "      <td>0.000000</td>\n",
       "      <td>0.000000</td>\n",
       "      <td>0.000000</td>\n",
       "      <td>0.000000</td>\n",
       "      <td>0.000000</td>\n",
       "      <td>0.000000</td>\n",
       "      <td>0.000000</td>\n",
       "      <td>1.000000</td>\n",
       "      <td>4.000000</td>\n",
       "    </tr>\n",
       "    <tr>\n",
       "      <th>max</th>\n",
       "      <td>84121.000000</td>\n",
       "      <td>1.000000</td>\n",
       "      <td>374.000000</td>\n",
       "      <td>2016.000000</td>\n",
       "      <td>53.000000</td>\n",
       "      <td>31.000000</td>\n",
       "      <td>4.000000</td>\n",
       "      <td>6.000000</td>\n",
       "      <td>4.000000</td>\n",
       "      <td>3.000000</td>\n",
       "      <td>2.000000</td>\n",
       "      <td>1.000000</td>\n",
       "      <td>26.000000</td>\n",
       "      <td>58.000000</td>\n",
       "      <td>17.000000</td>\n",
       "      <td>259.000000</td>\n",
       "      <td>3.000000</td>\n",
       "      <td>5.000000</td>\n",
       "      <td>10.000000</td>\n",
       "    </tr>\n",
       "  </tbody>\n",
       "</table>\n",
       "</div>"
      ],
      "text/plain": [
       "                 id   is_canceled     lead_time  arrival_date_year  \\\n",
       "count  65227.000000  65227.000000  65227.000000       65227.000000   \n",
       "mean   43544.011345      0.368620     96.340135        2015.719027   \n",
       "std    25615.123796      0.482434     96.128157           0.449478   \n",
       "min        0.000000      0.000000      0.000000        2015.000000   \n",
       "25%    19107.000000      0.000000     17.000000        2015.000000   \n",
       "50%    40554.000000      0.000000     64.000000        2016.000000   \n",
       "75%    67414.500000      1.000000    151.000000        2016.000000   \n",
       "max    84121.000000      1.000000    374.000000        2016.000000   \n",
       "\n",
       "       arrival_date_week_number  arrival_date_day_of_month  \\\n",
       "count              65227.000000               65227.000000   \n",
       "mean                  31.340043                  15.847946   \n",
       "std                   13.463709                   8.748283   \n",
       "min                    1.000000                   1.000000   \n",
       "25%                   21.000000                   8.000000   \n",
       "50%                   34.000000                  16.000000   \n",
       "75%                   42.000000                  23.000000   \n",
       "max                   53.000000                  31.000000   \n",
       "\n",
       "       stays_in_weekend_nights  stays_in_week_nights        adults  \\\n",
       "count             65227.000000          65227.000000  65227.000000   \n",
       "mean                  0.825180              2.224815      1.836586   \n",
       "std                   0.853472              1.355004      0.480241   \n",
       "min                   0.000000              0.000000      0.000000   \n",
       "25%                   0.000000              1.000000      2.000000   \n",
       "50%                   1.000000              2.000000      2.000000   \n",
       "75%                   2.000000              3.000000      2.000000   \n",
       "max                   4.000000              6.000000      4.000000   \n",
       "\n",
       "           children        babies  is_repeated_guest  previous_cancellations  \\\n",
       "count  65227.000000  65227.000000       65227.000000            65227.000000   \n",
       "mean       0.074892      0.006945           0.027151                0.128919   \n",
       "std        0.334248      0.083599           0.162526                0.965340   \n",
       "min        0.000000      0.000000           0.000000                0.000000   \n",
       "25%        0.000000      0.000000           0.000000                0.000000   \n",
       "50%        0.000000      0.000000           0.000000                0.000000   \n",
       "75%        0.000000      0.000000           0.000000                0.000000   \n",
       "max        3.000000      2.000000           1.000000               26.000000   \n",
       "\n",
       "       previous_bookings_not_canceled  booking_changes  days_in_waiting_list  \\\n",
       "count                    65227.000000     65227.000000          65227.000000   \n",
       "mean                         0.107716         0.194245              3.334524   \n",
       "std                          1.326658         0.593830             18.239876   \n",
       "min                          0.000000         0.000000              0.000000   \n",
       "25%                          0.000000         0.000000              0.000000   \n",
       "50%                          0.000000         0.000000              0.000000   \n",
       "75%                          0.000000         0.000000              0.000000   \n",
       "max                         58.000000        17.000000            259.000000   \n",
       "\n",
       "       required_car_parking_spaces  total_of_special_requests  total_nights  \n",
       "count                 65227.000000               65227.000000  65227.000000  \n",
       "mean                      0.056648                   0.512763      3.049995  \n",
       "std                       0.232098                   0.752597      1.738130  \n",
       "min                       0.000000                   0.000000      1.000000  \n",
       "25%                       0.000000                   0.000000      2.000000  \n",
       "50%                       0.000000                   0.000000      3.000000  \n",
       "75%                       0.000000                   1.000000      4.000000  \n",
       "max                       3.000000                   5.000000     10.000000  "
      ]
     },
     "execution_count": 17,
     "metadata": {},
     "output_type": "execute_result"
    }
   ],
   "source": [
    "df_train.describe()\n",
    "# выходит, отменяют бронь 36,9% клиентов?\n",
    "# дальше всё-таки графики, но по всем ли столбцам?"
   ]
  },
  {
   "cell_type": "markdown",
   "metadata": {},
   "source": [
    "Из любопытного в цифрах:\n",
    "- достаточно высокий разброс (std) по времени бронирования - 96 дней. Первый квартиль - 17 дней, 3й - 151. То есть довольно часто бронируют сильно заранее, даже раньше, чем за год, и разбросы в этих числах большие."
   ]
  },
  {
   "cell_type": "markdown",
   "metadata": {},
   "source": [
    "Смущают строки с бронированиями, совершенными без участия взрослых. Даже если предположить, что возможно, что семья с большим количеством детей бронирует несколько номеров, в т.ч. отдельный для больших подростков, с точки зрения системы бронирования и законодательства это выглядит странно, поэтому лучше уберем такие строки."
   ]
  },
  {
   "cell_type": "code",
   "execution_count": 27,
   "metadata": {},
   "outputs": [
    {
     "data": {
      "text/html": [
       "<div>\n",
       "<style scoped>\n",
       "    .dataframe tbody tr th:only-of-type {\n",
       "        vertical-align: middle;\n",
       "    }\n",
       "\n",
       "    .dataframe tbody tr th {\n",
       "        vertical-align: top;\n",
       "    }\n",
       "\n",
       "    .dataframe thead th {\n",
       "        text-align: right;\n",
       "    }\n",
       "</style>\n",
       "<table border=\"1\" class=\"dataframe\">\n",
       "  <thead>\n",
       "    <tr style=\"text-align: right;\">\n",
       "      <th></th>\n",
       "      <th>id</th>\n",
       "      <th>is_canceled</th>\n",
       "      <th>lead_time</th>\n",
       "      <th>arrival_date_year</th>\n",
       "      <th>arrival_date_month</th>\n",
       "      <th>arrival_date_week_number</th>\n",
       "      <th>arrival_date_day_of_month</th>\n",
       "      <th>stays_in_weekend_nights</th>\n",
       "      <th>stays_in_week_nights</th>\n",
       "      <th>adults</th>\n",
       "      <th>...</th>\n",
       "      <th>is_repeated_guest</th>\n",
       "      <th>previous_cancellations</th>\n",
       "      <th>previous_bookings_not_canceled</th>\n",
       "      <th>reserved_room_type</th>\n",
       "      <th>booking_changes</th>\n",
       "      <th>days_in_waiting_list</th>\n",
       "      <th>customer_type</th>\n",
       "      <th>required_car_parking_spaces</th>\n",
       "      <th>total_of_special_requests</th>\n",
       "      <th>total_nights</th>\n",
       "    </tr>\n",
       "  </thead>\n",
       "  <tbody>\n",
       "    <tr>\n",
       "      <th>0</th>\n",
       "      <td>6086</td>\n",
       "      <td>1</td>\n",
       "      <td>74</td>\n",
       "      <td>2017</td>\n",
       "      <td>January</td>\n",
       "      <td>1</td>\n",
       "      <td>1</td>\n",
       "      <td>1</td>\n",
       "      <td>0</td>\n",
       "      <td>2</td>\n",
       "      <td>...</td>\n",
       "      <td>0</td>\n",
       "      <td>0</td>\n",
       "      <td>0</td>\n",
       "      <td>A</td>\n",
       "      <td>0</td>\n",
       "      <td>0</td>\n",
       "      <td>Transient</td>\n",
       "      <td>0</td>\n",
       "      <td>0</td>\n",
       "      <td>1</td>\n",
       "    </tr>\n",
       "    <tr>\n",
       "      <th>1</th>\n",
       "      <td>6087</td>\n",
       "      <td>1</td>\n",
       "      <td>62</td>\n",
       "      <td>2017</td>\n",
       "      <td>January</td>\n",
       "      <td>1</td>\n",
       "      <td>1</td>\n",
       "      <td>2</td>\n",
       "      <td>2</td>\n",
       "      <td>2</td>\n",
       "      <td>...</td>\n",
       "      <td>0</td>\n",
       "      <td>0</td>\n",
       "      <td>0</td>\n",
       "      <td>A</td>\n",
       "      <td>0</td>\n",
       "      <td>0</td>\n",
       "      <td>Transient</td>\n",
       "      <td>0</td>\n",
       "      <td>1</td>\n",
       "      <td>4</td>\n",
       "    </tr>\n",
       "    <tr>\n",
       "      <th>2</th>\n",
       "      <td>6088</td>\n",
       "      <td>1</td>\n",
       "      <td>62</td>\n",
       "      <td>2017</td>\n",
       "      <td>January</td>\n",
       "      <td>1</td>\n",
       "      <td>1</td>\n",
       "      <td>2</td>\n",
       "      <td>2</td>\n",
       "      <td>2</td>\n",
       "      <td>...</td>\n",
       "      <td>0</td>\n",
       "      <td>0</td>\n",
       "      <td>0</td>\n",
       "      <td>A</td>\n",
       "      <td>0</td>\n",
       "      <td>0</td>\n",
       "      <td>Transient</td>\n",
       "      <td>0</td>\n",
       "      <td>1</td>\n",
       "      <td>4</td>\n",
       "    </tr>\n",
       "    <tr>\n",
       "      <th>3</th>\n",
       "      <td>6089</td>\n",
       "      <td>1</td>\n",
       "      <td>71</td>\n",
       "      <td>2017</td>\n",
       "      <td>January</td>\n",
       "      <td>1</td>\n",
       "      <td>1</td>\n",
       "      <td>2</td>\n",
       "      <td>2</td>\n",
       "      <td>1</td>\n",
       "      <td>...</td>\n",
       "      <td>0</td>\n",
       "      <td>0</td>\n",
       "      <td>0</td>\n",
       "      <td>A</td>\n",
       "      <td>0</td>\n",
       "      <td>0</td>\n",
       "      <td>Transient</td>\n",
       "      <td>0</td>\n",
       "      <td>1</td>\n",
       "      <td>4</td>\n",
       "    </tr>\n",
       "    <tr>\n",
       "      <th>4</th>\n",
       "      <td>6090</td>\n",
       "      <td>1</td>\n",
       "      <td>172</td>\n",
       "      <td>2017</td>\n",
       "      <td>January</td>\n",
       "      <td>1</td>\n",
       "      <td>1</td>\n",
       "      <td>2</td>\n",
       "      <td>5</td>\n",
       "      <td>2</td>\n",
       "      <td>...</td>\n",
       "      <td>0</td>\n",
       "      <td>0</td>\n",
       "      <td>0</td>\n",
       "      <td>A</td>\n",
       "      <td>0</td>\n",
       "      <td>0</td>\n",
       "      <td>Transient</td>\n",
       "      <td>0</td>\n",
       "      <td>0</td>\n",
       "      <td>7</td>\n",
       "    </tr>\n",
       "    <tr>\n",
       "      <th>...</th>\n",
       "      <td>...</td>\n",
       "      <td>...</td>\n",
       "      <td>...</td>\n",
       "      <td>...</td>\n",
       "      <td>...</td>\n",
       "      <td>...</td>\n",
       "      <td>...</td>\n",
       "      <td>...</td>\n",
       "      <td>...</td>\n",
       "      <td>...</td>\n",
       "      <td>...</td>\n",
       "      <td>...</td>\n",
       "      <td>...</td>\n",
       "      <td>...</td>\n",
       "      <td>...</td>\n",
       "      <td>...</td>\n",
       "      <td>...</td>\n",
       "      <td>...</td>\n",
       "      <td>...</td>\n",
       "      <td>...</td>\n",
       "      <td>...</td>\n",
       "    </tr>\n",
       "    <tr>\n",
       "      <th>32407</th>\n",
       "      <td>97899</td>\n",
       "      <td>0</td>\n",
       "      <td>164</td>\n",
       "      <td>2017</td>\n",
       "      <td>August</td>\n",
       "      <td>35</td>\n",
       "      <td>31</td>\n",
       "      <td>2</td>\n",
       "      <td>4</td>\n",
       "      <td>2</td>\n",
       "      <td>...</td>\n",
       "      <td>0</td>\n",
       "      <td>0</td>\n",
       "      <td>0</td>\n",
       "      <td>A</td>\n",
       "      <td>0</td>\n",
       "      <td>0</td>\n",
       "      <td>Transient</td>\n",
       "      <td>0</td>\n",
       "      <td>0</td>\n",
       "      <td>6</td>\n",
       "    </tr>\n",
       "    <tr>\n",
       "      <th>32408</th>\n",
       "      <td>97900</td>\n",
       "      <td>0</td>\n",
       "      <td>21</td>\n",
       "      <td>2017</td>\n",
       "      <td>August</td>\n",
       "      <td>35</td>\n",
       "      <td>30</td>\n",
       "      <td>2</td>\n",
       "      <td>5</td>\n",
       "      <td>2</td>\n",
       "      <td>...</td>\n",
       "      <td>0</td>\n",
       "      <td>0</td>\n",
       "      <td>0</td>\n",
       "      <td>A</td>\n",
       "      <td>0</td>\n",
       "      <td>0</td>\n",
       "      <td>Transient</td>\n",
       "      <td>0</td>\n",
       "      <td>2</td>\n",
       "      <td>7</td>\n",
       "    </tr>\n",
       "    <tr>\n",
       "      <th>32409</th>\n",
       "      <td>97901</td>\n",
       "      <td>0</td>\n",
       "      <td>23</td>\n",
       "      <td>2017</td>\n",
       "      <td>August</td>\n",
       "      <td>35</td>\n",
       "      <td>30</td>\n",
       "      <td>2</td>\n",
       "      <td>5</td>\n",
       "      <td>2</td>\n",
       "      <td>...</td>\n",
       "      <td>0</td>\n",
       "      <td>0</td>\n",
       "      <td>0</td>\n",
       "      <td>A</td>\n",
       "      <td>0</td>\n",
       "      <td>0</td>\n",
       "      <td>Transient</td>\n",
       "      <td>0</td>\n",
       "      <td>0</td>\n",
       "      <td>7</td>\n",
       "    </tr>\n",
       "    <tr>\n",
       "      <th>32410</th>\n",
       "      <td>97902</td>\n",
       "      <td>0</td>\n",
       "      <td>34</td>\n",
       "      <td>2017</td>\n",
       "      <td>August</td>\n",
       "      <td>35</td>\n",
       "      <td>31</td>\n",
       "      <td>2</td>\n",
       "      <td>5</td>\n",
       "      <td>2</td>\n",
       "      <td>...</td>\n",
       "      <td>0</td>\n",
       "      <td>0</td>\n",
       "      <td>0</td>\n",
       "      <td>D</td>\n",
       "      <td>0</td>\n",
       "      <td>0</td>\n",
       "      <td>Transient</td>\n",
       "      <td>0</td>\n",
       "      <td>4</td>\n",
       "      <td>7</td>\n",
       "    </tr>\n",
       "    <tr>\n",
       "      <th>32411</th>\n",
       "      <td>97903</td>\n",
       "      <td>0</td>\n",
       "      <td>109</td>\n",
       "      <td>2017</td>\n",
       "      <td>August</td>\n",
       "      <td>35</td>\n",
       "      <td>31</td>\n",
       "      <td>2</td>\n",
       "      <td>5</td>\n",
       "      <td>2</td>\n",
       "      <td>...</td>\n",
       "      <td>0</td>\n",
       "      <td>0</td>\n",
       "      <td>0</td>\n",
       "      <td>A</td>\n",
       "      <td>0</td>\n",
       "      <td>0</td>\n",
       "      <td>Transient</td>\n",
       "      <td>0</td>\n",
       "      <td>0</td>\n",
       "      <td>7</td>\n",
       "    </tr>\n",
       "  </tbody>\n",
       "</table>\n",
       "<p>32343 rows × 25 columns</p>\n",
       "</div>"
      ],
      "text/plain": [
       "          id  is_canceled  lead_time  arrival_date_year arrival_date_month  \\\n",
       "0       6086            1         74               2017            January   \n",
       "1       6087            1         62               2017            January   \n",
       "2       6088            1         62               2017            January   \n",
       "3       6089            1         71               2017            January   \n",
       "4       6090            1        172               2017            January   \n",
       "...      ...          ...        ...                ...                ...   \n",
       "32407  97899            0        164               2017             August   \n",
       "32408  97900            0         21               2017             August   \n",
       "32409  97901            0         23               2017             August   \n",
       "32410  97902            0         34               2017             August   \n",
       "32411  97903            0        109               2017             August   \n",
       "\n",
       "       arrival_date_week_number  arrival_date_day_of_month  \\\n",
       "0                             1                          1   \n",
       "1                             1                          1   \n",
       "2                             1                          1   \n",
       "3                             1                          1   \n",
       "4                             1                          1   \n",
       "...                         ...                        ...   \n",
       "32407                        35                         31   \n",
       "32408                        35                         30   \n",
       "32409                        35                         30   \n",
       "32410                        35                         31   \n",
       "32411                        35                         31   \n",
       "\n",
       "       stays_in_weekend_nights  stays_in_week_nights  adults  ...  \\\n",
       "0                            1                     0       2  ...   \n",
       "1                            2                     2       2  ...   \n",
       "2                            2                     2       2  ...   \n",
       "3                            2                     2       1  ...   \n",
       "4                            2                     5       2  ...   \n",
       "...                        ...                   ...     ...  ...   \n",
       "32407                        2                     4       2  ...   \n",
       "32408                        2                     5       2  ...   \n",
       "32409                        2                     5       2  ...   \n",
       "32410                        2                     5       2  ...   \n",
       "32411                        2                     5       2  ...   \n",
       "\n",
       "       is_repeated_guest  previous_cancellations  \\\n",
       "0                      0                       0   \n",
       "1                      0                       0   \n",
       "2                      0                       0   \n",
       "3                      0                       0   \n",
       "4                      0                       0   \n",
       "...                  ...                     ...   \n",
       "32407                  0                       0   \n",
       "32408                  0                       0   \n",
       "32409                  0                       0   \n",
       "32410                  0                       0   \n",
       "32411                  0                       0   \n",
       "\n",
       "      previous_bookings_not_canceled reserved_room_type booking_changes  \\\n",
       "0                                  0                  A               0   \n",
       "1                                  0                  A               0   \n",
       "2                                  0                  A               0   \n",
       "3                                  0                  A               0   \n",
       "4                                  0                  A               0   \n",
       "...                              ...                ...             ...   \n",
       "32407                              0                  A               0   \n",
       "32408                              0                  A               0   \n",
       "32409                              0                  A               0   \n",
       "32410                              0                  D               0   \n",
       "32411                              0                  A               0   \n",
       "\n",
       "       days_in_waiting_list  customer_type  required_car_parking_spaces  \\\n",
       "0                         0      Transient                            0   \n",
       "1                         0      Transient                            0   \n",
       "2                         0      Transient                            0   \n",
       "3                         0      Transient                            0   \n",
       "4                         0      Transient                            0   \n",
       "...                     ...            ...                          ...   \n",
       "32407                     0      Transient                            0   \n",
       "32408                     0      Transient                            0   \n",
       "32409                     0      Transient                            0   \n",
       "32410                     0      Transient                            0   \n",
       "32411                     0      Transient                            0   \n",
       "\n",
       "      total_of_special_requests  total_nights  \n",
       "0                             0             1  \n",
       "1                             1             4  \n",
       "2                             1             4  \n",
       "3                             1             4  \n",
       "4                             0             7  \n",
       "...                         ...           ...  \n",
       "32407                         0             6  \n",
       "32408                         2             7  \n",
       "32409                         0             7  \n",
       "32410                         4             7  \n",
       "32411                         0             7  \n",
       "\n",
       "[32343 rows x 25 columns]"
      ]
     },
     "execution_count": 27,
     "metadata": {},
     "output_type": "execute_result"
    }
   ],
   "source": [
    "df_train.query('adults == 0')\n",
    "df_test.query('adults == 0')\n",
    "\n",
    "df_train = df_train.query('adults != 0')\n",
    "df_train\n",
    "df_test = df_test.query('adults != 0')\n",
    "df_test"
   ]
  },
  {
   "cell_type": "markdown",
   "metadata": {},
   "source": [
    "<div class=\"alert alert-danger\">\n",
    "<b>Комментарий ревьюера: &#10060; </b> Как насчет нулевых значений в adults? По закону бронировать можно только с 18 лет </div>"
   ]
  },
  {
   "cell_type": "markdown",
   "metadata": {},
   "source": [
    "<div class=\"alert alert-info\"> <b>Комментарий студента:</b> Ой, точно, думал об этом, но увлекся графиками и забыл... </div>"
   ]
  },
  {
   "cell_type": "code",
   "execution_count": 28,
   "metadata": {
    "scrolled": true
   },
   "outputs": [
    {
     "data": {
      "image/png": "[encoded data removed]",
      "text/plain": [
       "<Figure size 432x288 with 1 Axes>"
      ]
     },
     "metadata": {
      "needs_background": "light"
     },
     "output_type": "display_data"
    }
   ],
   "source": [
    "#df_train.boxplot(column='is_canceled')\n",
    "#plt.show()\n",
    "df_train['is_canceled'].hist(bins=2)\n",
    "plt.show()\n",
    "# отменены почти 25000 броней из 63 тысяч"
   ]
  },
  {
   "cell_type": "markdown",
   "metadata": {},
   "source": [
    "<div class=\"alert alert-success\">\n",
    "<b>Комментарий ревьюера:\n",
    "    &#9989;</b> Хорошо!</div>"
   ]
  },
  {
   "cell_type": "markdown",
   "metadata": {},
   "source": [
    "#### EDA\n",
    "Нас интересует взаимосвязь разнообразных признаков с отменой брони клиентом, поэтому постараемся в рамках EDA эту взаимосвязь увидеть."
   ]
  },
  {
   "cell_type": "code",
   "execution_count": 29,
   "metadata": {},
   "outputs": [
    {
     "data": {
      "image/png": "[encoded data removed]",
      "text/plain": [
       "<Figure size 432x288 with 2 Axes>"
      ]
     },
     "metadata": {
      "needs_background": "light"
     },
     "output_type": "display_data"
    },
    {
     "name": "stdout",
     "output_type": "stream",
     "text": [
      "0.32859604709635837\n"
     ]
    },
    {
     "data": {
      "image/png": "[encoded data removed]",
      "text/plain": [
       "<Figure size 720x360 with 1 Axes>"
      ]
     },
     "metadata": {
      "needs_background": "light"
     },
     "output_type": "display_data"
    }
   ],
   "source": [
    "df_train.plot(x='lead_time', y='is_canceled', kind='hexbin', gridsize=6, sharex=False, grid=True)\n",
    "plt.show()\n",
    "\n",
    "print(df_train['lead_time'].corr(df_train['is_canceled']))\n",
    "df_train.pivot_table(index='lead_time', values='is_canceled').plot(grid=True, figsize=(10,5))\n",
    "plt.show()"
   ]
  },
  {
   "cell_type": "markdown",
   "metadata": {},
   "source": [
    "1) корреляция времени бронирования и риска отмены брони есть, но ее коэффициент достаточно низкий (0,33). На графике видим, что брони до 20 дней отменяются крайне редко. По диаграмме hexbin кажется, что самый высокий риск отмены почему-то у броней, сделанных за 20-90 дней до заезда, но график через pivot_table со средними значениями это не подтверждает. Зато видим, что сделанные сильно заранее (от 250 дней) брони чаще \"пикуют\" у единицы (отмена брони), чем у нуля. Полагаю, что такие резкие пики из-за малого количества бронирований с разным количеством lead_time от 250 и выше дней, поэтому и средние значения по этим дням сильнее разбросаны. Но тенденция с ростом видна (что и подтверждается слабой, но корреляцией).\n"
   ]
  },
  {
   "cell_type": "markdown",
   "metadata": {},
   "source": [
    "<div class=\"alert alert-success\">\n",
    "<b>Комментарий ревьюера:\n",
    "    &#9989;</b> Хорошо!</div>"
   ]
  },
  {
   "cell_type": "code",
   "execution_count": 30,
   "metadata": {},
   "outputs": [
    {
     "data": {
      "image/png": "[encoded data removed]",
      "text/plain": [
       "<Figure size 432x288 with 2 Axes>"
      ]
     },
     "metadata": {
      "needs_background": "light"
     },
     "output_type": "display_data"
    },
    {
     "name": "stdout",
     "output_type": "stream",
     "text": [
      "-0.03069795414402434\n"
     ]
    },
    {
     "data": {
      "image/png": "[encoded data removed]",
      "text/plain": [
       "<Figure size 720x360 with 1 Axes>"
      ]
     },
     "metadata": {
      "needs_background": "light"
     },
     "output_type": "display_data"
    }
   ],
   "source": [
    "df_train.plot(x='arrival_date_year', y='is_canceled', kind='hexbin', gridsize=4, sharex=False, grid=True)\n",
    "plt.show()\n",
    "\n",
    "print(df_train['arrival_date_year'].corr(df_train['is_canceled']))\n",
    "\n",
    "df_train.pivot_table(index='arrival_date_year', values='is_canceled').plot(grid=True, figsize=(10,5))\n",
    "plt.show()"
   ]
  },
  {
   "cell_type": "markdown",
   "metadata": {},
   "source": [
    "2) с годом заезда взаимосвязь увидеть сложно, в 2016 просто больше броней вообще и отмененных в частности. Разница на диаграмме по средним значениям также несущественная."
   ]
  },
  {
   "cell_type": "code",
   "execution_count": 31,
   "metadata": {},
   "outputs": [
    {
     "name": "stdout",
     "output_type": "stream",
     "text": [
      "0.012751181495991295\n"
     ]
    },
    {
     "data": {
      "image/png": "[encoded data removed]",
      "text/plain": [
       "<Figure size 1440x360 with 1 Axes>"
      ]
     },
     "metadata": {
      "needs_background": "light"
     },
     "output_type": "display_data"
    }
   ],
   "source": [
    "print(df_train['arrival_date_week_number'].corr(df_train['is_canceled']))\n",
    "df_train.pivot_table(index='arrival_date_week_number', values='is_canceled').plot(grid=True, figsize=(20,5), xlim=(0,52)).set_xticks(range(0, 52))\n",
    "plt.show()\n"
   ]
  },
  {
   "cell_type": "markdown",
   "metadata": {},
   "source": [
    "3) редко отменяются брони в начале года (2-4 недели). При заезде на 25й неделе (середина/конец июня) отменяется каждая вторая бронь, но значение резко падает на 26й неделе, поэтому скорее статистическая погрешность, чем явная тенденция. Зато в пике на 50й неделе можно усмотреть рождественские каникулы, это недалеко от 25 декабря."
   ]
  },
  {
   "cell_type": "markdown",
   "metadata": {},
   "source": [
    "<div class=\"alert alert-success\">\n",
    "<b>Комментарий ревьюера:\n",
    "    &#9989;</b> Хорошо!</div>"
   ]
  },
  {
   "cell_type": "code",
   "execution_count": 32,
   "metadata": {},
   "outputs": [
    {
     "name": "stdout",
     "output_type": "stream",
     "text": [
      "-0.0018107183807303804\n"
     ]
    },
    {
     "data": {
      "image/png": "[encoded data removed]",
      "text/plain": [
       "<Figure size 720x360 with 1 Axes>"
      ]
     },
     "metadata": {
      "needs_background": "light"
     },
     "output_type": "display_data"
    }
   ],
   "source": [
    "print(df_train['arrival_date_day_of_month'].corr(df_train['is_canceled']))\n",
    "\n",
    "df_train.pivot_table(index='arrival_date_day_of_month', values='is_canceled').plot(grid=True, figsize=(10,5))\n",
    "plt.show()"
   ]
  },
  {
   "cell_type": "markdown",
   "metadata": {},
   "source": [
    "4) реже всего отменяются брони с заездом 6, 11, 21 и 23 числа. Чаще всего - с заездом 17го числа месяца. Но какие-то выводы по этим данным тяжело делать. "
   ]
  },
  {
   "cell_type": "code",
   "execution_count": 33,
   "metadata": {},
   "outputs": [
    {
     "name": "stdout",
     "output_type": "stream",
     "text": [
      "-0.013851908699453904\n"
     ]
    },
    {
     "data": {
      "image/png": "[encoded data removed]",
      "text/plain": [
       "<Figure size 288x288 with 1 Axes>"
      ]
     },
     "metadata": {
      "needs_background": "light"
     },
     "output_type": "display_data"
    },
    {
     "data": {
      "image/png": "[encoded data removed]",
      "text/plain": [
       "<Figure size 720x288 with 1 Axes>"
      ]
     },
     "metadata": {
      "needs_background": "light"
     },
     "output_type": "display_data"
    }
   ],
   "source": [
    "print(df_train['stays_in_weekend_nights'].corr(df_train['is_canceled']))\n",
    "\n",
    "df_train.plot(x='stays_in_weekend_nights',\n",
    "    y='is_canceled',\n",
    "    style='o-',\n",
    "    xlim=(0, 5),\n",
    "    ylim=(1, 0),\n",
    "    figsize=(4, 4),\n",
    "    grid=True)\n",
    "\n",
    "df_train.pivot_table(index='stays_in_weekend_nights', values='is_canceled').plot(grid=True, figsize=(10,4))\n",
    "plt.show()"
   ]
  },
  {
   "cell_type": "markdown",
   "metadata": {},
   "source": [
    "Очень интересная паутинка получилась от экспериментов с графиками. Как ее интерпретировать, правда, непонятно :))\n",
    "\n",
    "А по pivot_table можно сделать вывод, что чуть меньше риск отмены брони, если она захватывает 4 дня уикенда (т.е. продолжается от 9 дней). Но разница значений по оси Y кажется незначительной."
   ]
  },
  {
   "cell_type": "code",
   "execution_count": 34,
   "metadata": {},
   "outputs": [
    {
     "data": {
      "image/png": "[encoded data removed]",
      "text/plain": [
       "<Figure size 432x288 with 2 Axes>"
      ]
     },
     "metadata": {
      "needs_background": "light"
     },
     "output_type": "display_data"
    },
    {
     "name": "stdout",
     "output_type": "stream",
     "text": [
      "0.010439381717932874\n"
     ]
    },
    {
     "data": {
      "image/png": "[encoded data removed]",
      "text/plain": [
       "<Figure size 576x288 with 1 Axes>"
      ]
     },
     "metadata": {
      "needs_background": "light"
     },
     "output_type": "display_data"
    }
   ],
   "source": [
    "df_train.plot(x='stays_in_week_nights', y='is_canceled', kind='hexbin', gridsize=4, sharex=False, grid=True)\n",
    "plt.show()\n",
    "\n",
    "print(df_train['stays_in_week_nights'].corr(df_train['is_canceled']))\n",
    "df_train.pivot_table(index='stays_in_week_nights', values='is_canceled').plot(grid=True, figsize=(8,4))\n",
    "plt.show()"
   ]
  },
  {
   "cell_type": "markdown",
   "metadata": {},
   "source": [
    "Отменяется почти каждая вторая бронь на 2 будних дня. Реже всего отменяются брони на выходные, не затрагивающие будни. Но есть ощущение, что два графика хорошо бы как-то сочетать для полноты картины. "
   ]
  },
  {
   "cell_type": "code",
   "execution_count": 35,
   "metadata": {},
   "outputs": [
    {
     "name": "stdout",
     "output_type": "stream",
     "text": [
      "0.04441823299426236\n",
      "-0.017192923445698234\n",
      "-0.032443484327085756\n"
     ]
    },
    {
     "data": {
      "image/png": "[encoded data removed]",
      "text/plain": [
       "<Figure size 432x216 with 1 Axes>"
      ]
     },
     "metadata": {
      "needs_background": "light"
     },
     "output_type": "display_data"
    },
    {
     "data": {
      "image/png": "[encoded data removed]",
      "text/plain": [
       "<Figure size 432x216 with 1 Axes>"
      ]
     },
     "metadata": {
      "needs_background": "light"
     },
     "output_type": "display_data"
    },
    {
     "data": {
      "image/png": "[encoded data removed]",
      "text/plain": [
       "<Figure size 432x216 with 1 Axes>"
      ]
     },
     "metadata": {
      "needs_background": "light"
     },
     "output_type": "display_data"
    },
    {
     "data": {
      "text/html": [
       "<div>\n",
       "<style scoped>\n",
       "    .dataframe tbody tr th:only-of-type {\n",
       "        vertical-align: middle;\n",
       "    }\n",
       "\n",
       "    .dataframe tbody tr th {\n",
       "        vertical-align: top;\n",
       "    }\n",
       "\n",
       "    .dataframe thead th {\n",
       "        text-align: right;\n",
       "    }\n",
       "</style>\n",
       "<table border=\"1\" class=\"dataframe\">\n",
       "  <thead>\n",
       "    <tr style=\"text-align: right;\">\n",
       "      <th></th>\n",
       "      <th>id</th>\n",
       "      <th>is_canceled</th>\n",
       "      <th>lead_time</th>\n",
       "      <th>arrival_date_year</th>\n",
       "      <th>arrival_date_month</th>\n",
       "      <th>arrival_date_week_number</th>\n",
       "      <th>arrival_date_day_of_month</th>\n",
       "      <th>stays_in_weekend_nights</th>\n",
       "      <th>stays_in_week_nights</th>\n",
       "      <th>adults</th>\n",
       "      <th>...</th>\n",
       "      <th>is_repeated_guest</th>\n",
       "      <th>previous_cancellations</th>\n",
       "      <th>previous_bookings_not_canceled</th>\n",
       "      <th>reserved_room_type</th>\n",
       "      <th>booking_changes</th>\n",
       "      <th>days_in_waiting_list</th>\n",
       "      <th>customer_type</th>\n",
       "      <th>required_car_parking_spaces</th>\n",
       "      <th>total_of_special_requests</th>\n",
       "      <th>total_nights</th>\n",
       "    </tr>\n",
       "  </thead>\n",
       "  <tbody>\n",
       "    <tr>\n",
       "      <th>7390</th>\n",
       "      <td>9778</td>\n",
       "      <td>0</td>\n",
       "      <td>174</td>\n",
       "      <td>2015</td>\n",
       "      <td>September</td>\n",
       "      <td>36</td>\n",
       "      <td>2</td>\n",
       "      <td>1</td>\n",
       "      <td>4</td>\n",
       "      <td>2</td>\n",
       "      <td>...</td>\n",
       "      <td>0</td>\n",
       "      <td>0</td>\n",
       "      <td>0</td>\n",
       "      <td>C</td>\n",
       "      <td>1</td>\n",
       "      <td>0</td>\n",
       "      <td>Transient</td>\n",
       "      <td>1</td>\n",
       "      <td>2</td>\n",
       "      <td>5</td>\n",
       "    </tr>\n",
       "    <tr>\n",
       "      <th>15516</th>\n",
       "      <td>18273</td>\n",
       "      <td>0</td>\n",
       "      <td>47</td>\n",
       "      <td>2016</td>\n",
       "      <td>November</td>\n",
       "      <td>45</td>\n",
       "      <td>5</td>\n",
       "      <td>2</td>\n",
       "      <td>2</td>\n",
       "      <td>2</td>\n",
       "      <td>...</td>\n",
       "      <td>0</td>\n",
       "      <td>0</td>\n",
       "      <td>0</td>\n",
       "      <td>A</td>\n",
       "      <td>1</td>\n",
       "      <td>0</td>\n",
       "      <td>Transient</td>\n",
       "      <td>0</td>\n",
       "      <td>5</td>\n",
       "      <td>4</td>\n",
       "    </tr>\n",
       "    <tr>\n",
       "      <th>56050</th>\n",
       "      <td>74658</td>\n",
       "      <td>0</td>\n",
       "      <td>4</td>\n",
       "      <td>2016</td>\n",
       "      <td>July</td>\n",
       "      <td>31</td>\n",
       "      <td>27</td>\n",
       "      <td>0</td>\n",
       "      <td>4</td>\n",
       "      <td>2</td>\n",
       "      <td>...</td>\n",
       "      <td>0</td>\n",
       "      <td>0</td>\n",
       "      <td>0</td>\n",
       "      <td>D</td>\n",
       "      <td>2</td>\n",
       "      <td>0</td>\n",
       "      <td>Transient</td>\n",
       "      <td>0</td>\n",
       "      <td>2</td>\n",
       "      <td>4</td>\n",
       "    </tr>\n",
       "  </tbody>\n",
       "</table>\n",
       "<p>3 rows × 25 columns</p>\n",
       "</div>"
      ],
      "text/plain": [
       "          id  is_canceled  lead_time  arrival_date_year arrival_date_month  \\\n",
       "7390    9778            0        174               2015          September   \n",
       "15516  18273            0         47               2016           November   \n",
       "56050  74658            0          4               2016               July   \n",
       "\n",
       "       arrival_date_week_number  arrival_date_day_of_month  \\\n",
       "7390                         36                          2   \n",
       "15516                        45                          5   \n",
       "56050                        31                         27   \n",
       "\n",
       "       stays_in_weekend_nights  stays_in_week_nights  adults  ...  \\\n",
       "7390                         1                     4       2  ...   \n",
       "15516                        2                     2       2  ...   \n",
       "56050                        0                     4       2  ...   \n",
       "\n",
       "       is_repeated_guest  previous_cancellations  \\\n",
       "7390                   0                       0   \n",
       "15516                  0                       0   \n",
       "56050                  0                       0   \n",
       "\n",
       "      previous_bookings_not_canceled reserved_room_type booking_changes  \\\n",
       "7390                               0                  C               1   \n",
       "15516                              0                  A               1   \n",
       "56050                              0                  D               2   \n",
       "\n",
       "       days_in_waiting_list  customer_type  required_car_parking_spaces  \\\n",
       "7390                      0      Transient                            1   \n",
       "15516                     0      Transient                            0   \n",
       "56050                     0      Transient                            0   \n",
       "\n",
       "      total_of_special_requests  total_nights  \n",
       "7390                          2             5  \n",
       "15516                         5             4  \n",
       "56050                         2             4  \n",
       "\n",
       "[3 rows x 25 columns]"
      ]
     },
     "execution_count": 35,
     "metadata": {},
     "output_type": "execute_result"
    }
   ],
   "source": [
    "print(df_train['adults'].corr(df_train['is_canceled']))\n",
    "df_train.pivot_table(index='adults', values='is_canceled').plot(kind='bar', grid=True, figsize=(6,3))\n",
    "\n",
    "print(df_train['children'].corr(df_train['is_canceled']))\n",
    "df_train.pivot_table(index='children', values='is_canceled').plot(kind='bar', grid=True, figsize=(6,3))\n",
    "print(df_train['babies'].corr(df_train['is_canceled']))\n",
    "df_train.pivot_table(index='babies', values='is_canceled').plot(kind='bar', grid=True, figsize=(6,3))\n",
    "plt.show()\n",
    "\n",
    "df_train.query('babies == 1')\n",
    "df_train.query('babies == 2')"
   ]
  },
  {
   "cell_type": "markdown",
   "metadata": {},
   "source": [
    "Взрослые: почти не отменяются брони с 4 взрослыми. Почти каждая вторая - с двумя взрослыми в бронировании.\n",
    "\n",
    "Дети: Разница небольшая, но с одним ребенком шансов на отмену чуть меньше.\n",
    "\n",
    "Младенцы: на 450 бронирований ни одной отмены с двумя младенцами, но всего 3 таких случая. С одним младенцем отменяют меньше, чем без них."
   ]
  },
  {
   "cell_type": "code",
   "execution_count": 36,
   "metadata": {},
   "outputs": [
    {
     "data": {
      "image/png": "[encoded data removed]",
      "text/plain": [
       "<Figure size 216x144 with 1 Axes>"
      ]
     },
     "metadata": {
      "needs_background": "light"
     },
     "output_type": "display_data"
    },
    {
     "name": "stdout",
     "output_type": "stream",
     "text": [
      "-0.04030313264166835\n"
     ]
    }
   ],
   "source": [
    "df_train.pivot_table(index='is_repeated_guest', values='is_canceled').plot(kind='bar', grid=True, figsize=(3,2))\n",
    "plt.show()\n",
    "print(df_train['is_repeated_guest'].corr(df_train['is_canceled']))\n"
   ]
  },
  {
   "cell_type": "markdown",
   "metadata": {},
   "source": [
    "По возвращающимся гостям статистика простая: если бронирует не впервые, то и отменяет реже."
   ]
  },
  {
   "cell_type": "markdown",
   "metadata": {},
   "source": [
    "<div class=\"alert alert-success\">\n",
    "<b>Комментарий ревьюера:\n",
    "    &#9989;</b> Хорошо!</div>"
   ]
  },
  {
   "cell_type": "code",
   "execution_count": 37,
   "metadata": {},
   "outputs": [
    {
     "name": "stdout",
     "output_type": "stream",
     "text": [
      "0.1531263528446997\n"
     ]
    },
    {
     "data": {
      "text/html": [
       "<div>\n",
       "<style scoped>\n",
       "    .dataframe tbody tr th:only-of-type {\n",
       "        vertical-align: middle;\n",
       "    }\n",
       "\n",
       "    .dataframe tbody tr th {\n",
       "        vertical-align: top;\n",
       "    }\n",
       "\n",
       "    .dataframe thead th {\n",
       "        text-align: right;\n",
       "    }\n",
       "</style>\n",
       "<table border=\"1\" class=\"dataframe\">\n",
       "  <thead>\n",
       "    <tr style=\"text-align: right;\">\n",
       "      <th></th>\n",
       "      <th>id</th>\n",
       "      <th>is_canceled</th>\n",
       "      <th>lead_time</th>\n",
       "      <th>arrival_date_year</th>\n",
       "      <th>arrival_date_month</th>\n",
       "      <th>arrival_date_week_number</th>\n",
       "      <th>arrival_date_day_of_month</th>\n",
       "      <th>stays_in_weekend_nights</th>\n",
       "      <th>stays_in_week_nights</th>\n",
       "      <th>adults</th>\n",
       "      <th>...</th>\n",
       "      <th>is_repeated_guest</th>\n",
       "      <th>previous_cancellations</th>\n",
       "      <th>previous_bookings_not_canceled</th>\n",
       "      <th>reserved_room_type</th>\n",
       "      <th>booking_changes</th>\n",
       "      <th>days_in_waiting_list</th>\n",
       "      <th>customer_type</th>\n",
       "      <th>required_car_parking_spaces</th>\n",
       "      <th>total_of_special_requests</th>\n",
       "      <th>total_nights</th>\n",
       "    </tr>\n",
       "  </thead>\n",
       "  <tbody>\n",
       "    <tr>\n",
       "      <th>6273</th>\n",
       "      <td>8602</td>\n",
       "      <td>1</td>\n",
       "      <td>275</td>\n",
       "      <td>2015</td>\n",
       "      <td>October</td>\n",
       "      <td>41</td>\n",
       "      <td>4</td>\n",
       "      <td>2</td>\n",
       "      <td>0</td>\n",
       "      <td>2</td>\n",
       "      <td>...</td>\n",
       "      <td>0</td>\n",
       "      <td>26</td>\n",
       "      <td>0</td>\n",
       "      <td>A</td>\n",
       "      <td>0</td>\n",
       "      <td>0</td>\n",
       "      <td>Transient</td>\n",
       "      <td>0</td>\n",
       "      <td>0</td>\n",
       "      <td>2</td>\n",
       "    </tr>\n",
       "    <tr>\n",
       "      <th>6274</th>\n",
       "      <td>8603</td>\n",
       "      <td>1</td>\n",
       "      <td>275</td>\n",
       "      <td>2015</td>\n",
       "      <td>October</td>\n",
       "      <td>41</td>\n",
       "      <td>4</td>\n",
       "      <td>2</td>\n",
       "      <td>0</td>\n",
       "      <td>2</td>\n",
       "      <td>...</td>\n",
       "      <td>0</td>\n",
       "      <td>26</td>\n",
       "      <td>0</td>\n",
       "      <td>A</td>\n",
       "      <td>0</td>\n",
       "      <td>0</td>\n",
       "      <td>Transient</td>\n",
       "      <td>0</td>\n",
       "      <td>0</td>\n",
       "      <td>2</td>\n",
       "    </tr>\n",
       "    <tr>\n",
       "      <th>6275</th>\n",
       "      <td>8604</td>\n",
       "      <td>1</td>\n",
       "      <td>275</td>\n",
       "      <td>2015</td>\n",
       "      <td>October</td>\n",
       "      <td>41</td>\n",
       "      <td>4</td>\n",
       "      <td>2</td>\n",
       "      <td>0</td>\n",
       "      <td>2</td>\n",
       "      <td>...</td>\n",
       "      <td>0</td>\n",
       "      <td>26</td>\n",
       "      <td>0</td>\n",
       "      <td>A</td>\n",
       "      <td>0</td>\n",
       "      <td>0</td>\n",
       "      <td>Transient</td>\n",
       "      <td>0</td>\n",
       "      <td>0</td>\n",
       "      <td>2</td>\n",
       "    </tr>\n",
       "    <tr>\n",
       "      <th>6276</th>\n",
       "      <td>8605</td>\n",
       "      <td>1</td>\n",
       "      <td>275</td>\n",
       "      <td>2015</td>\n",
       "      <td>October</td>\n",
       "      <td>41</td>\n",
       "      <td>4</td>\n",
       "      <td>2</td>\n",
       "      <td>0</td>\n",
       "      <td>2</td>\n",
       "      <td>...</td>\n",
       "      <td>0</td>\n",
       "      <td>26</td>\n",
       "      <td>0</td>\n",
       "      <td>A</td>\n",
       "      <td>0</td>\n",
       "      <td>0</td>\n",
       "      <td>Transient</td>\n",
       "      <td>0</td>\n",
       "      <td>0</td>\n",
       "      <td>2</td>\n",
       "    </tr>\n",
       "    <tr>\n",
       "      <th>6277</th>\n",
       "      <td>8606</td>\n",
       "      <td>1</td>\n",
       "      <td>275</td>\n",
       "      <td>2015</td>\n",
       "      <td>October</td>\n",
       "      <td>41</td>\n",
       "      <td>4</td>\n",
       "      <td>2</td>\n",
       "      <td>0</td>\n",
       "      <td>2</td>\n",
       "      <td>...</td>\n",
       "      <td>0</td>\n",
       "      <td>26</td>\n",
       "      <td>0</td>\n",
       "      <td>A</td>\n",
       "      <td>0</td>\n",
       "      <td>0</td>\n",
       "      <td>Transient</td>\n",
       "      <td>0</td>\n",
       "      <td>0</td>\n",
       "      <td>2</td>\n",
       "    </tr>\n",
       "    <tr>\n",
       "      <th>6278</th>\n",
       "      <td>8607</td>\n",
       "      <td>1</td>\n",
       "      <td>275</td>\n",
       "      <td>2015</td>\n",
       "      <td>October</td>\n",
       "      <td>41</td>\n",
       "      <td>4</td>\n",
       "      <td>2</td>\n",
       "      <td>0</td>\n",
       "      <td>2</td>\n",
       "      <td>...</td>\n",
       "      <td>0</td>\n",
       "      <td>26</td>\n",
       "      <td>0</td>\n",
       "      <td>A</td>\n",
       "      <td>0</td>\n",
       "      <td>0</td>\n",
       "      <td>Transient</td>\n",
       "      <td>0</td>\n",
       "      <td>0</td>\n",
       "      <td>2</td>\n",
       "    </tr>\n",
       "    <tr>\n",
       "      <th>6279</th>\n",
       "      <td>8608</td>\n",
       "      <td>1</td>\n",
       "      <td>275</td>\n",
       "      <td>2015</td>\n",
       "      <td>October</td>\n",
       "      <td>41</td>\n",
       "      <td>4</td>\n",
       "      <td>2</td>\n",
       "      <td>0</td>\n",
       "      <td>2</td>\n",
       "      <td>...</td>\n",
       "      <td>0</td>\n",
       "      <td>26</td>\n",
       "      <td>0</td>\n",
       "      <td>A</td>\n",
       "      <td>0</td>\n",
       "      <td>0</td>\n",
       "      <td>Transient</td>\n",
       "      <td>0</td>\n",
       "      <td>0</td>\n",
       "      <td>2</td>\n",
       "    </tr>\n",
       "    <tr>\n",
       "      <th>6280</th>\n",
       "      <td>8609</td>\n",
       "      <td>1</td>\n",
       "      <td>275</td>\n",
       "      <td>2015</td>\n",
       "      <td>October</td>\n",
       "      <td>41</td>\n",
       "      <td>4</td>\n",
       "      <td>2</td>\n",
       "      <td>0</td>\n",
       "      <td>2</td>\n",
       "      <td>...</td>\n",
       "      <td>0</td>\n",
       "      <td>26</td>\n",
       "      <td>0</td>\n",
       "      <td>A</td>\n",
       "      <td>0</td>\n",
       "      <td>0</td>\n",
       "      <td>Transient</td>\n",
       "      <td>0</td>\n",
       "      <td>0</td>\n",
       "      <td>2</td>\n",
       "    </tr>\n",
       "    <tr>\n",
       "      <th>6281</th>\n",
       "      <td>8610</td>\n",
       "      <td>1</td>\n",
       "      <td>275</td>\n",
       "      <td>2015</td>\n",
       "      <td>October</td>\n",
       "      <td>41</td>\n",
       "      <td>4</td>\n",
       "      <td>2</td>\n",
       "      <td>0</td>\n",
       "      <td>2</td>\n",
       "      <td>...</td>\n",
       "      <td>0</td>\n",
       "      <td>26</td>\n",
       "      <td>0</td>\n",
       "      <td>A</td>\n",
       "      <td>0</td>\n",
       "      <td>0</td>\n",
       "      <td>Transient</td>\n",
       "      <td>0</td>\n",
       "      <td>0</td>\n",
       "      <td>2</td>\n",
       "    </tr>\n",
       "    <tr>\n",
       "      <th>6282</th>\n",
       "      <td>8611</td>\n",
       "      <td>1</td>\n",
       "      <td>275</td>\n",
       "      <td>2015</td>\n",
       "      <td>October</td>\n",
       "      <td>41</td>\n",
       "      <td>4</td>\n",
       "      <td>2</td>\n",
       "      <td>0</td>\n",
       "      <td>2</td>\n",
       "      <td>...</td>\n",
       "      <td>0</td>\n",
       "      <td>26</td>\n",
       "      <td>0</td>\n",
       "      <td>A</td>\n",
       "      <td>0</td>\n",
       "      <td>0</td>\n",
       "      <td>Transient</td>\n",
       "      <td>0</td>\n",
       "      <td>0</td>\n",
       "      <td>2</td>\n",
       "    </tr>\n",
       "    <tr>\n",
       "      <th>6283</th>\n",
       "      <td>8612</td>\n",
       "      <td>1</td>\n",
       "      <td>275</td>\n",
       "      <td>2015</td>\n",
       "      <td>October</td>\n",
       "      <td>41</td>\n",
       "      <td>4</td>\n",
       "      <td>2</td>\n",
       "      <td>0</td>\n",
       "      <td>2</td>\n",
       "      <td>...</td>\n",
       "      <td>0</td>\n",
       "      <td>26</td>\n",
       "      <td>0</td>\n",
       "      <td>A</td>\n",
       "      <td>0</td>\n",
       "      <td>0</td>\n",
       "      <td>Transient</td>\n",
       "      <td>0</td>\n",
       "      <td>0</td>\n",
       "      <td>2</td>\n",
       "    </tr>\n",
       "    <tr>\n",
       "      <th>6284</th>\n",
       "      <td>8613</td>\n",
       "      <td>1</td>\n",
       "      <td>275</td>\n",
       "      <td>2015</td>\n",
       "      <td>October</td>\n",
       "      <td>41</td>\n",
       "      <td>4</td>\n",
       "      <td>2</td>\n",
       "      <td>0</td>\n",
       "      <td>2</td>\n",
       "      <td>...</td>\n",
       "      <td>0</td>\n",
       "      <td>26</td>\n",
       "      <td>0</td>\n",
       "      <td>A</td>\n",
       "      <td>0</td>\n",
       "      <td>0</td>\n",
       "      <td>Transient</td>\n",
       "      <td>0</td>\n",
       "      <td>0</td>\n",
       "      <td>2</td>\n",
       "    </tr>\n",
       "    <tr>\n",
       "      <th>6285</th>\n",
       "      <td>8614</td>\n",
       "      <td>1</td>\n",
       "      <td>275</td>\n",
       "      <td>2015</td>\n",
       "      <td>October</td>\n",
       "      <td>41</td>\n",
       "      <td>4</td>\n",
       "      <td>2</td>\n",
       "      <td>0</td>\n",
       "      <td>2</td>\n",
       "      <td>...</td>\n",
       "      <td>0</td>\n",
       "      <td>26</td>\n",
       "      <td>0</td>\n",
       "      <td>A</td>\n",
       "      <td>0</td>\n",
       "      <td>0</td>\n",
       "      <td>Transient</td>\n",
       "      <td>0</td>\n",
       "      <td>0</td>\n",
       "      <td>2</td>\n",
       "    </tr>\n",
       "    <tr>\n",
       "      <th>6286</th>\n",
       "      <td>8615</td>\n",
       "      <td>1</td>\n",
       "      <td>275</td>\n",
       "      <td>2015</td>\n",
       "      <td>October</td>\n",
       "      <td>41</td>\n",
       "      <td>4</td>\n",
       "      <td>2</td>\n",
       "      <td>0</td>\n",
       "      <td>2</td>\n",
       "      <td>...</td>\n",
       "      <td>0</td>\n",
       "      <td>26</td>\n",
       "      <td>0</td>\n",
       "      <td>A</td>\n",
       "      <td>0</td>\n",
       "      <td>0</td>\n",
       "      <td>Transient</td>\n",
       "      <td>0</td>\n",
       "      <td>0</td>\n",
       "      <td>2</td>\n",
       "    </tr>\n",
       "    <tr>\n",
       "      <th>6287</th>\n",
       "      <td>8616</td>\n",
       "      <td>1</td>\n",
       "      <td>275</td>\n",
       "      <td>2015</td>\n",
       "      <td>October</td>\n",
       "      <td>41</td>\n",
       "      <td>4</td>\n",
       "      <td>2</td>\n",
       "      <td>0</td>\n",
       "      <td>2</td>\n",
       "      <td>...</td>\n",
       "      <td>0</td>\n",
       "      <td>26</td>\n",
       "      <td>0</td>\n",
       "      <td>A</td>\n",
       "      <td>0</td>\n",
       "      <td>0</td>\n",
       "      <td>Transient</td>\n",
       "      <td>0</td>\n",
       "      <td>0</td>\n",
       "      <td>2</td>\n",
       "    </tr>\n",
       "    <tr>\n",
       "      <th>6288</th>\n",
       "      <td>8617</td>\n",
       "      <td>1</td>\n",
       "      <td>275</td>\n",
       "      <td>2015</td>\n",
       "      <td>October</td>\n",
       "      <td>41</td>\n",
       "      <td>4</td>\n",
       "      <td>2</td>\n",
       "      <td>0</td>\n",
       "      <td>2</td>\n",
       "      <td>...</td>\n",
       "      <td>0</td>\n",
       "      <td>26</td>\n",
       "      <td>0</td>\n",
       "      <td>A</td>\n",
       "      <td>0</td>\n",
       "      <td>0</td>\n",
       "      <td>Transient</td>\n",
       "      <td>0</td>\n",
       "      <td>0</td>\n",
       "      <td>2</td>\n",
       "    </tr>\n",
       "    <tr>\n",
       "      <th>6289</th>\n",
       "      <td>8618</td>\n",
       "      <td>1</td>\n",
       "      <td>275</td>\n",
       "      <td>2015</td>\n",
       "      <td>October</td>\n",
       "      <td>41</td>\n",
       "      <td>4</td>\n",
       "      <td>2</td>\n",
       "      <td>0</td>\n",
       "      <td>2</td>\n",
       "      <td>...</td>\n",
       "      <td>0</td>\n",
       "      <td>26</td>\n",
       "      <td>0</td>\n",
       "      <td>A</td>\n",
       "      <td>0</td>\n",
       "      <td>0</td>\n",
       "      <td>Transient</td>\n",
       "      <td>0</td>\n",
       "      <td>0</td>\n",
       "      <td>2</td>\n",
       "    </tr>\n",
       "    <tr>\n",
       "      <th>6290</th>\n",
       "      <td>8619</td>\n",
       "      <td>1</td>\n",
       "      <td>275</td>\n",
       "      <td>2015</td>\n",
       "      <td>October</td>\n",
       "      <td>41</td>\n",
       "      <td>4</td>\n",
       "      <td>2</td>\n",
       "      <td>0</td>\n",
       "      <td>2</td>\n",
       "      <td>...</td>\n",
       "      <td>0</td>\n",
       "      <td>26</td>\n",
       "      <td>0</td>\n",
       "      <td>A</td>\n",
       "      <td>0</td>\n",
       "      <td>0</td>\n",
       "      <td>Transient</td>\n",
       "      <td>0</td>\n",
       "      <td>0</td>\n",
       "      <td>2</td>\n",
       "    </tr>\n",
       "    <tr>\n",
       "      <th>6305</th>\n",
       "      <td>8634</td>\n",
       "      <td>1</td>\n",
       "      <td>222</td>\n",
       "      <td>2015</td>\n",
       "      <td>September</td>\n",
       "      <td>38</td>\n",
       "      <td>15</td>\n",
       "      <td>1</td>\n",
       "      <td>5</td>\n",
       "      <td>2</td>\n",
       "      <td>...</td>\n",
       "      <td>0</td>\n",
       "      <td>25</td>\n",
       "      <td>0</td>\n",
       "      <td>A</td>\n",
       "      <td>0</td>\n",
       "      <td>0</td>\n",
       "      <td>Transient</td>\n",
       "      <td>0</td>\n",
       "      <td>0</td>\n",
       "      <td>6</td>\n",
       "    </tr>\n",
       "    <tr>\n",
       "      <th>6306</th>\n",
       "      <td>8635</td>\n",
       "      <td>1</td>\n",
       "      <td>222</td>\n",
       "      <td>2015</td>\n",
       "      <td>September</td>\n",
       "      <td>38</td>\n",
       "      <td>15</td>\n",
       "      <td>1</td>\n",
       "      <td>5</td>\n",
       "      <td>2</td>\n",
       "      <td>...</td>\n",
       "      <td>0</td>\n",
       "      <td>25</td>\n",
       "      <td>0</td>\n",
       "      <td>A</td>\n",
       "      <td>0</td>\n",
       "      <td>0</td>\n",
       "      <td>Transient</td>\n",
       "      <td>0</td>\n",
       "      <td>0</td>\n",
       "      <td>6</td>\n",
       "    </tr>\n",
       "    <tr>\n",
       "      <th>6307</th>\n",
       "      <td>8636</td>\n",
       "      <td>1</td>\n",
       "      <td>222</td>\n",
       "      <td>2015</td>\n",
       "      <td>September</td>\n",
       "      <td>38</td>\n",
       "      <td>15</td>\n",
       "      <td>1</td>\n",
       "      <td>5</td>\n",
       "      <td>2</td>\n",
       "      <td>...</td>\n",
       "      <td>0</td>\n",
       "      <td>25</td>\n",
       "      <td>0</td>\n",
       "      <td>A</td>\n",
       "      <td>0</td>\n",
       "      <td>0</td>\n",
       "      <td>Transient</td>\n",
       "      <td>0</td>\n",
       "      <td>0</td>\n",
       "      <td>6</td>\n",
       "    </tr>\n",
       "    <tr>\n",
       "      <th>6308</th>\n",
       "      <td>8637</td>\n",
       "      <td>1</td>\n",
       "      <td>222</td>\n",
       "      <td>2015</td>\n",
       "      <td>September</td>\n",
       "      <td>38</td>\n",
       "      <td>15</td>\n",
       "      <td>1</td>\n",
       "      <td>5</td>\n",
       "      <td>2</td>\n",
       "      <td>...</td>\n",
       "      <td>0</td>\n",
       "      <td>25</td>\n",
       "      <td>0</td>\n",
       "      <td>A</td>\n",
       "      <td>0</td>\n",
       "      <td>0</td>\n",
       "      <td>Transient</td>\n",
       "      <td>0</td>\n",
       "      <td>0</td>\n",
       "      <td>6</td>\n",
       "    </tr>\n",
       "    <tr>\n",
       "      <th>6309</th>\n",
       "      <td>8638</td>\n",
       "      <td>1</td>\n",
       "      <td>222</td>\n",
       "      <td>2015</td>\n",
       "      <td>September</td>\n",
       "      <td>38</td>\n",
       "      <td>15</td>\n",
       "      <td>1</td>\n",
       "      <td>5</td>\n",
       "      <td>2</td>\n",
       "      <td>...</td>\n",
       "      <td>0</td>\n",
       "      <td>25</td>\n",
       "      <td>0</td>\n",
       "      <td>A</td>\n",
       "      <td>0</td>\n",
       "      <td>0</td>\n",
       "      <td>Transient</td>\n",
       "      <td>0</td>\n",
       "      <td>0</td>\n",
       "      <td>6</td>\n",
       "    </tr>\n",
       "    <tr>\n",
       "      <th>6310</th>\n",
       "      <td>8639</td>\n",
       "      <td>1</td>\n",
       "      <td>222</td>\n",
       "      <td>2015</td>\n",
       "      <td>September</td>\n",
       "      <td>38</td>\n",
       "      <td>15</td>\n",
       "      <td>1</td>\n",
       "      <td>5</td>\n",
       "      <td>2</td>\n",
       "      <td>...</td>\n",
       "      <td>0</td>\n",
       "      <td>25</td>\n",
       "      <td>0</td>\n",
       "      <td>A</td>\n",
       "      <td>0</td>\n",
       "      <td>0</td>\n",
       "      <td>Transient</td>\n",
       "      <td>0</td>\n",
       "      <td>0</td>\n",
       "      <td>6</td>\n",
       "    </tr>\n",
       "    <tr>\n",
       "      <th>6311</th>\n",
       "      <td>8640</td>\n",
       "      <td>1</td>\n",
       "      <td>222</td>\n",
       "      <td>2015</td>\n",
       "      <td>September</td>\n",
       "      <td>38</td>\n",
       "      <td>15</td>\n",
       "      <td>1</td>\n",
       "      <td>5</td>\n",
       "      <td>2</td>\n",
       "      <td>...</td>\n",
       "      <td>0</td>\n",
       "      <td>25</td>\n",
       "      <td>0</td>\n",
       "      <td>A</td>\n",
       "      <td>0</td>\n",
       "      <td>0</td>\n",
       "      <td>Transient</td>\n",
       "      <td>0</td>\n",
       "      <td>0</td>\n",
       "      <td>6</td>\n",
       "    </tr>\n",
       "  </tbody>\n",
       "</table>\n",
       "<p>25 rows × 25 columns</p>\n",
       "</div>"
      ],
      "text/plain": [
       "        id  is_canceled  lead_time  arrival_date_year arrival_date_month  \\\n",
       "6273  8602            1        275               2015            October   \n",
       "6274  8603            1        275               2015            October   \n",
       "6275  8604            1        275               2015            October   \n",
       "6276  8605            1        275               2015            October   \n",
       "6277  8606            1        275               2015            October   \n",
       "6278  8607            1        275               2015            October   \n",
       "6279  8608            1        275               2015            October   \n",
       "6280  8609            1        275               2015            October   \n",
       "6281  8610            1        275               2015            October   \n",
       "6282  8611            1        275               2015            October   \n",
       "6283  8612            1        275               2015            October   \n",
       "6284  8613            1        275               2015            October   \n",
       "6285  8614            1        275               2015            October   \n",
       "6286  8615            1        275               2015            October   \n",
       "6287  8616            1        275               2015            October   \n",
       "6288  8617            1        275               2015            October   \n",
       "6289  8618            1        275               2015            October   \n",
       "6290  8619            1        275               2015            October   \n",
       "6305  8634            1        222               2015          September   \n",
       "6306  8635            1        222               2015          September   \n",
       "6307  8636            1        222               2015          September   \n",
       "6308  8637            1        222               2015          September   \n",
       "6309  8638            1        222               2015          September   \n",
       "6310  8639            1        222               2015          September   \n",
       "6311  8640            1        222               2015          September   \n",
       "\n",
       "      arrival_date_week_number  arrival_date_day_of_month  \\\n",
       "6273                        41                          4   \n",
       "6274                        41                          4   \n",
       "6275                        41                          4   \n",
       "6276                        41                          4   \n",
       "6277                        41                          4   \n",
       "6278                        41                          4   \n",
       "6279                        41                          4   \n",
       "6280                        41                          4   \n",
       "6281                        41                          4   \n",
       "6282                        41                          4   \n",
       "6283                        41                          4   \n",
       "6284                        41                          4   \n",
       "6285                        41                          4   \n",
       "6286                        41                          4   \n",
       "6287                        41                          4   \n",
       "6288                        41                          4   \n",
       "6289                        41                          4   \n",
       "6290                        41                          4   \n",
       "6305                        38                         15   \n",
       "6306                        38                         15   \n",
       "6307                        38                         15   \n",
       "6308                        38                         15   \n",
       "6309                        38                         15   \n",
       "6310                        38                         15   \n",
       "6311                        38                         15   \n",
       "\n",
       "      stays_in_weekend_nights  stays_in_week_nights  adults  ...  \\\n",
       "6273                        2                     0       2  ...   \n",
       "6274                        2                     0       2  ...   \n",
       "6275                        2                     0       2  ...   \n",
       "6276                        2                     0       2  ...   \n",
       "6277                        2                     0       2  ...   \n",
       "6278                        2                     0       2  ...   \n",
       "6279                        2                     0       2  ...   \n",
       "6280                        2                     0       2  ...   \n",
       "6281                        2                     0       2  ...   \n",
       "6282                        2                     0       2  ...   \n",
       "6283                        2                     0       2  ...   \n",
       "6284                        2                     0       2  ...   \n",
       "6285                        2                     0       2  ...   \n",
       "6286                        2                     0       2  ...   \n",
       "6287                        2                     0       2  ...   \n",
       "6288                        2                     0       2  ...   \n",
       "6289                        2                     0       2  ...   \n",
       "6290                        2                     0       2  ...   \n",
       "6305                        1                     5       2  ...   \n",
       "6306                        1                     5       2  ...   \n",
       "6307                        1                     5       2  ...   \n",
       "6308                        1                     5       2  ...   \n",
       "6309                        1                     5       2  ...   \n",
       "6310                        1                     5       2  ...   \n",
       "6311                        1                     5       2  ...   \n",
       "\n",
       "      is_repeated_guest  previous_cancellations  \\\n",
       "6273                  0                      26   \n",
       "6274                  0                      26   \n",
       "6275                  0                      26   \n",
       "6276                  0                      26   \n",
       "6277                  0                      26   \n",
       "6278                  0                      26   \n",
       "6279                  0                      26   \n",
       "6280                  0                      26   \n",
       "6281                  0                      26   \n",
       "6282                  0                      26   \n",
       "6283                  0                      26   \n",
       "6284                  0                      26   \n",
       "6285                  0                      26   \n",
       "6286                  0                      26   \n",
       "6287                  0                      26   \n",
       "6288                  0                      26   \n",
       "6289                  0                      26   \n",
       "6290                  0                      26   \n",
       "6305                  0                      25   \n",
       "6306                  0                      25   \n",
       "6307                  0                      25   \n",
       "6308                  0                      25   \n",
       "6309                  0                      25   \n",
       "6310                  0                      25   \n",
       "6311                  0                      25   \n",
       "\n",
       "     previous_bookings_not_canceled reserved_room_type booking_changes  \\\n",
       "6273                              0                  A               0   \n",
       "6274                              0                  A               0   \n",
       "6275                              0                  A               0   \n",
       "6276                              0                  A               0   \n",
       "6277                              0                  A               0   \n",
       "6278                              0                  A               0   \n",
       "6279                              0                  A               0   \n",
       "6280                              0                  A               0   \n",
       "6281                              0                  A               0   \n",
       "6282                              0                  A               0   \n",
       "6283                              0                  A               0   \n",
       "6284                              0                  A               0   \n",
       "6285                              0                  A               0   \n",
       "6286                              0                  A               0   \n",
       "6287                              0                  A               0   \n",
       "6288                              0                  A               0   \n",
       "6289                              0                  A               0   \n",
       "6290                              0                  A               0   \n",
       "6305                              0                  A               0   \n",
       "6306                              0                  A               0   \n",
       "6307                              0                  A               0   \n",
       "6308                              0                  A               0   \n",
       "6309                              0                  A               0   \n",
       "6310                              0                  A               0   \n",
       "6311                              0                  A               0   \n",
       "\n",
       "      days_in_waiting_list  customer_type  required_car_parking_spaces  \\\n",
       "6273                     0      Transient                            0   \n",
       "6274                     0      Transient                            0   \n",
       "6275                     0      Transient                            0   \n",
       "6276                     0      Transient                            0   \n",
       "6277                     0      Transient                            0   \n",
       "6278                     0      Transient                            0   \n",
       "6279                     0      Transient                            0   \n",
       "6280                     0      Transient                            0   \n",
       "6281                     0      Transient                            0   \n",
       "6282                     0      Transient                            0   \n",
       "6283                     0      Transient                            0   \n",
       "6284                     0      Transient                            0   \n",
       "6285                     0      Transient                            0   \n",
       "6286                     0      Transient                            0   \n",
       "6287                     0      Transient                            0   \n",
       "6288                     0      Transient                            0   \n",
       "6289                     0      Transient                            0   \n",
       "6290                     0      Transient                            0   \n",
       "6305                     0      Transient                            0   \n",
       "6306                     0      Transient                            0   \n",
       "6307                     0      Transient                            0   \n",
       "6308                     0      Transient                            0   \n",
       "6309                     0      Transient                            0   \n",
       "6310                     0      Transient                            0   \n",
       "6311                     0      Transient                            0   \n",
       "\n",
       "     total_of_special_requests  total_nights  \n",
       "6273                         0             2  \n",
       "6274                         0             2  \n",
       "6275                         0             2  \n",
       "6276                         0             2  \n",
       "6277                         0             2  \n",
       "6278                         0             2  \n",
       "6279                         0             2  \n",
       "6280                         0             2  \n",
       "6281                         0             2  \n",
       "6282                         0             2  \n",
       "6283                         0             2  \n",
       "6284                         0             2  \n",
       "6285                         0             2  \n",
       "6286                         0             2  \n",
       "6287                         0             2  \n",
       "6288                         0             2  \n",
       "6289                         0             2  \n",
       "6290                         0             2  \n",
       "6305                         0             6  \n",
       "6306                         0             6  \n",
       "6307                         0             6  \n",
       "6308                         0             6  \n",
       "6309                         0             6  \n",
       "6310                         0             6  \n",
       "6311                         0             6  \n",
       "\n",
       "[25 rows x 25 columns]"
      ]
     },
     "metadata": {},
     "output_type": "display_data"
    },
    {
     "data": {
      "image/png": "[encoded data removed]",
      "text/plain": [
       "<Figure size 576x288 with 1 Axes>"
      ]
     },
     "metadata": {
      "needs_background": "light"
     },
     "output_type": "display_data"
    }
   ],
   "source": [
    "df_train.pivot_table(index='previous_cancellations', values='is_canceled').plot(grid=True, figsize=(8,4))\n",
    "print(df_train['previous_cancellations'].corr(df_train['is_canceled']))\n",
    "display(df_train.query('previous_cancellations >= 10').head(25))\n",
    "\n",
    "df_train['previous_cancellations'].describe()\n",
    "df_train['previous_cancellations'].hist(bins=100, range=(2, 27))\n",
    "plt.show()"
   ]
  },
  {
   "cell_type": "markdown",
   "metadata": {},
   "source": [
    "Казалось бы, вывод простой: если клиент отменял бронь уже более 11 раз, то наверняка отменит и эту. По факту же видим в срезе наборы очень похожих строчек. Что, если это на самом деле дубликаты, просто с разными ID?\n",
    "По гистограмме именно по столбцу previous_cancellations, не принимая во внимание столбцы со значениями 0 и 1, нет ощущения, что данные странные."
   ]
  },
  {
   "cell_type": "markdown",
   "metadata": {},
   "source": [
    "<div class=\"alert alert-success\">\n",
    "<b>Комментарий ревьюера:\n",
    "    &#9989;</b> Хорошая мысль проверить данные на неявные дубликаты!</div>"
   ]
  },
  {
   "cell_type": "code",
   "execution_count": 38,
   "metadata": {},
   "outputs": [
    {
     "name": "stdout",
     "output_type": "stream",
     "text": [
      "count    65061.000000\n",
      "mean         0.193449\n",
      "std          0.592182\n",
      "min          0.000000\n",
      "25%          0.000000\n",
      "50%          0.000000\n",
      "75%          0.000000\n",
      "max         17.000000\n",
      "Name: booking_changes, dtype: float64\n",
      "AxesSubplot(0.125,0.125;0.775x0.755)\n",
      "-0.14271871352743842\n"
     ]
    },
    {
     "data": {
      "image/png": "[encoded data removed]",
      "text/plain": [
       "<Figure size 432x288 with 1 Axes>"
      ]
     },
     "metadata": {
      "needs_background": "light"
     },
     "output_type": "display_data"
    },
    {
     "data": {
      "image/png": "[encoded data removed]",
      "text/plain": [
       "<Figure size 576x288 with 1 Axes>"
      ]
     },
     "metadata": {
      "needs_background": "light"
     },
     "output_type": "display_data"
    }
   ],
   "source": [
    "df_train.boxplot(column='booking_changes')\n",
    "print(df_train['booking_changes'].describe())\n",
    "print(df_train.pivot_table(index='booking_changes', values='is_canceled').plot(grid=True, figsize=(8,4)))\n",
    "\n",
    "print(df_train['booking_changes'].corr(df_train['is_canceled']))"
   ]
  },
  {
   "cell_type": "markdown",
   "metadata": {},
   "source": [
    "Столбец booking_changes, по сути, целиком представляет из себя выброс. И на статистику отмен значительным и/или очевидным образом не влияет."
   ]
  },
  {
   "cell_type": "code",
   "execution_count": 39,
   "metadata": {},
   "outputs": [
    {
     "name": "stdout",
     "output_type": "stream",
     "text": [
      "0.0013393627278454185\n"
     ]
    },
    {
     "data": {
      "image/png": "[encoded data removed]",
      "text/plain": [
       "<Figure size 576x288 with 1 Axes>"
      ]
     },
     "metadata": {
      "needs_background": "light"
     },
     "output_type": "display_data"
    }
   ],
   "source": [
    "df_train.pivot_table(index='total_nights', values='is_canceled').plot(grid=True, figsize=(8,4))\n",
    "print(df_train['total_nights'].corr(df_train['is_canceled']))\n"
   ]
  },
  {
   "cell_type": "markdown",
   "metadata": {},
   "source": [
    "Бронирования на одну ночь отменяются реже всего, на 2, 6 и 9 ночей - чаще (почти половина из них)."
   ]
  },
  {
   "cell_type": "code",
   "execution_count": 40,
   "metadata": {},
   "outputs": [
    {
     "data": {
      "image/png": "[encoded data removed]",
      "text/plain": [
       "<Figure size 576x288 with 1 Axes>"
      ]
     },
     "metadata": {
      "needs_background": "light"
     },
     "output_type": "display_data"
    },
    {
     "data": {
      "text/plain": [
       "October      9238\n",
       "September    8771\n",
       "August       6647\n",
       "November     5750\n",
       "July         5701\n",
       "December     5478\n",
       "April        4795\n",
       "May          4667\n",
       "June         4651\n",
       "March        4138\n",
       "February     3344\n",
       "January      1881\n",
       "Name: arrival_date_month, dtype: int64"
      ]
     },
     "execution_count": 40,
     "metadata": {},
     "output_type": "execute_result"
    }
   ],
   "source": [
    "df_train.pivot_table(index='arrival_date_month', values='is_canceled').plot(kind='bar', grid=True, figsize=(8,4))\n",
    "plt.show()\n",
    "df_train['arrival_date_month'].value_counts()"
   ]
  },
  {
   "cell_type": "markdown",
   "metadata": {},
   "source": [
    "Меньший процент отмен у броней на январь, но там и общее количество бронирований минимальное. Наивысший - у соседних июня, июля, а также сентября (последнего по алфавиту), августа (непредсказуемый сезон отпусков) и апреля (пасхальные каникулы?). То есть можно предположить, что туристы-отпускники меняют свои планы чаще, чем останавливающиеся в отелях в другие времена года, вероятно, больше по работе."
   ]
  },
  {
   "cell_type": "code",
   "execution_count": 41,
   "metadata": {},
   "outputs": [
    {
     "data": {
      "image/png": "[encoded data removed]",
      "text/plain": [
       "<Figure size 2016x288 with 1 Axes>"
      ]
     },
     "metadata": {
      "needs_background": "light"
     },
     "output_type": "display_data"
    }
   ],
   "source": [
    "df_train.pivot_table(index='country', values='is_canceled').plot(kind='bar', grid=True, figsize=(28,4))\n",
    "plt.show()"
   ]
  },
  {
   "cell_type": "markdown",
   "metadata": {},
   "source": [
    "График получился неинформативным, так как во многих странах отмен броней не было/отменены все брони - подозреваю, что дело в количество броней по странам. "
   ]
  },
  {
   "cell_type": "markdown",
   "metadata": {},
   "source": [
    "<div class=\"alert alert-success\">\n",
    "<b>Комментарий ревьюера:\n",
    "    &#9989;</b> Согласен!</div>"
   ]
  },
  {
   "cell_type": "code",
   "execution_count": 42,
   "metadata": {
    "scrolled": false
   },
   "outputs": [
    {
     "data": {
      "image/png": "[encoded data removed]",
      "text/plain": [
       "<Figure size 360x288 with 1 Axes>"
      ]
     },
     "metadata": {
      "needs_background": "light"
     },
     "output_type": "display_data"
    },
    {
     "data": {
      "text/plain": [
       "TA/TO        54310\n",
       "Direct        6831\n",
       "Corporate     3821\n",
       "GDS             99\n",
       "Name: distribution_channel, dtype: int64"
      ]
     },
     "execution_count": 42,
     "metadata": {},
     "output_type": "execute_result"
    }
   ],
   "source": [
    "df_train.pivot_table(index='distribution_channel', values='is_canceled').plot(kind='bar', grid=True, figsize=(5,4))\n",
    "plt.show()\n",
    "df_train['distribution_channel'].value_counts()"
   ]
  },
  {
   "cell_type": "markdown",
   "metadata": {},
   "source": [
    "Как подсказал гугл, TA/TO = tour agencies/tour operators, турагентства. Именно через них больше всего бронирований совершается, но 40% из них отменяются. И только каждая пятая бронь, сделанная через другие каналы бронирования."
   ]
  },
  {
   "cell_type": "code",
   "execution_count": 43,
   "metadata": {
    "scrolled": false
   },
   "outputs": [
    {
     "data": {
      "image/png": "[encoded data removed]",
      "text/plain": [
       "<Figure size 576x288 with 1 Axes>"
      ]
     },
     "metadata": {
      "needs_background": "light"
     },
     "output_type": "display_data"
    },
    {
     "data": {
      "text/plain": [
       "A    50487\n",
       "D     9384\n",
       "E     2445\n",
       "F     1211\n",
       "B      714\n",
       "G      592\n",
       "C      228\n",
       "Name: reserved_room_type, dtype: int64"
      ]
     },
     "execution_count": 43,
     "metadata": {},
     "output_type": "execute_result"
    }
   ],
   "source": [
    "df_train.pivot_table(index='reserved_room_type', values='is_canceled').plot(grid=True, figsize=(8,4))\n",
    "plt.show()\n",
    "df_train['reserved_room_type'].value_counts()"
   ]
  },
  {
   "cell_type": "markdown",
   "metadata": {},
   "source": [
    "Здесь гугл не подскажет, что имеется в виду под каждой из букв, обозначающих типы комнат. Но снова наивысший процент отмен там, где наивысшее количество бронирований (тип А, по условиям проекта - самый дорогой тип). Примерно каждая третья бронь отменяется по комнатам типов B, D & G. Самый \"надежный\" тип - E. (С не рассматриваем из-за малого количества бронирований)."
   ]
  },
  {
   "cell_type": "markdown",
   "metadata": {},
   "source": [
    "<div class=\"alert alert-success\">\n",
    "<b>Комментарий ревьюера:\n",
    "    &#9989;</b> У вас вроде бы в условии прописаны цены по категориям)</div>"
   ]
  },
  {
   "cell_type": "markdown",
   "metadata": {},
   "source": [
    "<div class=\"alert alert-info\"> <b>Комментарий студента:</b> Скорректировал формулировку для однозначности. </div>"
   ]
  },
  {
   "cell_type": "code",
   "execution_count": 44,
   "metadata": {},
   "outputs": [
    {
     "data": {
      "image/png": "[encoded data removed]",
      "text/plain": [
       "<Figure size 360x288 with 1 Axes>"
      ]
     },
     "metadata": {
      "needs_background": "light"
     },
     "output_type": "display_data"
    },
    {
     "data": {
      "text/plain": [
       "Transient          45401\n",
       "Transient-Party    16629\n",
       "Contract            2745\n",
       "Group                286\n",
       "Name: customer_type, dtype: int64"
      ]
     },
     "execution_count": 44,
     "metadata": {},
     "output_type": "execute_result"
    }
   ],
   "source": [
    "df_train.pivot_table(index='customer_type', values='is_canceled').plot(kind='bar', grid=True, figsize=(5,4))\n",
    "plt.show()\n",
    "df_train['customer_type'].value_counts()"
   ]
  },
  {
   "cell_type": "markdown",
   "metadata": {},
   "source": [
    "Вывод: не доверяйте договорам с юридическими лицами, они отменяют 40% обещанных заездов. Как, впрочем, и заказчик типа Transient, которых еще и существенно больше остальных. "
   ]
  },
  {
   "cell_type": "code",
   "execution_count": 62,
   "metadata": {},
   "outputs": [
    {
     "data": {
      "image/png": "[encoded data removed]",
      "text/plain": [
       "<Figure size 432x216 with 1 Axes>"
      ]
     },
     "metadata": {
      "needs_background": "light"
     },
     "output_type": "display_data"
    },
    {
     "data": {
      "text/plain": [
       "BB           51544\n",
       "HB            7289\n",
       "SC            5777\n",
       "FB             451\n",
       "Name: meal, dtype: int64"
      ]
     },
     "execution_count": 62,
     "metadata": {},
     "output_type": "execute_result"
    }
   ],
   "source": [
    "df_train.pivot_table(index='meal', values='is_canceled').plot(kind='bar', grid=True, figsize=(6,3))\n",
    "plt.show()\n",
    "df_train['meal'].value_counts()"
   ]
  },
  {
   "cell_type": "markdown",
   "metadata": {},
   "source": [
    "Отменяется рекордное количество бронирований с полным пансионом, но надо учитывать, что доля их от общего количества составляет меньше 1%. "
   ]
  },
  {
   "cell_type": "markdown",
   "metadata": {},
   "source": [
    "### Шаг 3. Формулировка ML-задачи на основе бизнес-задачи"
   ]
  },
  {
   "cell_type": "code",
   "execution_count": 64,
   "metadata": {},
   "outputs": [
    {
     "data": {
      "text/plain": [
       "32510590.0"
      ]
     },
     "execution_count": 64,
     "metadata": {},
     "output_type": "execute_result"
    }
   ],
   "source": [
    "season_dict = pd.DataFrame({'arrival_date_month' : ['January', 'February', 'March', 'April', 'May', 'June', 'July', 'August', 'September', 'October', 'November', 'December'],\n",
    "'coef' : [1, 1, 1.2, 1.2, 1.2, 1.4, 1.4, 1.4, 1.2, 1.2, 1.2, 1]})\n",
    "season_dict\n",
    "rooms_dict = pd.DataFrame({'reserved_room_type' : ['A', 'B', 'C', 'D', 'E', 'F', 'G'], 'room_price' : [1000, 800, 600, 550, 500, 450, 350], 'room_cleaning': [400, 350, 350, 150, 150, 150, 150]})\n",
    "rooms_dict\n",
    "\n",
    "\n",
    "hotel_revenues = df_test.merge(season_dict, on='arrival_date_month', how='left')\n",
    "hotel_revenues = hotel_revenues.merge(rooms_dict, on='reserved_room_type', how='left')\n",
    "hotel_revenues\n",
    "\n",
    "\n",
    "\n",
    "def rev(row):\n",
    "       \n",
    "    for i in range(len(row)):\n",
    "        if row['is_canceled'] == 0:\n",
    "            row['revenue'] = row['room_price'] * row['total_nights'] * row['coef'] - (row['room_cleaning']*(1 + math.floor(row['total_nights']/2)))\n",
    "            return row['revenue']\n",
    "        elif row['is_canceled'] == 1:\n",
    "            row['revenue'] = - row['room_price'] * row['coef'] - row['room_cleaning']\n",
    "            return row['revenue'] \n",
    "        \n",
    "hotel_revenues.apply(rev, axis=1).sum()\n",
    "#hotel_revenues\n",
    "\n",
    "    "
   ]
  },
  {
   "cell_type": "code",
   "execution_count": 65,
   "metadata": {},
   "outputs": [
    {
     "data": {
      "text/html": [
       "<div>\n",
       "<style scoped>\n",
       "    .dataframe tbody tr th:only-of-type {\n",
       "        vertical-align: middle;\n",
       "    }\n",
       "\n",
       "    .dataframe tbody tr th {\n",
       "        vertical-align: top;\n",
       "    }\n",
       "\n",
       "    .dataframe thead th {\n",
       "        text-align: right;\n",
       "    }\n",
       "</style>\n",
       "<table border=\"1\" class=\"dataframe\">\n",
       "  <thead>\n",
       "    <tr style=\"text-align: right;\">\n",
       "      <th></th>\n",
       "      <th>id</th>\n",
       "      <th>is_canceled</th>\n",
       "      <th>lead_time</th>\n",
       "      <th>arrival_date_year</th>\n",
       "      <th>arrival_date_month</th>\n",
       "      <th>arrival_date_week_number</th>\n",
       "      <th>arrival_date_day_of_month</th>\n",
       "      <th>stays_in_weekend_nights</th>\n",
       "      <th>stays_in_week_nights</th>\n",
       "      <th>adults</th>\n",
       "      <th>...</th>\n",
       "      <th>reserved_room_type</th>\n",
       "      <th>booking_changes</th>\n",
       "      <th>days_in_waiting_list</th>\n",
       "      <th>customer_type</th>\n",
       "      <th>required_car_parking_spaces</th>\n",
       "      <th>total_of_special_requests</th>\n",
       "      <th>total_nights</th>\n",
       "      <th>coef</th>\n",
       "      <th>room_price</th>\n",
       "      <th>room_cleaning</th>\n",
       "    </tr>\n",
       "  </thead>\n",
       "  <tbody>\n",
       "    <tr>\n",
       "      <th>95</th>\n",
       "      <td>6184</td>\n",
       "      <td>0</td>\n",
       "      <td>0</td>\n",
       "      <td>2017</td>\n",
       "      <td>January</td>\n",
       "      <td>4</td>\n",
       "      <td>25</td>\n",
       "      <td>0</td>\n",
       "      <td>1</td>\n",
       "      <td>1</td>\n",
       "      <td>...</td>\n",
       "      <td>A</td>\n",
       "      <td>0</td>\n",
       "      <td>0</td>\n",
       "      <td>Transient</td>\n",
       "      <td>0</td>\n",
       "      <td>0</td>\n",
       "      <td>1</td>\n",
       "      <td>1.0</td>\n",
       "      <td>1000</td>\n",
       "      <td>400</td>\n",
       "    </tr>\n",
       "    <tr>\n",
       "      <th>299</th>\n",
       "      <td>6391</td>\n",
       "      <td>0</td>\n",
       "      <td>70</td>\n",
       "      <td>2017</td>\n",
       "      <td>February</td>\n",
       "      <td>8</td>\n",
       "      <td>22</td>\n",
       "      <td>0</td>\n",
       "      <td>4</td>\n",
       "      <td>2</td>\n",
       "      <td>...</td>\n",
       "      <td>A</td>\n",
       "      <td>2</td>\n",
       "      <td>0</td>\n",
       "      <td>Transient-Party</td>\n",
       "      <td>0</td>\n",
       "      <td>0</td>\n",
       "      <td>4</td>\n",
       "      <td>1.0</td>\n",
       "      <td>1000</td>\n",
       "      <td>400</td>\n",
       "    </tr>\n",
       "    <tr>\n",
       "      <th>2041</th>\n",
       "      <td>8148</td>\n",
       "      <td>0</td>\n",
       "      <td>3</td>\n",
       "      <td>2017</td>\n",
       "      <td>August</td>\n",
       "      <td>33</td>\n",
       "      <td>17</td>\n",
       "      <td>0</td>\n",
       "      <td>1</td>\n",
       "      <td>1</td>\n",
       "      <td>...</td>\n",
       "      <td>A</td>\n",
       "      <td>0</td>\n",
       "      <td>0</td>\n",
       "      <td>Transient</td>\n",
       "      <td>0</td>\n",
       "      <td>0</td>\n",
       "      <td>1</td>\n",
       "      <td>1.4</td>\n",
       "      <td>1000</td>\n",
       "      <td>400</td>\n",
       "    </tr>\n",
       "    <tr>\n",
       "      <th>2125</th>\n",
       "      <td>8232</td>\n",
       "      <td>0</td>\n",
       "      <td>7</td>\n",
       "      <td>2017</td>\n",
       "      <td>February</td>\n",
       "      <td>8</td>\n",
       "      <td>20</td>\n",
       "      <td>1</td>\n",
       "      <td>2</td>\n",
       "      <td>1</td>\n",
       "      <td>...</td>\n",
       "      <td>A</td>\n",
       "      <td>0</td>\n",
       "      <td>0</td>\n",
       "      <td>Transient</td>\n",
       "      <td>1</td>\n",
       "      <td>0</td>\n",
       "      <td>3</td>\n",
       "      <td>1.0</td>\n",
       "      <td>1000</td>\n",
       "      <td>400</td>\n",
       "    </tr>\n",
       "    <tr>\n",
       "      <th>2126</th>\n",
       "      <td>8236</td>\n",
       "      <td>0</td>\n",
       "      <td>6</td>\n",
       "      <td>2017</td>\n",
       "      <td>January</td>\n",
       "      <td>3</td>\n",
       "      <td>17</td>\n",
       "      <td>0</td>\n",
       "      <td>1</td>\n",
       "      <td>1</td>\n",
       "      <td>...</td>\n",
       "      <td>A</td>\n",
       "      <td>0</td>\n",
       "      <td>0</td>\n",
       "      <td>Transient</td>\n",
       "      <td>0</td>\n",
       "      <td>0</td>\n",
       "      <td>1</td>\n",
       "      <td>1.0</td>\n",
       "      <td>1000</td>\n",
       "      <td>400</td>\n",
       "    </tr>\n",
       "  </tbody>\n",
       "</table>\n",
       "<p>5 rows × 28 columns</p>\n",
       "</div>"
      ],
      "text/plain": [
       "        id  is_canceled  lead_time  arrival_date_year arrival_date_month  \\\n",
       "95    6184            0          0               2017            January   \n",
       "299   6391            0         70               2017           February   \n",
       "2041  8148            0          3               2017             August   \n",
       "2125  8232            0          7               2017           February   \n",
       "2126  8236            0          6               2017            January   \n",
       "\n",
       "      arrival_date_week_number  arrival_date_day_of_month  \\\n",
       "95                           4                         25   \n",
       "299                          8                         22   \n",
       "2041                        33                         17   \n",
       "2125                         8                         20   \n",
       "2126                         3                         17   \n",
       "\n",
       "      stays_in_weekend_nights  stays_in_week_nights  adults  ...  \\\n",
       "95                          0                     1       1  ...   \n",
       "299                         0                     4       2  ...   \n",
       "2041                        0                     1       1  ...   \n",
       "2125                        1                     2       1  ...   \n",
       "2126                        0                     1       1  ...   \n",
       "\n",
       "      reserved_room_type  booking_changes days_in_waiting_list  \\\n",
       "95                     A                0                    0   \n",
       "299                    A                2                    0   \n",
       "2041                   A                0                    0   \n",
       "2125                   A                0                    0   \n",
       "2126                   A                0                    0   \n",
       "\n",
       "        customer_type required_car_parking_spaces  total_of_special_requests  \\\n",
       "95          Transient                           0                          0   \n",
       "299   Transient-Party                           0                          0   \n",
       "2041        Transient                           0                          0   \n",
       "2125        Transient                           1                          0   \n",
       "2126        Transient                           0                          0   \n",
       "\n",
       "      total_nights  coef room_price  room_cleaning  \n",
       "95               1   1.0       1000            400  \n",
       "299              4   1.0       1000            400  \n",
       "2041             1   1.4       1000            400  \n",
       "2125             3   1.0       1000            400  \n",
       "2126             1   1.0       1000            400  \n",
       "\n",
       "[5 rows x 28 columns]"
      ]
     },
     "execution_count": 65,
     "metadata": {},
     "output_type": "execute_result"
    }
   ],
   "source": [
    "#Код ревьюера\n",
    "hotel_revenues.loc[hotel_revenues['is_canceled']==0].head(5)"
   ]
  },
  {
   "cell_type": "markdown",
   "metadata": {},
   "source": [
    "<div class=\"alert alert-danger\">\n",
    "<b>Комментарий ревьюера: &#10060; </b> Проверь, пожалуйста, формула расчета кол-ва уборок. Проще всего рассчитать по формуле <code> 1 + math.floor(value / 2)</code> </div>"
   ]
  },
  {
   "cell_type": "markdown",
   "metadata": {},
   "source": [
    "<div class=\"alert alert-info\"> <b>Комментарий студента:</b> Ой, точно, опять по невнимательности не доделал, хотя math импортирован был в самом начале. Суммы ниже скорректированы. </div>"
   ]
  },
  {
   "cell_type": "markdown",
   "metadata": {},
   "source": [
    "Без введения депозитов за отмену бронирования прибыль отеля составляет 32,5 млн у.е. "
   ]
  },
  {
   "cell_type": "code",
   "execution_count": 66,
   "metadata": {},
   "outputs": [
    {
     "data": {
      "text/plain": [
       "64911436.0"
      ]
     },
     "execution_count": 66,
     "metadata": {},
     "output_type": "execute_result"
    }
   ],
   "source": [
    "def dep_rev(row):\n",
    "    #cleaning_price = math.floor(row['room_cleaning']*(1+(row['total_nights'])/2))\n",
    "    #row['revenue'] = row['room_price'] * row['total_nights'] * row['coef'] - (row['room_cleaning']*(row['total_nights']/2))\n",
    "    \n",
    "    for i in range(len(row)):\n",
    "        if row['is_canceled'] == 0:\n",
    "            row['deposit_revenue'] = row['room_price'] * row['total_nights'] * row['coef'] - (row['room_cleaning']*(1 + math.floor(row['total_nights']/2)))\n",
    "            return row['deposit_revenue']\n",
    "        elif row['is_canceled'] == 1:\n",
    "            row['deposit_revenue'] = (row['room_price'] * row['coef'] + row['room_cleaning'])*0.8\n",
    "            return row['deposit_revenue'] \n",
    "        \n",
    "deposit_hotel_revenues = hotel_revenues.apply(dep_rev, axis=1).sum()\n",
    "\n",
    "deposit_hotel_revenues"
   ]
  },
  {
   "cell_type": "markdown",
   "metadata": {},
   "source": [
    "Если бы у всех отменивших бронь клиентов был списан депозит, прибыль отеля выросла бы почти вдвое, до 64,9 млн у.е."
   ]
  },
  {
   "cell_type": "markdown",
   "metadata": {},
   "source": [
    "### Шаг 4. Разработка модели ML"
   ]
  },
  {
   "cell_type": "markdown",
   "metadata": {},
   "source": [
    "Выделим целевой признак. А также уберем неинформативные столбцы или те, которые дублируют друг друга."
   ]
  },
  {
   "cell_type": "markdown",
   "metadata": {},
   "source": [
    "<div class=\"alert alert-danger\">\n",
    "<b>Комментарий ревьюера: &#10060; </b> Перед разработкой модели стоит проверить данные на мультиколлинеарность(возможно некоторые столбцы избыточны), а также удалить неинформативные столбцы </div>"
   ]
  },
  {
   "cell_type": "code",
   "execution_count": 67,
   "metadata": {},
   "outputs": [
    {
     "name": "stdout",
     "output_type": "stream",
     "text": [
      "<class 'pandas.core.frame.DataFrame'>\n",
      "Int64Index: 65061 entries, 0 to 65228\n",
      "Data columns (total 25 columns):\n",
      " #   Column                          Non-Null Count  Dtype \n",
      "---  ------                          --------------  ----- \n",
      " 0   id                              65061 non-null  int64 \n",
      " 1   is_canceled                     65061 non-null  int64 \n",
      " 2   lead_time                       65061 non-null  int64 \n",
      " 3   arrival_date_year               65061 non-null  int64 \n",
      " 4   arrival_date_month              65061 non-null  object\n",
      " 5   arrival_date_week_number        65061 non-null  int64 \n",
      " 6   arrival_date_day_of_month       65061 non-null  int64 \n",
      " 7   stays_in_weekend_nights         65061 non-null  int64 \n",
      " 8   stays_in_week_nights            65061 non-null  int64 \n",
      " 9   adults                          65061 non-null  int64 \n",
      " 10  children                        65061 non-null  int64 \n",
      " 11  babies                          65061 non-null  int64 \n",
      " 12  meal                            65061 non-null  object\n",
      " 13  country                         65061 non-null  object\n",
      " 14  distribution_channel            65061 non-null  object\n",
      " 15  is_repeated_guest               65061 non-null  int64 \n",
      " 16  previous_cancellations          65061 non-null  int64 \n",
      " 17  previous_bookings_not_canceled  65061 non-null  int64 \n",
      " 18  reserved_room_type              65061 non-null  object\n",
      " 19  booking_changes                 65061 non-null  int64 \n",
      " 20  days_in_waiting_list            65061 non-null  int64 \n",
      " 21  customer_type                   65061 non-null  object\n",
      " 22  required_car_parking_spaces     65061 non-null  int64 \n",
      " 23  total_of_special_requests       65061 non-null  int64 \n",
      " 24  total_nights                    65061 non-null  int64 \n",
      "dtypes: int64(19), object(6)\n",
      "memory usage: 12.9+ MB\n"
     ]
    }
   ],
   "source": [
    "df_train.info()"
   ]
  },
  {
   "cell_type": "code",
   "execution_count": 70,
   "metadata": {},
   "outputs": [
    {
     "data": {
      "text/plain": [
       "(32343, 17)"
      ]
     },
     "execution_count": 70,
     "metadata": {},
     "output_type": "execute_result"
    }
   ],
   "source": [
    "features_train = df_train.drop(['is_canceled', 'id', 'arrival_date_year', 'arrival_date_day_of_month', 'stays_in_weekend_nights', 'stays_in_week_nights', 'previous_bookings_not_canceled', 'required_car_parking_spaces'], axis = 1)\n",
    "target_train = df_train['is_canceled']\n",
    "features_test = df_test.drop(['is_canceled', 'id', 'arrival_date_year', 'arrival_date_day_of_month', 'stays_in_weekend_nights', 'stays_in_week_nights', 'previous_bookings_not_canceled', 'required_car_parking_spaces'], axis = 1)\n",
    "target_test = df_test['is_canceled']\n",
    "features_train.shape\n",
    "features_test.shape"
   ]
  },
  {
   "cell_type": "code",
   "execution_count": 71,
   "metadata": {},
   "outputs": [
    {
     "name": "stdout",
     "output_type": "stream",
     "text": [
      "<class 'pandas.core.frame.DataFrame'>\n",
      "Int64Index: 32343 entries, 0 to 32411\n",
      "Data columns (total 17 columns):\n",
      " #   Column                     Non-Null Count  Dtype  \n",
      "---  ------                     --------------  -----  \n",
      " 0   lead_time                  32343 non-null  float64\n",
      " 1   arrival_date_month         32343 non-null  object \n",
      " 2   arrival_date_week_number   32343 non-null  float64\n",
      " 3   adults                     32343 non-null  float64\n",
      " 4   children                   32343 non-null  float64\n",
      " 5   babies                     32343 non-null  float64\n",
      " 6   meal                       32343 non-null  object \n",
      " 7   country                    32343 non-null  object \n",
      " 8   distribution_channel       32343 non-null  object \n",
      " 9   is_repeated_guest          32343 non-null  int64  \n",
      " 10  previous_cancellations     32343 non-null  float64\n",
      " 11  reserved_room_type         32343 non-null  object \n",
      " 12  booking_changes            32343 non-null  float64\n",
      " 13  days_in_waiting_list       32343 non-null  float64\n",
      " 14  customer_type              32343 non-null  object \n",
      " 15  total_of_special_requests  32343 non-null  float64\n",
      " 16  total_nights               32343 non-null  float64\n",
      "dtypes: float64(10), int64(1), object(6)\n",
      "memory usage: 4.4+ MB\n"
     ]
    }
   ],
   "source": [
    "numeric = ['lead_time', 'arrival_date_week_number', 'adults', 'children', 'babies', 'previous_cancellations', 'booking_changes', 'days_in_waiting_list', 'total_of_special_requests', 'total_nights']\n",
    "scaler = StandardScaler()\n",
    "scaler.fit(features_train[numeric])\n",
    "features_train[numeric] = scaler.transform(features_train[numeric])\n",
    "features_test[numeric] = scaler.transform(features_test[numeric])\n",
    "features_test.info()"
   ]
  },
  {
   "cell_type": "markdown",
   "metadata": {},
   "source": [
    "<div class=\"alert alert-danger\">\n",
    "<b>Комментарий ревьюера: &#10060; </b> Обрати, пожалуйста, внимание, что некоторые признаки хоть и представлены цифрами, но по сути являются категориальными </div>"
   ]
  },
  {
   "cell_type": "markdown",
   "metadata": {},
   "source": [
    "<div class=\"alert alert-info\"> <b>Комментарий студента:</b> Да, я думал об этом. Убрал 'is_repeated_guest', ну и то что выбросил на предыдущем этапе. Не уверен насчет arrival_date_week_number, суть тоже категориальная, но если не стандартизировать, цифровые значения там будут сильно отличаться от остальных и влиять на расчеты модели, полагаю. </div>"
   ]
  },
  {
   "cell_type": "code",
   "execution_count": 72,
   "metadata": {},
   "outputs": [
    {
     "data": {
      "text/plain": [
       "(32343, 185)"
      ]
     },
     "execution_count": 72,
     "metadata": {},
     "output_type": "execute_result"
    }
   ],
   "source": [
    "enc = OneHotEncoder(handle_unknown='ignore')\n",
    "ohe_cat = ['arrival_date_month', 'meal', 'country', 'distribution_channel', 'reserved_room_type', 'customer_type']\n",
    "enc.fit(features_train[ohe_cat])\n",
    "ohe_features_train = enc.transform(features_train[ohe_cat])\n",
    "\n",
    "ohe_features_test = enc.transform(features_test[ohe_cat])\n",
    "ohe_features_train.shape\n",
    "ohe_features_test.shape"
   ]
  },
  {
   "cell_type": "markdown",
   "metadata": {},
   "source": [
    "Провели стандартизацию столбцов, выраженных числами, и категоризирование столбцов типа object. Количество столбцов в тренировочном и тестовом датафреймах совпадает. Перейдем к обучению и подбору гиперпараметров моделей через RandomSearchCV."
   ]
  },
  {
   "cell_type": "code",
   "execution_count": 79,
   "metadata": {},
   "outputs": [
    {
     "name": "stdout",
     "output_type": "stream",
     "text": [
      "{'n_estimators': 5, 'min_samples_split': 2, 'min_samples_leaf': 2, 'max_features': 'sqrt', 'max_depth': 1}\n",
      "0.6311768961252279\n"
     ]
    }
   ],
   "source": [
    "n_estimators = [int(x) for x in np.linspace(start = 5, stop = 50, num = 5)]\n",
    "\n",
    "max_depth = [int(x) for x in np.linspace(1, 10, num = 1)]\n",
    "\n",
    "max_features = ['auto', 'sqrt']\n",
    "\n",
    "min_samples_split = [2, 5, 10]\n",
    "\n",
    "min_samples_leaf = [1, 2, 4]\n",
    "\n",
    "rf_grid = {'n_estimators': n_estimators,\n",
    "           'max_features': max_features,\n",
    "           'max_depth': max_depth,\n",
    "           'min_samples_split': min_samples_split,\n",
    "           'min_samples_leaf': min_samples_leaf}\n",
    "\n",
    "model = RandomizedSearchCV(estimator = RandomForestClassifier(random_state=12345), \n",
    "                   param_distributions = rf_grid, \n",
    "                   cv = 5, n_iter = 10)\n",
    "\n",
    "model.fit(ohe_features_train, target_train)\n",
    "print(model.best_params_)\n",
    "print(model.best_score_)"
   ]
  },
  {
   "cell_type": "code",
   "execution_count": 104,
   "metadata": {
    "scrolled": false
   },
   "outputs": [
    {
     "name": "stdout",
     "output_type": "stream",
     "text": [
      "Fitting 5 folds for each of 100 candidates, totalling 500 fits\n"
     ]
    },
    {
     "name": "stderr",
     "output_type": "stream",
     "text": [
      "/opt/conda/lib/python3.9/site-packages/sklearn/linear_model/_logistic.py:763: ConvergenceWarning: lbfgs failed to converge (status=1):\n",
      "STOP: TOTAL NO. of ITERATIONS REACHED LIMIT.\n",
      "\n",
      "Increase the number of iterations (max_iter) or scale the data as shown in:\n",
      "    https://scikit-learn.org/stable/modules/preprocessing.html\n",
      "Please also refer to the documentation for alternative solver options:\n",
      "    https://scikit-learn.org/stable/modules/linear_model.html#logistic-regression\n",
      "  n_iter_i = _check_optimize_result(\n",
      "/opt/conda/lib/python3.9/site-packages/sklearn/linear_model/_logistic.py:763: ConvergenceWarning: lbfgs failed to converge (status=1):\n",
      "STOP: TOTAL NO. of ITERATIONS REACHED LIMIT.\n",
      "\n",
      "Increase the number of iterations (max_iter) or scale the data as shown in:\n",
      "    https://scikit-learn.org/stable/modules/preprocessing.html\n",
      "Please also refer to the documentation for alternative solver options:\n",
      "    https://scikit-learn.org/stable/modules/linear_model.html#logistic-regression\n",
      "  n_iter_i = _check_optimize_result(\n",
      "/opt/conda/lib/python3.9/site-packages/sklearn/linear_model/_logistic.py:763: ConvergenceWarning: lbfgs failed to converge (status=1):\n",
      "STOP: TOTAL NO. of ITERATIONS REACHED LIMIT.\n",
      "\n",
      "Increase the number of iterations (max_iter) or scale the data as shown in:\n",
      "    https://scikit-learn.org/stable/modules/preprocessing.html\n",
      "Please also refer to the documentation for alternative solver options:\n",
      "    https://scikit-learn.org/stable/modules/linear_model.html#logistic-regression\n",
      "  n_iter_i = _check_optimize_result(\n",
      "/opt/conda/lib/python3.9/site-packages/sklearn/linear_model/_logistic.py:763: ConvergenceWarning: lbfgs failed to converge (status=1):\n",
      "STOP: TOTAL NO. of ITERATIONS REACHED LIMIT.\n",
      "\n",
      "Increase the number of iterations (max_iter) or scale the data as shown in:\n",
      "    https://scikit-learn.org/stable/modules/preprocessing.html\n",
      "Please also refer to the documentation for alternative solver options:\n",
      "    https://scikit-learn.org/stable/modules/linear_model.html#logistic-regression\n",
      "  n_iter_i = _check_optimize_result(\n",
      "/opt/conda/lib/python3.9/site-packages/sklearn/linear_model/_logistic.py:763: ConvergenceWarning: lbfgs failed to converge (status=1):\n",
      "STOP: TOTAL NO. of ITERATIONS REACHED LIMIT.\n",
      "\n",
      "Increase the number of iterations (max_iter) or scale the data as shown in:\n",
      "    https://scikit-learn.org/stable/modules/preprocessing.html\n",
      "Please also refer to the documentation for alternative solver options:\n",
      "    https://scikit-learn.org/stable/modules/linear_model.html#logistic-regression\n",
      "  n_iter_i = _check_optimize_result(\n",
      "/opt/conda/lib/python3.9/site-packages/sklearn/linear_model/_logistic.py:763: ConvergenceWarning: lbfgs failed to converge (status=1):\n",
      "STOP: TOTAL NO. of ITERATIONS REACHED LIMIT.\n",
      "\n",
      "Increase the number of iterations (max_iter) or scale the data as shown in:\n",
      "    https://scikit-learn.org/stable/modules/preprocessing.html\n",
      "Please also refer to the documentation for alternative solver options:\n",
      "    https://scikit-learn.org/stable/modules/linear_model.html#logistic-regression\n",
      "  n_iter_i = _check_optimize_result(\n",
      "/opt/conda/lib/python3.9/site-packages/sklearn/linear_model/_logistic.py:763: ConvergenceWarning: lbfgs failed to converge (status=1):\n",
      "STOP: TOTAL NO. of ITERATIONS REACHED LIMIT.\n",
      "\n",
      "Increase the number of iterations (max_iter) or scale the data as shown in:\n",
      "    https://scikit-learn.org/stable/modules/preprocessing.html\n",
      "Please also refer to the documentation for alternative solver options:\n",
      "    https://scikit-learn.org/stable/modules/linear_model.html#logistic-regression\n",
      "  n_iter_i = _check_optimize_result(\n",
      "/opt/conda/lib/python3.9/site-packages/sklearn/linear_model/_logistic.py:763: ConvergenceWarning: lbfgs failed to converge (status=1):\n",
      "STOP: TOTAL NO. of ITERATIONS REACHED LIMIT.\n",
      "\n",
      "Increase the number of iterations (max_iter) or scale the data as shown in:\n",
      "    https://scikit-learn.org/stable/modules/preprocessing.html\n",
      "Please also refer to the documentation for alternative solver options:\n",
      "    https://scikit-learn.org/stable/modules/linear_model.html#logistic-regression\n",
      "  n_iter_i = _check_optimize_result(\n",
      "/opt/conda/lib/python3.9/site-packages/sklearn/linear_model/_logistic.py:763: ConvergenceWarning: lbfgs failed to converge (status=1):\n",
      "STOP: TOTAL NO. of ITERATIONS REACHED LIMIT.\n",
      "\n",
      "Increase the number of iterations (max_iter) or scale the data as shown in:\n",
      "    https://scikit-learn.org/stable/modules/preprocessing.html\n",
      "Please also refer to the documentation for alternative solver options:\n",
      "    https://scikit-learn.org/stable/modules/linear_model.html#logistic-regression\n",
      "  n_iter_i = _check_optimize_result(\n",
      "/opt/conda/lib/python3.9/site-packages/sklearn/linear_model/_logistic.py:763: ConvergenceWarning: lbfgs failed to converge (status=1):\n",
      "STOP: TOTAL NO. of ITERATIONS REACHED LIMIT.\n",
      "\n",
      "Increase the number of iterations (max_iter) or scale the data as shown in:\n",
      "    https://scikit-learn.org/stable/modules/preprocessing.html\n",
      "Please also refer to the documentation for alternative solver options:\n",
      "    https://scikit-learn.org/stable/modules/linear_model.html#logistic-regression\n",
      "  n_iter_i = _check_optimize_result(\n",
      "/opt/conda/lib/python3.9/site-packages/sklearn/linear_model/_logistic.py:763: ConvergenceWarning: lbfgs failed to converge (status=1):\n",
      "STOP: TOTAL NO. of ITERATIONS REACHED LIMIT.\n",
      "\n",
      "Increase the number of iterations (max_iter) or scale the data as shown in:\n",
      "    https://scikit-learn.org/stable/modules/preprocessing.html\n",
      "Please also refer to the documentation for alternative solver options:\n",
      "    https://scikit-learn.org/stable/modules/linear_model.html#logistic-regression\n",
      "  n_iter_i = _check_optimize_result(\n",
      "/opt/conda/lib/python3.9/site-packages/sklearn/linear_model/_logistic.py:763: ConvergenceWarning: lbfgs failed to converge (status=1):\n",
      "STOP: TOTAL NO. of ITERATIONS REACHED LIMIT.\n",
      "\n",
      "Increase the number of iterations (max_iter) or scale the data as shown in:\n",
      "    https://scikit-learn.org/stable/modules/preprocessing.html\n",
      "Please also refer to the documentation for alternative solver options:\n",
      "    https://scikit-learn.org/stable/modules/linear_model.html#logistic-regression\n",
      "  n_iter_i = _check_optimize_result(\n",
      "/opt/conda/lib/python3.9/site-packages/sklearn/linear_model/_logistic.py:763: ConvergenceWarning: lbfgs failed to converge (status=1):\n",
      "STOP: TOTAL NO. of ITERATIONS REACHED LIMIT.\n",
      "\n",
      "Increase the number of iterations (max_iter) or scale the data as shown in:\n",
      "    https://scikit-learn.org/stable/modules/preprocessing.html\n",
      "Please also refer to the documentation for alternative solver options:\n",
      "    https://scikit-learn.org/stable/modules/linear_model.html#logistic-regression\n",
      "  n_iter_i = _check_optimize_result(\n",
      "/opt/conda/lib/python3.9/site-packages/sklearn/linear_model/_logistic.py:763: ConvergenceWarning: lbfgs failed to converge (status=1):\n",
      "STOP: TOTAL NO. of ITERATIONS REACHED LIMIT.\n",
      "\n",
      "Increase the number of iterations (max_iter) or scale the data as shown in:\n",
      "    https://scikit-learn.org/stable/modules/preprocessing.html\n",
      "Please also refer to the documentation for alternative solver options:\n",
      "    https://scikit-learn.org/stable/modules/linear_model.html#logistic-regression\n",
      "  n_iter_i = _check_optimize_result(\n",
      "/opt/conda/lib/python3.9/site-packages/sklearn/linear_model/_logistic.py:763: ConvergenceWarning: lbfgs failed to converge (status=1):\n",
      "STOP: TOTAL NO. of ITERATIONS REACHED LIMIT.\n",
      "\n",
      "Increase the number of iterations (max_iter) or scale the data as shown in:\n",
      "    https://scikit-learn.org/stable/modules/preprocessing.html\n",
      "Please also refer to the documentation for alternative solver options:\n",
      "    https://scikit-learn.org/stable/modules/linear_model.html#logistic-regression\n",
      "  n_iter_i = _check_optimize_result(\n"
     ]
    },
    {
     "name": "stdout",
     "output_type": "stream",
     "text": [
      "{'warm_start': False, 'solver': 'lbfgs', 'max_iter': 1265, 'C': 0.04}\n",
      "0.622583370896171\n"
     ]
    }
   ],
   "source": [
    "estimator = LogisticRegression()\n",
    "\n",
    "max_iter = range(100, 2000)\n",
    "solver = ['newton-cg', 'lbfgs', 'liblinear']\n",
    "warm_start = [True, False]\n",
    "C = np.arange(0, 1, 0.01)\n",
    "\n",
    "params = {'max_iter': max_iter, 'warm_start': warm_start, 'solver': solver, 'C': C}\n",
    "\n",
    "random_estimator = RandomizedSearchCV(estimator=estimator, param_distributions=params, n_iter=100, scoring='accuracy', n_jobs=-1, verbose=1, random_state=12345)\n",
    "random_estimator.fit(ohe_features_train, target_train)\n",
    "print(random_estimator.best_params_)\n",
    "print(random_estimator.best_score_)"
   ]
  },
  {
   "cell_type": "code",
   "execution_count": 102,
   "metadata": {},
   "outputs": [
    {
     "name": "stdout",
     "output_type": "stream",
     "text": [
      "Кроссвалидационная оценка качества модели: 0.6987755570117413\n",
      "Кроссвалидационная оценка качества модели: 0.7426108203319771\n",
      "Кроссвалидационная оценка качества модели: 0.6638220100030501\n",
      "Кроссвалидационная оценка качества модели: 0.6481141857031568\n",
      "Кроссвалидационная оценка качества модели: 0.6355105073696196\n",
      "Кроссвалидационная оценка качества модели: 0.6145145166734706\n",
      "Кроссвалидационная оценка качества модели: 0.6133463960901356\n",
      "Кроссвалидационная оценка качества модели: 0.5766571684127078\n",
      "Кроссвалидационная оценка качества модели: 0.5718615738349003\n"
     ]
    }
   ],
   "source": [
    "#model1 = DecisionTreeClassifier(random_state=12345)\n",
    "#scores = cross_val_score(model1, ohe_features_train, target_train, cv=5)\n",
    "#print('Кроссвалидационная оценка качества модели:', scores.mean())\n",
    "\n",
    "for depth in range(1, 10):\n",
    "    model4 = DecisionTreeClassifier(random_state=12345,max_depth=depth)\n",
    "    scores = cross_val_score(model4, ohe_features_train, target_train, cv=5)\n",
    "    print('Кроссвалидационная оценка качества модели:', scores.mean())\n",
    "    "
   ]
  },
  {
   "cell_type": "code",
   "execution_count": 53,
   "metadata": {},
   "outputs": [
    {
     "name": "stdout",
     "output_type": "stream",
     "text": [
      "Кроссвалидационная оценка качества модели: 0.7426108203319771\n"
     ]
    }
   ],
   "source": [
    "model11 = DecisionTreeClassifier(random_state=12345, max_depth=2)\n",
    "scores = cross_val_score(model11, ohe_features_train, target_train, cv=5)\n",
    "print('Кроссвалидационная оценка качества модели:', scores.mean())"
   ]
  },
  {
   "cell_type": "code",
   "execution_count": 54,
   "metadata": {},
   "outputs": [
    {
     "name": "stdout",
     "output_type": "stream",
     "text": [
      "Кроссвалидационная оценка качества модели: 0.6157743070379926\n"
     ]
    }
   ],
   "source": [
    "model2 = LogisticRegression(random_state=12345, solver='liblinear')\n",
    "scores = cross_val_score(model2, ohe_features_train, target_train, cv=5)\n",
    "print('Кроссвалидационная оценка качества модели:', scores.mean())"
   ]
  },
  {
   "cell_type": "code",
   "execution_count": 103,
   "metadata": {},
   "outputs": [
    {
     "name": "stdout",
     "output_type": "stream",
     "text": [
      "Кроссвалидационная оценка качества модели: 0.5723536365736465\n",
      "Кроссвалидационная оценка качества модели: 0.575412271287085\n",
      "Кроссвалидационная оценка качества модели: 0.5677577701449158\n",
      "Кроссвалидационная оценка качества модели: 0.5712775767352607\n",
      "Кроссвалидационная оценка качества модели: 0.5673427816006263\n",
      "Кроссвалидационная оценка качества модели: 0.572568741055818\n",
      "Кроссвалидационная оценка качества модели: 0.5681112935162452\n",
      "Кроссвалидационная оценка качества модели: 0.567050721039938\n",
      "Кроссвалидационная оценка качества модели: 0.5689874043287461\n"
     ]
    }
   ],
   "source": [
    "#model3 = RandomForestClassifier(random_state=12345, n_estimators=10)\n",
    "#scores = cross_val_score(model3, ohe_features_train, target_train, cv=5)\n",
    "#print('Кроссвалидационная оценка качества модели:', scores.mean())\n",
    "\n",
    "for n_estimators in range(1, 10):\n",
    "    model5 = RandomForestClassifier(random_state=12345,n_estimators=n_estimators)\n",
    "    scores = cross_val_score(model5, ohe_features_train, target_train, cv=5)\n",
    "    print('Кроссвалидационная оценка качества модели:', scores.mean())"
   ]
  },
  {
   "cell_type": "code",
   "execution_count": 56,
   "metadata": {},
   "outputs": [
    {
     "name": "stdout",
     "output_type": "stream",
     "text": [
      "Accuracy наилучшей модели на валидационной выборке: 0.702996011501716\n"
     ]
    },
    {
     "data": {
      "text/plain": [
       "RandomForestClassifier(n_estimators=10, random_state=12345)"
      ]
     },
     "execution_count": 56,
     "metadata": {},
     "output_type": "execute_result"
    }
   ],
   "source": [
    "best_model = None\n",
    "best_result = 0\n",
    "for est in range(1, 11):\n",
    "    model_cv = RandomForestClassifier(random_state=12345, n_estimators=est)\n",
    "    model.fit(ohe_features_train, target_train)\n",
    "    result = model.score(ohe_features_test, target_test)\n",
    "    if result > best_result:\n",
    "        best_model = model\n",
    "        best_result = model.score(ohe_features_test, target_test)\n",
    "print(\"Accuracy наилучшей модели на валидационной выборке:\", best_result)\n",
    "best_model"
   ]
  },
  {
   "cell_type": "code",
   "execution_count": 57,
   "metadata": {
    "scrolled": true
   },
   "outputs": [
    {
     "name": "stdout",
     "output_type": "stream",
     "text": [
      "Кроссвалидационная оценка качества модели: 0.5712775767352607\n"
     ]
    }
   ],
   "source": [
    "model31 = RandomForestClassifier(random_state=12345, n_estimators=4)\n",
    "scores = cross_val_score(model31, ohe_features_train, target_train, cv=5)\n",
    "print('Кроссвалидационная оценка качества модели:', scores.mean())"
   ]
  },
  {
   "cell_type": "markdown",
   "metadata": {},
   "source": [
    "После обучения различных моделей и подбора их гиперпараметров останавливаем наш выбор на модели с лучшим результатом кроссвалидационной оценки качества: model11 = DecisionTreeClassifier(random_state=12345, max_depth=2). Ее и будем использовать для расчета."
   ]
  },
  {
   "cell_type": "code",
   "execution_count": 58,
   "metadata": {},
   "outputs": [
    {
     "data": {
      "text/plain": [
       "0.702996011501716"
      ]
     },
     "execution_count": 58,
     "metadata": {},
     "output_type": "execute_result"
    }
   ],
   "source": [
    "model31.fit(ohe_features_train, target_train)\n",
    "predicted_test = model31.predict(ohe_features_test)\n",
    "model.score(ohe_features_test, target_test)"
   ]
  },
  {
   "cell_type": "markdown",
   "metadata": {},
   "source": [
    "На тестовом датафрейме модель показала Accuracy в 0,69. Чуть хуже результата на кроссвалидации, но ненамного."
   ]
  },
  {
   "cell_type": "markdown",
   "metadata": {},
   "source": [
    "<div class=\"alert alert-danger\">\n",
    "<b>Комментарий ревьюера: &#10060; </b> Не совсем так. Если ты используешь циклы, то кроссвалидацию нужно прописывать внутри цикла. Проще для подбора гиперпараметров и кроссвалидации использовать GridSearcCV или RandomizedSearchCV. На тестовой выборке мы проверяем только итоговую модель (если лучшая модель получась randomforest, то проверяем только ее). Так же по заданию необходимо оценить прибыль после внедрения модели </div>"
   ]
  },
  {
   "cell_type": "markdown",
   "metadata": {},
   "source": [
    "### Шаг 5. Опишите портрет «ненадёжного» клиента"
   ]
  },
  {
   "cell_type": "markdown",
   "metadata": {},
   "source": [
    "Ненадежный клиент :\n",
    "- бронирует номер очень заранее\n",
    "- бронирует номер на сезон отпусков, пасхальные или рождественские каникулы (туристы в отпуск ненадежнее путешествующих круглый год)\n",
    "- бронирует на 2, 6 или 9 ночей (особенно если на 2 будних дня)\n",
    "- бронирует номер на 2 взрослых без детей\n",
    "- бронирует номер типа A\n",
    "- бронирует полный пансион (редкая пташка)\n",
    "- новый клиент или клиент, ранее много раз уже отменявший бронь\n",
    "- клиент турагенства / клиент по договору от юрлица "
   ]
  },
  {
   "cell_type": "markdown",
   "metadata": {},
   "source": [
    "<div class=\"alert alert-danger\">\n",
    "<b>Комментарий ревьюера: &#10060; </b> Здесь стоит описать клиента с опорой на результаты предсказания модели, описать лучшую модель, решающую данную задачу, и дать рекомендации бизнесу</div>"
   ]
  },
  {
   "cell_type": "markdown",
   "metadata": {},
   "source": [
    "<div class=\"alert alert-info\"> <b>Комментарий студента:</b> Как описывать клиента \"с опорой на результаты предсказания модели\"? Особенно если условия проекта гласят \"На основе исследовательского анализа данных опишите клиента, склонного к отказу от брони\". </div>"
   ]
  },
  {
   "cell_type": "markdown",
   "metadata": {},
   "source": [
    "### Шаг 6. Напишите общий вывод"
   ]
  },
  {
   "cell_type": "markdown",
   "metadata": {},
   "source": [
    "Мы обработали два датафрейма сети отелей \"Как в гостях\", чтобы оценить, какую дополнительную прибыль гостиницы могли бы получить с клиентов, любящих в последний момент отменить свою бронь (а отменяется каждое третье бронирование, даже чуть больше, 36,9%).\n",
    "Нами был проведен исследовательский анализ данных, чтобы составить портрет ненадёжного клиента, который чаще других отменяет бронирования.\n",
    "Мы подсчитали текущую прибыль отеля с потерями от отмен и предлагаем ввести систему депозитов для \"ненадежных\" клиентов. На исторических данных использование данной системы позволило бы увеличить прибыль с 37 до почти 70 миллионов у.е. \n",
    "Мы построили и обучили модель машинного обучения, которая показывает точность в 70%, соответственно, при ее использовании в будущем мы могли бы увеличить прибыль отеля с 37 до 60 млн у.е."
   ]
  },
  {
   "cell_type": "markdown",
   "metadata": {},
   "source": [
    "<b>Итоговый комментарий ревьюера:</b> Молодец, хорошая работа, отдельный респект за подробный EDA. Есть пара критических моментов, на которые стоит обратить внимание, а именно:\n",
    "1. Выбросы\n",
    "2. Формула расчета количества уборок\n",
    "3. Мультиколлинеарность и неинформативные столбцы\n",
    "4. Кодирование и масштабирование\n",
    "5. Подбор гиперпараметров, кроссвалидация и тестирование итоговой модели\n",
    "6. Портрет \"ненадежного клиента\"<br>\n",
    "Если остались какие-либо вопросы, не стесняйся их задавать) Ниже оставлю пару ссылок для самообучения!"
   ]
  },
  {
   "cell_type": "markdown",
   "metadata": {},
   "source": [
    "<div class=\"alert alert-success\">\n",
    "<b>Рубрика “Полезные ссылки”:\n",
    "✅</b> <br>\n",
    "<a href = \"https://sphweb.bumc.bu.edu/otlt/MPH-Modules/PH717-QuantCore/PH717-Module9-Correlation-Regression/PH717-Module9-Correlation-Regression4.html\">Коэффициенты корреляции</a><br>\n",
    "<a href = \"https://www.researchgate.net/profile/Paul-Louangrath/post/Ranking_or_scoring_variables_using_conditional_probability/attachment/59d63c45c49f478072ea7c1a/AS%3A273748962283533%401442278246675/download/100+Statistical+Tests.pdf\">100 Statistical tests</a><br>\n",
    "<a href = \"https://loginom.ru/blog/missing\">Обработка пропусков</a><br>\n",
    "<a href = \"https://coderlessons.com/tutorials/python-technologies/izuchai-siborna/siborn-kratkoe-rukovodstvo\"> Seaborn</a><br>\n",
    "<a href = \"https://habr.com/ru/post/502958/\"> Plotly</a><br>\n",
    "<a href = \"https://medium.com/@jetbootsmaker/%D0%BF%D0%BE%D0%B2%D1%8B%D1%88%D0%B0%D0%B5%D0%BC-%D0%BF%D1%80%D0%BE%D0%B4%D1%83%D0%BA%D1%82%D0%B8%D0%B2%D0%BD%D0%BE%D1%81%D1%82%D1%8C-%D0%BF%D1%80%D0%B8-%D1%80%D0%B0%D0%B1%D0%BE%D1%82%D0%B5-%D1%81-jupyter-notebook-81a1cab8bac1\"> Повышаем продуктивность при работе с Jupyter</a><br>\n",
    "<a href = \"https://towardsdatascience.com/5-things-you-should-know-about-covariance-26b12a0516f1\">5 Things You Should Know About Covariance</a><br>\n",
    "    <a href = \"https://machinelearningmastery.com/how-to-use-statistics-to-identify-outliers-in-data/\">Выбросы</a><br>\n",
    "    <a href = \"https://www.kaggle.com/code/baghern/a-deep-dive-into-sklearn-pipelines/notebook\">Pipeline</a>\n",
    "</div>"
   ]
  }
 ],
 "metadata": {
  "ExecuteTimeLog": [
   {
    "duration": 484,
    "start_time": "2023-01-02T19:33:43.449Z"
   },
   {
    "duration": 939,
    "start_time": "2023-01-02T19:34:11.793Z"
   },
   {
    "duration": 477,
    "start_time": "2023-01-02T19:34:27.907Z"
   },
   {
    "duration": 301,
    "start_time": "2023-01-02T19:34:36.831Z"
   },
   {
    "duration": 23,
    "start_time": "2023-01-02T19:36:53.366Z"
   },
   {
    "duration": 300,
    "start_time": "2023-01-02T19:37:28.708Z"
   },
   {
    "duration": 27,
    "start_time": "2023-01-02T19:37:38.793Z"
   },
   {
    "duration": 11,
    "start_time": "2023-01-02T19:38:06.630Z"
   },
   {
    "duration": 20,
    "start_time": "2023-01-02T19:41:28.689Z"
   },
   {
    "duration": 397,
    "start_time": "2023-01-03T13:39:36.082Z"
   },
   {
    "duration": 979,
    "start_time": "2023-01-03T13:39:36.481Z"
   },
   {
    "duration": 29,
    "start_time": "2023-01-03T13:39:37.462Z"
   },
   {
    "duration": 33,
    "start_time": "2023-01-03T13:41:49.148Z"
   },
   {
    "duration": 29,
    "start_time": "2023-01-03T13:42:13.434Z"
   },
   {
    "duration": 30,
    "start_time": "2023-01-03T13:42:44.109Z"
   },
   {
    "duration": 37,
    "start_time": "2023-01-03T13:42:48.583Z"
   },
   {
    "duration": 32,
    "start_time": "2023-01-03T13:42:54.287Z"
   },
   {
    "duration": 7,
    "start_time": "2023-01-03T13:46:38.529Z"
   },
   {
    "duration": 66,
    "start_time": "2023-01-03T13:46:46.938Z"
   },
   {
    "duration": 12,
    "start_time": "2023-01-03T13:46:55.060Z"
   },
   {
    "duration": 12,
    "start_time": "2023-01-03T13:47:09.062Z"
   },
   {
    "duration": 13,
    "start_time": "2023-01-03T13:47:19.116Z"
   },
   {
    "duration": 65,
    "start_time": "2023-01-03T13:49:07.039Z"
   },
   {
    "duration": 66,
    "start_time": "2023-01-03T13:49:10.851Z"
   },
   {
    "duration": 95,
    "start_time": "2023-01-03T13:49:21.451Z"
   },
   {
    "duration": 35,
    "start_time": "2023-01-03T13:49:24.483Z"
   },
   {
    "duration": 410,
    "start_time": "2023-01-03T13:49:34.268Z"
   },
   {
    "duration": 7,
    "start_time": "2023-01-03T13:50:33.615Z"
   },
   {
    "duration": 5,
    "start_time": "2023-01-03T13:51:08.224Z"
   },
   {
    "duration": 7,
    "start_time": "2023-01-03T13:51:11.525Z"
   },
   {
    "duration": 4,
    "start_time": "2023-01-03T13:52:42.716Z"
   },
   {
    "duration": 14,
    "start_time": "2023-01-03T13:52:45.063Z"
   },
   {
    "duration": 7,
    "start_time": "2023-01-03T13:55:33.706Z"
   },
   {
    "duration": 6,
    "start_time": "2023-01-03T13:55:44.848Z"
   },
   {
    "duration": 30,
    "start_time": "2023-01-03T13:56:00.054Z"
   },
   {
    "duration": 5,
    "start_time": "2023-01-03T14:00:39.469Z"
   },
   {
    "duration": 5,
    "start_time": "2023-01-03T14:01:03.337Z"
   },
   {
    "duration": 6,
    "start_time": "2023-01-03T14:01:14.592Z"
   },
   {
    "duration": 8,
    "start_time": "2023-01-03T14:02:01.274Z"
   },
   {
    "duration": 10,
    "start_time": "2023-01-03T14:02:11.202Z"
   },
   {
    "duration": 7,
    "start_time": "2023-01-03T14:02:30.076Z"
   },
   {
    "duration": 9,
    "start_time": "2023-01-03T14:02:34.217Z"
   },
   {
    "duration": 1103,
    "start_time": "2023-01-03T14:03:11.796Z"
   },
   {
    "duration": 6,
    "start_time": "2023-01-03T14:06:36.865Z"
   },
   {
    "duration": 11,
    "start_time": "2023-01-03T14:07:05.805Z"
   },
   {
    "duration": 12,
    "start_time": "2023-01-03T14:08:02.569Z"
   },
   {
    "duration": 42,
    "start_time": "2023-01-03T14:09:33.437Z"
   },
   {
    "duration": 380,
    "start_time": "2023-01-04T19:42:16.046Z"
   },
   {
    "duration": 545,
    "start_time": "2023-01-04T19:42:16.428Z"
   },
   {
    "duration": 41,
    "start_time": "2023-01-04T19:42:16.975Z"
   },
   {
    "duration": 8,
    "start_time": "2023-01-04T19:42:17.018Z"
   },
   {
    "duration": 43,
    "start_time": "2023-01-04T19:42:17.028Z"
   },
   {
    "duration": 10,
    "start_time": "2023-01-04T19:42:58.121Z"
   },
   {
    "duration": 11,
    "start_time": "2023-01-04T19:43:29.855Z"
   },
   {
    "duration": 11,
    "start_time": "2023-01-04T19:43:43.740Z"
   },
   {
    "duration": 85,
    "start_time": "2023-01-04T19:46:37.022Z"
   },
   {
    "duration": 12,
    "start_time": "2023-01-04T19:50:17.599Z"
   },
   {
    "duration": 18,
    "start_time": "2023-01-04T19:50:23.635Z"
   },
   {
    "duration": 9,
    "start_time": "2023-01-04T19:51:21.581Z"
   },
   {
    "duration": 16,
    "start_time": "2023-01-04T19:51:54.404Z"
   },
   {
    "duration": 14,
    "start_time": "2023-01-04T19:52:16.226Z"
   },
   {
    "duration": 18,
    "start_time": "2023-01-04T19:52:20.583Z"
   },
   {
    "duration": 7,
    "start_time": "2023-01-04T20:09:34.408Z"
   },
   {
    "duration": 9,
    "start_time": "2023-01-04T20:20:43.335Z"
   },
   {
    "duration": 10,
    "start_time": "2023-01-04T20:20:51.434Z"
   },
   {
    "duration": 9,
    "start_time": "2023-01-04T20:20:56.137Z"
   },
   {
    "duration": 10,
    "start_time": "2023-01-04T20:21:00.899Z"
   },
   {
    "duration": 9,
    "start_time": "2023-01-04T20:21:07.660Z"
   },
   {
    "duration": 9,
    "start_time": "2023-01-04T20:21:11.887Z"
   },
   {
    "duration": 8,
    "start_time": "2023-01-04T20:21:17.087Z"
   },
   {
    "duration": 9,
    "start_time": "2023-01-04T20:21:36.965Z"
   },
   {
    "duration": 5,
    "start_time": "2023-01-04T20:24:36.910Z"
   },
   {
    "duration": 11,
    "start_time": "2023-01-04T20:24:49.710Z"
   },
   {
    "duration": 8,
    "start_time": "2023-01-04T20:28:53.090Z"
   },
   {
    "duration": 15,
    "start_time": "2023-01-04T20:29:59.527Z"
   },
   {
    "duration": 15,
    "start_time": "2023-01-04T20:30:17.031Z"
   },
   {
    "duration": 18,
    "start_time": "2023-01-04T20:30:22.235Z"
   },
   {
    "duration": 63,
    "start_time": "2023-01-04T20:31:48.455Z"
   },
   {
    "duration": 6,
    "start_time": "2023-01-04T20:31:51.122Z"
   },
   {
    "duration": 10,
    "start_time": "2023-01-04T20:32:31.412Z"
   },
   {
    "duration": 16,
    "start_time": "2023-01-04T20:32:51.690Z"
   },
   {
    "duration": 15,
    "start_time": "2023-01-04T20:33:34.439Z"
   },
   {
    "duration": 24,
    "start_time": "2023-01-04T20:35:09.026Z"
   },
   {
    "duration": 17,
    "start_time": "2023-01-04T20:35:22.841Z"
   },
   {
    "duration": 18,
    "start_time": "2023-01-04T20:35:50.964Z"
   },
   {
    "duration": 46,
    "start_time": "2023-01-05T19:10:13.973Z"
   },
   {
    "duration": 414,
    "start_time": "2023-01-05T19:10:18.296Z"
   },
   {
    "duration": 474,
    "start_time": "2023-01-05T19:10:18.712Z"
   },
   {
    "duration": 87,
    "start_time": "2023-01-05T19:10:19.188Z"
   },
   {
    "duration": 22,
    "start_time": "2023-01-05T19:10:19.277Z"
   },
   {
    "duration": 10,
    "start_time": "2023-01-05T19:10:19.301Z"
   },
   {
    "duration": 9,
    "start_time": "2023-01-05T19:10:19.313Z"
   },
   {
    "duration": 35,
    "start_time": "2023-01-05T19:10:19.324Z"
   },
   {
    "duration": 11,
    "start_time": "2023-01-05T19:10:19.361Z"
   },
   {
    "duration": 22,
    "start_time": "2023-01-05T19:10:19.373Z"
   },
   {
    "duration": 31,
    "start_time": "2023-01-05T19:10:19.397Z"
   },
   {
    "duration": 17,
    "start_time": "2023-01-05T19:10:19.430Z"
   },
   {
    "duration": 19,
    "start_time": "2023-01-05T19:10:19.448Z"
   },
   {
    "duration": 25,
    "start_time": "2023-01-05T19:10:19.469Z"
   },
   {
    "duration": 13,
    "start_time": "2023-01-05T19:10:19.496Z"
   },
   {
    "duration": 19,
    "start_time": "2023-01-05T19:10:19.510Z"
   },
   {
    "duration": 6,
    "start_time": "2023-01-05T19:10:35.591Z"
   },
   {
    "duration": 117,
    "start_time": "2023-01-05T19:17:41.343Z"
   },
   {
    "duration": 140,
    "start_time": "2023-01-05T19:17:56.268Z"
   },
   {
    "duration": 128,
    "start_time": "2023-01-05T19:18:06.655Z"
   },
   {
    "duration": 122,
    "start_time": "2023-01-05T19:19:12.527Z"
   },
   {
    "duration": 33,
    "start_time": "2023-01-05T19:19:28.399Z"
   },
   {
    "duration": 3,
    "start_time": "2023-01-05T19:19:31.823Z"
   },
   {
    "duration": 379,
    "start_time": "2023-01-05T19:19:31.830Z"
   },
   {
    "duration": 70,
    "start_time": "2023-01-05T19:19:32.211Z"
   },
   {
    "duration": 21,
    "start_time": "2023-01-05T19:19:32.283Z"
   },
   {
    "duration": 20,
    "start_time": "2023-01-05T19:19:32.306Z"
   },
   {
    "duration": 24,
    "start_time": "2023-01-05T19:19:32.327Z"
   },
   {
    "duration": 27,
    "start_time": "2023-01-05T19:19:36.248Z"
   },
   {
    "duration": 5,
    "start_time": "2023-01-05T19:19:54.042Z"
   },
   {
    "duration": 32,
    "start_time": "2023-01-05T19:20:31.087Z"
   },
   {
    "duration": 84,
    "start_time": "2023-01-05T19:21:57.497Z"
   },
   {
    "duration": 77,
    "start_time": "2023-01-05T19:48:45.611Z"
   },
   {
    "duration": 10,
    "start_time": "2023-01-05T19:51:17.427Z"
   },
   {
    "duration": 65,
    "start_time": "2023-01-05T19:51:37.620Z"
   },
   {
    "duration": 73,
    "start_time": "2023-01-05T19:51:46.336Z"
   },
   {
    "duration": 400,
    "start_time": "2023-01-06T13:47:36.724Z"
   },
   {
    "duration": 509,
    "start_time": "2023-01-06T13:47:37.126Z"
   },
   {
    "duration": 90,
    "start_time": "2023-01-06T13:47:37.638Z"
   },
   {
    "duration": 26,
    "start_time": "2023-01-06T13:47:37.730Z"
   },
   {
    "duration": 7,
    "start_time": "2023-01-06T13:47:37.758Z"
   },
   {
    "duration": 17,
    "start_time": "2023-01-06T13:47:37.767Z"
   },
   {
    "duration": 69,
    "start_time": "2023-01-06T13:47:37.786Z"
   },
   {
    "duration": 13,
    "start_time": "2023-01-06T13:47:37.856Z"
   },
   {
    "duration": 27,
    "start_time": "2023-01-06T13:47:37.871Z"
   },
   {
    "duration": 20,
    "start_time": "2023-01-06T13:47:37.900Z"
   },
   {
    "duration": 20,
    "start_time": "2023-01-06T13:47:37.921Z"
   },
   {
    "duration": 27,
    "start_time": "2023-01-06T13:47:37.943Z"
   },
   {
    "duration": 23,
    "start_time": "2023-01-06T13:47:37.972Z"
   },
   {
    "duration": 14,
    "start_time": "2023-01-06T13:47:37.997Z"
   },
   {
    "duration": 18,
    "start_time": "2023-01-06T13:47:38.012Z"
   },
   {
    "duration": 107,
    "start_time": "2023-01-06T13:47:38.032Z"
   },
   {
    "duration": 377,
    "start_time": "2023-01-06T13:48:20.741Z"
   },
   {
    "duration": 135,
    "start_time": "2023-01-06T13:48:51.609Z"
   },
   {
    "duration": 179,
    "start_time": "2023-01-06T13:49:31.638Z"
   },
   {
    "duration": 249,
    "start_time": "2023-01-06T13:49:40.333Z"
   },
   {
    "duration": 320,
    "start_time": "2023-01-06T13:49:48.148Z"
   },
   {
    "duration": 76971,
    "start_time": "2023-01-06T13:53:30.376Z"
   },
   {
    "duration": 722,
    "start_time": "2023-01-06T18:48:19.247Z"
   },
   {
    "duration": 449,
    "start_time": "2023-01-06T18:48:19.972Z"
   },
   {
    "duration": 77,
    "start_time": "2023-01-06T18:48:20.423Z"
   },
   {
    "duration": 31,
    "start_time": "2023-01-06T18:48:20.502Z"
   },
   {
    "duration": 7,
    "start_time": "2023-01-06T18:48:20.535Z"
   },
   {
    "duration": 29,
    "start_time": "2023-01-06T18:48:20.544Z"
   },
   {
    "duration": 56,
    "start_time": "2023-01-06T18:48:20.575Z"
   },
   {
    "duration": 12,
    "start_time": "2023-01-06T18:48:20.632Z"
   },
   {
    "duration": 35,
    "start_time": "2023-01-06T18:48:20.646Z"
   },
   {
    "duration": 9,
    "start_time": "2023-01-06T18:48:20.683Z"
   },
   {
    "duration": 29,
    "start_time": "2023-01-06T18:48:20.694Z"
   },
   {
    "duration": 12,
    "start_time": "2023-01-06T18:48:20.725Z"
   },
   {
    "duration": 25,
    "start_time": "2023-01-06T18:48:20.739Z"
   },
   {
    "duration": 32,
    "start_time": "2023-01-06T18:48:20.766Z"
   },
   {
    "duration": 31,
    "start_time": "2023-01-06T18:48:20.799Z"
   },
   {
    "duration": 92,
    "start_time": "2023-01-06T18:48:20.832Z"
   },
   {
    "duration": 137,
    "start_time": "2023-01-06T18:48:20.926Z"
   },
   {
    "duration": 232,
    "start_time": "2023-01-06T18:55:21.076Z"
   },
   {
    "duration": 214,
    "start_time": "2023-01-06T18:56:48.962Z"
   },
   {
    "duration": 194,
    "start_time": "2023-01-06T18:57:13.814Z"
   },
   {
    "duration": 246,
    "start_time": "2023-01-06T18:57:18.479Z"
   },
   {
    "duration": 220,
    "start_time": "2023-01-06T18:57:30.287Z"
   },
   {
    "duration": 459,
    "start_time": "2023-01-06T18:58:28.082Z"
   },
   {
    "duration": 203,
    "start_time": "2023-01-06T18:58:38.696Z"
   },
   {
    "duration": 218,
    "start_time": "2023-01-06T19:00:00.172Z"
   },
   {
    "duration": 214,
    "start_time": "2023-01-06T19:00:38.440Z"
   },
   {
    "duration": 230,
    "start_time": "2023-01-06T19:01:36.466Z"
   },
   {
    "duration": 209,
    "start_time": "2023-01-06T19:02:07.491Z"
   },
   {
    "duration": 242,
    "start_time": "2023-01-06T19:02:16.394Z"
   },
   {
    "duration": 209,
    "start_time": "2023-01-06T19:02:22.312Z"
   },
   {
    "duration": 59,
    "start_time": "2023-01-06T19:02:25.540Z"
   },
   {
    "duration": 303,
    "start_time": "2023-01-06T19:02:27.487Z"
   },
   {
    "duration": 223,
    "start_time": "2023-01-06T19:04:21.722Z"
   },
   {
    "duration": 225,
    "start_time": "2023-01-06T19:04:33.337Z"
   },
   {
    "duration": 75,
    "start_time": "2023-01-06T19:05:51.416Z"
   },
   {
    "duration": 210,
    "start_time": "2023-01-06T19:06:17.534Z"
   },
   {
    "duration": 217,
    "start_time": "2023-01-06T19:08:12.206Z"
   },
   {
    "duration": 8,
    "start_time": "2023-01-06T19:09:09.522Z"
   },
   {
    "duration": 199,
    "start_time": "2023-01-06T19:09:51.892Z"
   },
   {
    "duration": 462,
    "start_time": "2023-01-06T19:12:58.875Z"
   },
   {
    "duration": 478,
    "start_time": "2023-01-06T19:13:19.728Z"
   },
   {
    "duration": 750,
    "start_time": "2023-01-06T19:13:46.912Z"
   },
   {
    "duration": 536,
    "start_time": "2023-01-06T19:15:15.624Z"
   },
   {
    "duration": 570,
    "start_time": "2023-01-06T19:15:27.576Z"
   },
   {
    "duration": 515,
    "start_time": "2023-01-06T19:15:33.764Z"
   },
   {
    "duration": 602,
    "start_time": "2023-01-06T19:15:37.991Z"
   },
   {
    "duration": 716,
    "start_time": "2023-01-06T19:15:46.343Z"
   },
   {
    "duration": 585,
    "start_time": "2023-01-06T19:16:13.117Z"
   },
   {
    "duration": 834,
    "start_time": "2023-01-06T19:16:27.201Z"
   },
   {
    "duration": 545,
    "start_time": "2023-01-06T19:16:36.837Z"
   },
   {
    "duration": 613,
    "start_time": "2023-01-06T19:16:48.981Z"
   },
   {
    "duration": 207,
    "start_time": "2023-01-06T19:17:02.084Z"
   },
   {
    "duration": 197,
    "start_time": "2023-01-06T19:17:41.329Z"
   },
   {
    "duration": 193,
    "start_time": "2023-01-06T19:18:29.763Z"
   },
   {
    "duration": 265,
    "start_time": "2023-01-06T19:18:44.182Z"
   },
   {
    "duration": 195,
    "start_time": "2023-01-06T19:19:01.481Z"
   },
   {
    "duration": 205,
    "start_time": "2023-01-06T19:19:07.484Z"
   },
   {
    "duration": 196,
    "start_time": "2023-01-06T19:19:11.183Z"
   },
   {
    "duration": 478,
    "start_time": "2023-01-06T19:21:24.787Z"
   },
   {
    "duration": 500,
    "start_time": "2023-01-06T19:21:56.480Z"
   },
   {
    "duration": 616,
    "start_time": "2023-01-06T19:22:18.325Z"
   },
   {
    "duration": 317,
    "start_time": "2023-01-06T19:25:24.529Z"
   },
   {
    "duration": 472,
    "start_time": "2023-01-06T19:33:01.267Z"
   },
   {
    "duration": 233,
    "start_time": "2023-01-06T19:34:01.642Z"
   },
   {
    "duration": 439,
    "start_time": "2023-01-06T19:34:49.988Z"
   },
   {
    "duration": 446,
    "start_time": "2023-01-06T19:34:59.718Z"
   },
   {
    "duration": 446,
    "start_time": "2023-01-06T19:35:12.581Z"
   },
   {
    "duration": 541,
    "start_time": "2023-01-06T19:35:17.097Z"
   },
   {
    "duration": 410,
    "start_time": "2023-01-06T19:35:25.287Z"
   },
   {
    "duration": 467,
    "start_time": "2023-01-06T19:42:31.499Z"
   },
   {
    "duration": 389,
    "start_time": "2023-01-06T19:46:09.542Z"
   },
   {
    "duration": 406,
    "start_time": "2023-01-06T19:47:05.037Z"
   },
   {
    "duration": 396,
    "start_time": "2023-01-06T19:47:15.806Z"
   },
   {
    "duration": 467,
    "start_time": "2023-01-06T19:47:40.176Z"
   },
   {
    "duration": 349,
    "start_time": "2023-01-06T19:48:03.148Z"
   },
   {
    "duration": 356,
    "start_time": "2023-01-06T19:48:33.423Z"
   },
   {
    "duration": 671,
    "start_time": "2023-01-06T19:49:00.090Z"
   },
   {
    "duration": 854,
    "start_time": "2023-01-06T19:49:04.654Z"
   },
   {
    "duration": 914,
    "start_time": "2023-01-06T19:49:14.190Z"
   },
   {
    "duration": 847,
    "start_time": "2023-01-06T19:49:26.154Z"
   },
   {
    "duration": 806,
    "start_time": "2023-01-06T19:49:34.706Z"
   },
   {
    "duration": 866,
    "start_time": "2023-01-06T19:49:54.228Z"
   },
   {
    "duration": 355,
    "start_time": "2023-01-06T19:50:08.468Z"
   },
   {
    "duration": 372,
    "start_time": "2023-01-06T19:50:16.419Z"
   },
   {
    "duration": 647,
    "start_time": "2023-01-06T19:50:51.302Z"
   },
   {
    "duration": 665,
    "start_time": "2023-01-06T19:52:35.221Z"
   },
   {
    "duration": 680,
    "start_time": "2023-01-06T19:53:29.500Z"
   },
   {
    "duration": 824,
    "start_time": "2023-01-06T19:53:36.848Z"
   },
   {
    "duration": 914,
    "start_time": "2023-01-06T19:53:45.560Z"
   },
   {
    "duration": 557,
    "start_time": "2023-01-06T19:54:14.464Z"
   },
   {
    "duration": 675,
    "start_time": "2023-01-06T19:54:38.468Z"
   },
   {
    "duration": 915,
    "start_time": "2023-01-06T19:55:09.425Z"
   },
   {
    "duration": 964,
    "start_time": "2023-01-06T19:55:32.488Z"
   },
   {
    "duration": 546,
    "start_time": "2023-01-06T19:56:00.286Z"
   },
   {
    "duration": 871,
    "start_time": "2023-01-06T19:56:20.285Z"
   },
   {
    "duration": 748,
    "start_time": "2023-01-07T13:24:57.481Z"
   },
   {
    "duration": 3,
    "start_time": "2023-01-07T13:25:00.858Z"
   },
   {
    "duration": 1191,
    "start_time": "2023-01-07T13:25:00.864Z"
   },
   {
    "duration": 72,
    "start_time": "2023-01-07T13:25:02.057Z"
   },
   {
    "duration": 23,
    "start_time": "2023-01-07T13:25:02.130Z"
   },
   {
    "duration": 7,
    "start_time": "2023-01-07T13:25:02.154Z"
   },
   {
    "duration": 18,
    "start_time": "2023-01-07T13:25:02.162Z"
   },
   {
    "duration": 47,
    "start_time": "2023-01-07T13:25:02.182Z"
   },
   {
    "duration": 10,
    "start_time": "2023-01-07T13:25:02.230Z"
   },
   {
    "duration": 34,
    "start_time": "2023-01-07T13:25:02.241Z"
   },
   {
    "duration": 10,
    "start_time": "2023-01-07T13:25:02.277Z"
   },
   {
    "duration": 19,
    "start_time": "2023-01-07T13:25:02.289Z"
   },
   {
    "duration": 20,
    "start_time": "2023-01-07T13:25:02.309Z"
   },
   {
    "duration": 37,
    "start_time": "2023-01-07T13:25:02.330Z"
   },
   {
    "duration": 21,
    "start_time": "2023-01-07T13:25:02.368Z"
   },
   {
    "duration": 19,
    "start_time": "2023-01-07T13:25:02.391Z"
   },
   {
    "duration": 90,
    "start_time": "2023-01-07T13:25:02.411Z"
   },
   {
    "duration": 119,
    "start_time": "2023-01-07T13:25:02.503Z"
   },
   {
    "duration": 385,
    "start_time": "2023-01-07T13:25:02.624Z"
   },
   {
    "duration": 196,
    "start_time": "2023-01-07T13:25:03.010Z"
   },
   {
    "duration": 396,
    "start_time": "2023-01-07T13:25:03.207Z"
   },
   {
    "duration": 339,
    "start_time": "2023-01-07T13:25:03.604Z"
   },
   {
    "duration": 827,
    "start_time": "2023-01-07T13:25:03.945Z"
   },
   {
    "duration": 331,
    "start_time": "2023-01-07T13:25:04.773Z"
   },
   {
    "duration": 874,
    "start_time": "2023-01-07T13:25:05.106Z"
   },
   {
    "duration": 882,
    "start_time": "2023-01-07T13:25:05.982Z"
   },
   {
    "duration": 666,
    "start_time": "2023-01-07T13:25:06.868Z"
   },
   {
    "duration": 357,
    "start_time": "2023-01-07T13:35:48.307Z"
   },
   {
    "duration": 398,
    "start_time": "2023-01-07T13:39:28.264Z"
   },
   {
    "duration": 327,
    "start_time": "2023-01-07T13:41:15.873Z"
   },
   {
    "duration": 186,
    "start_time": "2023-01-07T13:41:59.322Z"
   },
   {
    "duration": 148,
    "start_time": "2023-01-07T13:48:46.785Z"
   },
   {
    "duration": 133,
    "start_time": "2023-01-07T13:49:05.770Z"
   },
   {
    "duration": 173,
    "start_time": "2023-01-07T13:49:15.782Z"
   },
   {
    "duration": 191,
    "start_time": "2023-01-07T13:54:59.244Z"
   },
   {
    "duration": 180,
    "start_time": "2023-01-07T13:55:04.600Z"
   },
   {
    "duration": 645,
    "start_time": "2023-01-07T13:56:30.520Z"
   },
   {
    "duration": 615,
    "start_time": "2023-01-07T13:56:40.267Z"
   },
   {
    "duration": 636,
    "start_time": "2023-01-07T13:59:07.742Z"
   },
   {
    "duration": 336,
    "start_time": "2023-01-07T13:59:13.402Z"
   },
   {
    "duration": 652,
    "start_time": "2023-01-07T14:01:04.222Z"
   },
   {
    "duration": 419,
    "start_time": "2023-01-07T14:01:53.209Z"
   },
   {
    "duration": 399,
    "start_time": "2023-01-07T14:01:57.550Z"
   },
   {
    "duration": 554,
    "start_time": "2023-01-07T14:04:20.084Z"
   },
   {
    "duration": 424,
    "start_time": "2023-01-07T14:04:31.628Z"
   },
   {
    "duration": 469,
    "start_time": "2023-01-07T14:05:05.406Z"
   },
   {
    "duration": 414,
    "start_time": "2023-01-07T14:05:07.849Z"
   },
   {
    "duration": 420,
    "start_time": "2023-01-07T14:06:11.473Z"
   },
   {
    "duration": 858,
    "start_time": "2023-01-07T15:26:49.673Z"
   },
   {
    "duration": 701,
    "start_time": "2023-01-07T15:27:09.267Z"
   },
   {
    "duration": 232,
    "start_time": "2023-01-07T15:27:28.137Z"
   },
   {
    "duration": 274,
    "start_time": "2023-01-07T15:28:04.611Z"
   },
   {
    "duration": 320,
    "start_time": "2023-01-07T15:29:13.033Z"
   },
   {
    "duration": 252,
    "start_time": "2023-01-07T15:30:06.730Z"
   },
   {
    "duration": 143,
    "start_time": "2023-01-07T15:31:46.258Z"
   },
   {
    "duration": 148,
    "start_time": "2023-01-07T15:31:58.578Z"
   },
   {
    "duration": 145,
    "start_time": "2023-01-07T15:32:18.732Z"
   },
   {
    "duration": 151,
    "start_time": "2023-01-07T15:32:38.339Z"
   },
   {
    "duration": 171,
    "start_time": "2023-01-07T15:32:43.932Z"
   },
   {
    "duration": 146,
    "start_time": "2023-01-07T15:32:58.377Z"
   },
   {
    "duration": 146,
    "start_time": "2023-01-07T15:33:58.181Z"
   },
   {
    "duration": 142,
    "start_time": "2023-01-07T15:34:02.534Z"
   },
   {
    "duration": 136,
    "start_time": "2023-01-07T15:35:55.832Z"
   },
   {
    "duration": 143,
    "start_time": "2023-01-07T15:37:06.450Z"
   },
   {
    "duration": 252,
    "start_time": "2023-01-07T15:37:23.175Z"
   },
   {
    "duration": 261,
    "start_time": "2023-01-07T15:37:47.030Z"
   },
   {
    "duration": 252,
    "start_time": "2023-01-07T15:37:53.453Z"
   },
   {
    "duration": 272,
    "start_time": "2023-01-07T15:37:59.028Z"
   },
   {
    "duration": 265,
    "start_time": "2023-01-07T15:38:24.029Z"
   },
   {
    "duration": 257,
    "start_time": "2023-01-07T15:38:28.269Z"
   },
   {
    "duration": 359,
    "start_time": "2023-01-07T19:09:14.745Z"
   },
   {
    "duration": 267,
    "start_time": "2023-01-07T19:09:42.840Z"
   },
   {
    "duration": 252,
    "start_time": "2023-01-07T19:10:19.725Z"
   },
   {
    "duration": 297,
    "start_time": "2023-01-07T19:10:48.262Z"
   },
   {
    "duration": 293,
    "start_time": "2023-01-07T19:10:54.664Z"
   },
   {
    "duration": 262,
    "start_time": "2023-01-07T19:10:58.654Z"
   },
   {
    "duration": 290,
    "start_time": "2023-01-07T19:11:10.373Z"
   },
   {
    "duration": 297,
    "start_time": "2023-01-07T19:11:46.079Z"
   },
   {
    "duration": 307,
    "start_time": "2023-01-07T19:11:52.708Z"
   },
   {
    "duration": 397,
    "start_time": "2023-01-07T19:12:07.429Z"
   },
   {
    "duration": 242,
    "start_time": "2023-01-07T19:15:54.632Z"
   },
   {
    "duration": 1124,
    "start_time": "2023-01-07T19:16:49.447Z"
   },
   {
    "duration": 387,
    "start_time": "2023-01-07T19:20:38.181Z"
   },
   {
    "duration": 420,
    "start_time": "2023-01-07T19:21:07.442Z"
   },
   {
    "duration": 537,
    "start_time": "2023-01-07T19:22:52.302Z"
   },
   {
    "duration": 569,
    "start_time": "2023-01-07T19:23:00.179Z"
   },
   {
    "duration": 298,
    "start_time": "2023-01-07T19:23:32.401Z"
   },
   {
    "duration": 308,
    "start_time": "2023-01-07T19:23:50.498Z"
   },
   {
    "duration": 303,
    "start_time": "2023-01-07T19:23:59.764Z"
   },
   {
    "duration": 141,
    "start_time": "2023-01-07T19:25:15.034Z"
   },
   {
    "duration": 30,
    "start_time": "2023-01-07T19:27:27.705Z"
   },
   {
    "duration": 149,
    "start_time": "2023-01-07T19:27:54.826Z"
   },
   {
    "duration": 279,
    "start_time": "2023-01-07T19:28:19.012Z"
   },
   {
    "duration": 170,
    "start_time": "2023-01-07T19:28:37.359Z"
   },
   {
    "duration": 163,
    "start_time": "2023-01-07T19:32:50.072Z"
   },
   {
    "duration": 166,
    "start_time": "2023-01-07T19:32:58.402Z"
   },
   {
    "duration": 239,
    "start_time": "2023-01-07T19:33:45.672Z"
   },
   {
    "duration": 161,
    "start_time": "2023-01-07T19:33:59.039Z"
   },
   {
    "duration": 164,
    "start_time": "2023-01-07T19:40:24.265Z"
   },
   {
    "duration": 183,
    "start_time": "2023-01-07T19:41:24.888Z"
   },
   {
    "duration": 4,
    "start_time": "2023-01-07T19:41:31.974Z"
   },
   {
    "duration": 184,
    "start_time": "2023-01-07T19:41:35.874Z"
   },
   {
    "duration": 158,
    "start_time": "2023-01-07T19:42:03.825Z"
   },
   {
    "duration": 745,
    "start_time": "2023-01-08T17:52:34.659Z"
   },
   {
    "duration": 1195,
    "start_time": "2023-01-08T17:52:35.406Z"
   },
   {
    "duration": 77,
    "start_time": "2023-01-08T17:52:36.602Z"
   },
   {
    "duration": 23,
    "start_time": "2023-01-08T17:52:36.681Z"
   },
   {
    "duration": 19,
    "start_time": "2023-01-08T17:52:36.705Z"
   },
   {
    "duration": 7,
    "start_time": "2023-01-08T17:52:36.725Z"
   },
   {
    "duration": 41,
    "start_time": "2023-01-08T17:52:36.734Z"
   },
   {
    "duration": 11,
    "start_time": "2023-01-08T17:52:36.777Z"
   },
   {
    "duration": 49,
    "start_time": "2023-01-08T17:52:36.789Z"
   },
   {
    "duration": 9,
    "start_time": "2023-01-08T17:52:36.840Z"
   },
   {
    "duration": 9,
    "start_time": "2023-01-08T17:52:36.851Z"
   },
   {
    "duration": 12,
    "start_time": "2023-01-08T17:52:36.861Z"
   },
   {
    "duration": 20,
    "start_time": "2023-01-08T17:52:36.875Z"
   },
   {
    "duration": 37,
    "start_time": "2023-01-08T17:52:36.896Z"
   },
   {
    "duration": 19,
    "start_time": "2023-01-08T17:52:36.935Z"
   },
   {
    "duration": 106,
    "start_time": "2023-01-08T17:52:36.955Z"
   },
   {
    "duration": 140,
    "start_time": "2023-01-08T17:52:37.063Z"
   },
   {
    "duration": 398,
    "start_time": "2023-01-08T17:52:37.205Z"
   },
   {
    "duration": 404,
    "start_time": "2023-01-08T17:52:37.605Z"
   },
   {
    "duration": 175,
    "start_time": "2023-01-08T17:52:38.010Z"
   },
   {
    "duration": 179,
    "start_time": "2023-01-08T17:52:38.186Z"
   },
   {
    "duration": 633,
    "start_time": "2023-01-08T17:52:38.367Z"
   },
   {
    "duration": 349,
    "start_time": "2023-01-08T17:52:39.002Z"
   },
   {
    "duration": 484,
    "start_time": "2023-01-08T17:52:39.353Z"
   },
   {
    "duration": 130,
    "start_time": "2023-01-08T17:52:39.839Z"
   },
   {
    "duration": 289,
    "start_time": "2023-01-08T17:52:39.971Z"
   },
   {
    "duration": 353,
    "start_time": "2023-01-08T17:52:40.262Z"
   },
   {
    "duration": 153,
    "start_time": "2023-01-08T17:52:40.621Z"
   },
   {
    "duration": 180,
    "start_time": "2023-01-08T17:52:40.776Z"
   },
   {
    "duration": 157,
    "start_time": "2023-01-08T17:54:49.794Z"
   },
   {
    "duration": 156,
    "start_time": "2023-01-08T17:55:08.908Z"
   },
   {
    "duration": 179,
    "start_time": "2023-01-08T17:55:13.058Z"
   },
   {
    "duration": 668,
    "start_time": "2023-01-08T17:55:33.468Z"
   },
   {
    "duration": 175,
    "start_time": "2023-01-08T18:04:41.232Z"
   },
   {
    "duration": 176,
    "start_time": "2023-01-08T18:05:12.377Z"
   },
   {
    "duration": 177,
    "start_time": "2023-01-08T18:05:23.569Z"
   },
   {
    "duration": 745,
    "start_time": "2023-01-08T18:05:30.636Z"
   },
   {
    "duration": 200,
    "start_time": "2023-01-08T18:06:54.694Z"
   },
   {
    "duration": 206,
    "start_time": "2023-01-08T18:07:03.008Z"
   },
   {
    "duration": 194,
    "start_time": "2023-01-08T18:08:30.870Z"
   },
   {
    "duration": 204,
    "start_time": "2023-01-08T18:08:50.236Z"
   },
   {
    "duration": 195,
    "start_time": "2023-01-08T18:11:55.885Z"
   },
   {
    "duration": 199,
    "start_time": "2023-01-08T18:12:45.054Z"
   },
   {
    "duration": 192,
    "start_time": "2023-01-08T18:13:07.755Z"
   },
   {
    "duration": 163,
    "start_time": "2023-01-08T18:16:26.591Z"
   },
   {
    "duration": 137,
    "start_time": "2023-01-08T18:16:30.450Z"
   },
   {
    "duration": 150,
    "start_time": "2023-01-08T18:19:32.732Z"
   },
   {
    "duration": 231,
    "start_time": "2023-01-08T18:22:28.998Z"
   },
   {
    "duration": 149,
    "start_time": "2023-01-08T18:25:16.474Z"
   },
   {
    "duration": 1918,
    "start_time": "2023-01-08T18:54:37.308Z"
   },
   {
    "duration": 223,
    "start_time": "2023-01-08T18:55:09.080Z"
   },
   {
    "duration": 202,
    "start_time": "2023-01-08T18:55:27.896Z"
   },
   {
    "duration": 211,
    "start_time": "2023-01-08T18:56:17.652Z"
   },
   {
    "duration": 205,
    "start_time": "2023-01-08T18:56:26.736Z"
   },
   {
    "duration": 285,
    "start_time": "2023-01-08T18:56:50.729Z"
   },
   {
    "duration": 156,
    "start_time": "2023-01-08T18:57:21.900Z"
   },
   {
    "duration": 160,
    "start_time": "2023-01-08T18:57:30.842Z"
   },
   {
    "duration": 181,
    "start_time": "2023-01-08T18:57:43.318Z"
   },
   {
    "duration": 171,
    "start_time": "2023-01-08T18:57:50.631Z"
   },
   {
    "duration": 153,
    "start_time": "2023-01-08T18:57:56.317Z"
   },
   {
    "duration": 158,
    "start_time": "2023-01-08T18:58:01.155Z"
   },
   {
    "duration": 146,
    "start_time": "2023-01-08T18:58:11.681Z"
   },
   {
    "duration": 109,
    "start_time": "2023-01-08T18:58:49.161Z"
   },
   {
    "duration": 110,
    "start_time": "2023-01-08T18:59:00.769Z"
   },
   {
    "duration": 115,
    "start_time": "2023-01-08T18:59:09.017Z"
   },
   {
    "duration": 526,
    "start_time": "2023-01-08T18:59:20.056Z"
   },
   {
    "duration": 462,
    "start_time": "2023-01-08T18:59:30.986Z"
   },
   {
    "duration": 481,
    "start_time": "2023-01-08T18:59:42.721Z"
   },
   {
    "duration": 423,
    "start_time": "2023-01-08T18:59:58.375Z"
   },
   {
    "duration": 263,
    "start_time": "2023-01-08T19:00:34.494Z"
   },
   {
    "duration": 405,
    "start_time": "2023-01-08T19:14:03.083Z"
   },
   {
    "duration": 6,
    "start_time": "2023-01-08T19:17:37.831Z"
   },
   {
    "duration": 12,
    "start_time": "2023-01-08T19:17:43.747Z"
   },
   {
    "duration": 5,
    "start_time": "2023-01-08T19:22:53.255Z"
   },
   {
    "duration": 10,
    "start_time": "2023-01-08T19:22:58.776Z"
   },
   {
    "duration": 832,
    "start_time": "2023-01-09T18:19:31.010Z"
   },
   {
    "duration": 915,
    "start_time": "2023-01-09T18:19:31.845Z"
   },
   {
    "duration": 80,
    "start_time": "2023-01-09T18:19:32.762Z"
   },
   {
    "duration": 25,
    "start_time": "2023-01-09T18:19:32.844Z"
   },
   {
    "duration": 28,
    "start_time": "2023-01-09T18:19:32.870Z"
   },
   {
    "duration": 23,
    "start_time": "2023-01-09T18:19:32.899Z"
   },
   {
    "duration": 45,
    "start_time": "2023-01-09T18:19:32.924Z"
   },
   {
    "duration": 12,
    "start_time": "2023-01-09T18:19:32.971Z"
   },
   {
    "duration": 25,
    "start_time": "2023-01-09T18:19:32.985Z"
   },
   {
    "duration": 11,
    "start_time": "2023-01-09T18:19:33.013Z"
   },
   {
    "duration": 15,
    "start_time": "2023-01-09T18:19:33.026Z"
   },
   {
    "duration": 11,
    "start_time": "2023-01-09T18:19:33.042Z"
   },
   {
    "duration": 24,
    "start_time": "2023-01-09T18:19:33.054Z"
   },
   {
    "duration": 34,
    "start_time": "2023-01-09T18:19:33.080Z"
   },
   {
    "duration": 20,
    "start_time": "2023-01-09T18:19:33.116Z"
   },
   {
    "duration": 106,
    "start_time": "2023-01-09T18:19:33.137Z"
   },
   {
    "duration": 143,
    "start_time": "2023-01-09T18:19:33.244Z"
   },
   {
    "duration": 433,
    "start_time": "2023-01-09T18:19:33.389Z"
   },
   {
    "duration": 446,
    "start_time": "2023-01-09T18:19:33.823Z"
   },
   {
    "duration": 75,
    "start_time": "2023-01-09T18:19:34.270Z"
   },
   {
    "duration": 0,
    "start_time": "2023-01-09T18:19:34.346Z"
   },
   {
    "duration": 0,
    "start_time": "2023-01-09T18:19:34.347Z"
   },
   {
    "duration": 0,
    "start_time": "2023-01-09T18:19:34.348Z"
   },
   {
    "duration": 0,
    "start_time": "2023-01-09T18:19:34.349Z"
   },
   {
    "duration": 0,
    "start_time": "2023-01-09T18:19:34.350Z"
   },
   {
    "duration": 0,
    "start_time": "2023-01-09T18:19:34.351Z"
   },
   {
    "duration": 0,
    "start_time": "2023-01-09T18:19:34.352Z"
   },
   {
    "duration": 0,
    "start_time": "2023-01-09T18:19:34.353Z"
   },
   {
    "duration": 0,
    "start_time": "2023-01-09T18:19:34.355Z"
   },
   {
    "duration": 0,
    "start_time": "2023-01-09T18:19:34.356Z"
   },
   {
    "duration": 0,
    "start_time": "2023-01-09T18:19:34.357Z"
   },
   {
    "duration": 0,
    "start_time": "2023-01-09T18:19:34.358Z"
   },
   {
    "duration": 0,
    "start_time": "2023-01-09T18:19:34.359Z"
   },
   {
    "duration": 0,
    "start_time": "2023-01-09T18:19:34.360Z"
   },
   {
    "duration": 3,
    "start_time": "2023-01-09T18:24:49.086Z"
   },
   {
    "duration": 279,
    "start_time": "2023-01-09T18:24:49.090Z"
   },
   {
    "duration": 75,
    "start_time": "2023-01-09T18:24:49.371Z"
   },
   {
    "duration": 22,
    "start_time": "2023-01-09T18:24:49.448Z"
   },
   {
    "duration": 10,
    "start_time": "2023-01-09T18:24:49.472Z"
   },
   {
    "duration": 23,
    "start_time": "2023-01-09T18:24:49.484Z"
   },
   {
    "duration": 42,
    "start_time": "2023-01-09T18:24:49.509Z"
   },
   {
    "duration": 12,
    "start_time": "2023-01-09T18:24:49.553Z"
   },
   {
    "duration": 39,
    "start_time": "2023-01-09T18:24:49.566Z"
   },
   {
    "duration": 10,
    "start_time": "2023-01-09T18:24:49.607Z"
   },
   {
    "duration": 8,
    "start_time": "2023-01-09T18:24:49.619Z"
   },
   {
    "duration": 9,
    "start_time": "2023-01-09T18:24:49.629Z"
   },
   {
    "duration": 22,
    "start_time": "2023-01-09T18:24:49.639Z"
   },
   {
    "duration": 14,
    "start_time": "2023-01-09T18:24:49.663Z"
   },
   {
    "duration": 19,
    "start_time": "2023-01-09T18:24:49.705Z"
   },
   {
    "duration": 103,
    "start_time": "2023-01-09T18:24:49.726Z"
   },
   {
    "duration": 124,
    "start_time": "2023-01-09T18:24:49.831Z"
   },
   {
    "duration": 371,
    "start_time": "2023-01-09T18:24:49.956Z"
   },
   {
    "duration": 349,
    "start_time": "2023-01-09T18:24:50.329Z"
   },
   {
    "duration": 69,
    "start_time": "2023-01-09T18:24:50.679Z"
   },
   {
    "duration": 0,
    "start_time": "2023-01-09T18:24:50.750Z"
   },
   {
    "duration": 0,
    "start_time": "2023-01-09T18:24:50.751Z"
   },
   {
    "duration": 0,
    "start_time": "2023-01-09T18:24:50.752Z"
   },
   {
    "duration": 0,
    "start_time": "2023-01-09T18:24:50.753Z"
   },
   {
    "duration": 0,
    "start_time": "2023-01-09T18:24:50.754Z"
   },
   {
    "duration": 0,
    "start_time": "2023-01-09T18:24:50.755Z"
   },
   {
    "duration": 0,
    "start_time": "2023-01-09T18:24:50.756Z"
   },
   {
    "duration": 0,
    "start_time": "2023-01-09T18:24:50.757Z"
   },
   {
    "duration": 0,
    "start_time": "2023-01-09T18:24:50.758Z"
   },
   {
    "duration": 1,
    "start_time": "2023-01-09T18:24:50.758Z"
   },
   {
    "duration": 0,
    "start_time": "2023-01-09T18:24:50.760Z"
   },
   {
    "duration": 0,
    "start_time": "2023-01-09T18:24:50.761Z"
   },
   {
    "duration": 0,
    "start_time": "2023-01-09T18:24:50.762Z"
   },
   {
    "duration": 0,
    "start_time": "2023-01-09T18:24:50.763Z"
   },
   {
    "duration": 708,
    "start_time": "2023-01-09T18:26:06.720Z"
   },
   {
    "duration": 3,
    "start_time": "2023-01-09T18:26:11.365Z"
   },
   {
    "duration": 304,
    "start_time": "2023-01-09T18:26:11.370Z"
   },
   {
    "duration": 93,
    "start_time": "2023-01-09T18:26:11.677Z"
   },
   {
    "duration": 34,
    "start_time": "2023-01-09T18:26:11.772Z"
   },
   {
    "duration": 9,
    "start_time": "2023-01-09T18:26:11.808Z"
   },
   {
    "duration": 13,
    "start_time": "2023-01-09T18:26:11.819Z"
   },
   {
    "duration": 44,
    "start_time": "2023-01-09T18:26:11.834Z"
   },
   {
    "duration": 29,
    "start_time": "2023-01-09T18:26:11.879Z"
   },
   {
    "duration": 25,
    "start_time": "2023-01-09T18:26:11.910Z"
   },
   {
    "duration": 12,
    "start_time": "2023-01-09T18:26:11.937Z"
   },
   {
    "duration": 14,
    "start_time": "2023-01-09T18:26:11.952Z"
   },
   {
    "duration": 12,
    "start_time": "2023-01-09T18:26:11.968Z"
   },
   {
    "duration": 22,
    "start_time": "2023-01-09T18:26:12.003Z"
   },
   {
    "duration": 15,
    "start_time": "2023-01-09T18:26:12.027Z"
   },
   {
    "duration": 21,
    "start_time": "2023-01-09T18:26:12.044Z"
   },
   {
    "duration": 119,
    "start_time": "2023-01-09T18:26:12.067Z"
   },
   {
    "duration": 129,
    "start_time": "2023-01-09T18:26:12.188Z"
   },
   {
    "duration": 400,
    "start_time": "2023-01-09T18:26:12.319Z"
   },
   {
    "duration": 435,
    "start_time": "2023-01-09T18:26:12.721Z"
   },
   {
    "duration": 696,
    "start_time": "2023-01-09T18:26:13.157Z"
   },
   {
    "duration": 168,
    "start_time": "2023-01-09T18:26:13.855Z"
   },
   {
    "duration": 636,
    "start_time": "2023-01-09T18:26:14.024Z"
   },
   {
    "duration": 350,
    "start_time": "2023-01-09T18:26:14.662Z"
   },
   {
    "duration": 436,
    "start_time": "2023-01-09T18:26:15.013Z"
   },
   {
    "duration": 109,
    "start_time": "2023-01-09T18:26:15.450Z"
   },
   {
    "duration": 367,
    "start_time": "2023-01-09T18:26:15.561Z"
   },
   {
    "duration": 308,
    "start_time": "2023-01-09T18:26:15.929Z"
   },
   {
    "duration": 168,
    "start_time": "2023-01-09T18:26:16.239Z"
   },
   {
    "duration": 227,
    "start_time": "2023-01-09T18:26:16.410Z"
   },
   {
    "duration": 2113,
    "start_time": "2023-01-09T18:26:16.639Z"
   },
   {
    "duration": 175,
    "start_time": "2023-01-09T18:26:18.754Z"
   },
   {
    "duration": 341,
    "start_time": "2023-01-09T18:26:18.931Z"
   },
   {
    "duration": 215,
    "start_time": "2023-01-09T18:26:19.274Z"
   },
   {
    "duration": 99,
    "start_time": "2023-01-09T18:26:19.491Z"
   },
   {
    "duration": 10,
    "start_time": "2023-01-09T18:41:02.972Z"
   },
   {
    "duration": 79,
    "start_time": "2023-01-09T18:44:19.028Z"
   },
   {
    "duration": 81,
    "start_time": "2023-01-09T18:44:27.268Z"
   },
   {
    "duration": 11,
    "start_time": "2023-01-09T18:44:32.841Z"
   },
   {
    "duration": 48,
    "start_time": "2023-01-09T18:46:36.156Z"
   },
   {
    "duration": 52,
    "start_time": "2023-01-09T18:47:05.713Z"
   },
   {
    "duration": 65,
    "start_time": "2023-01-09T18:47:28.623Z"
   },
   {
    "duration": 96,
    "start_time": "2023-01-09T18:47:39.279Z"
   },
   {
    "duration": 85,
    "start_time": "2023-01-09T18:48:08.657Z"
   },
   {
    "duration": 48,
    "start_time": "2023-01-09T18:48:39.474Z"
   },
   {
    "duration": 93,
    "start_time": "2023-01-09T18:48:50.031Z"
   },
   {
    "duration": 20,
    "start_time": "2023-01-09T18:49:47.675Z"
   },
   {
    "duration": 51,
    "start_time": "2023-01-09T18:53:32.221Z"
   },
   {
    "duration": 54,
    "start_time": "2023-01-09T18:53:38.807Z"
   },
   {
    "duration": 112,
    "start_time": "2023-01-09T18:53:44.475Z"
   },
   {
    "duration": 36,
    "start_time": "2023-01-09T18:56:02.808Z"
   },
   {
    "duration": 91,
    "start_time": "2023-01-09T18:56:14.176Z"
   },
   {
    "duration": 70,
    "start_time": "2023-01-09T18:56:18.663Z"
   },
   {
    "duration": 99,
    "start_time": "2023-01-09T18:57:02.052Z"
   },
   {
    "duration": 84,
    "start_time": "2023-01-09T18:57:09.800Z"
   },
   {
    "duration": 76,
    "start_time": "2023-01-09T18:57:18.243Z"
   },
   {
    "duration": 74,
    "start_time": "2023-01-09T19:01:03.409Z"
   },
   {
    "duration": 57,
    "start_time": "2023-01-09T19:01:39.601Z"
   },
   {
    "duration": 86,
    "start_time": "2023-01-09T19:02:30.619Z"
   },
   {
    "duration": 87,
    "start_time": "2023-01-09T19:03:53.683Z"
   },
   {
    "duration": 4,
    "start_time": "2023-01-09T19:04:22.204Z"
   },
   {
    "duration": 98,
    "start_time": "2023-01-09T19:04:29.365Z"
   },
   {
    "duration": 93,
    "start_time": "2023-01-09T19:04:56.004Z"
   },
   {
    "duration": 73,
    "start_time": "2023-01-09T19:04:59.462Z"
   },
   {
    "duration": 69,
    "start_time": "2023-01-09T19:10:38.267Z"
   },
   {
    "duration": 88,
    "start_time": "2023-01-09T19:10:40.002Z"
   },
   {
    "duration": 74,
    "start_time": "2023-01-09T19:10:54.598Z"
   },
   {
    "duration": 79,
    "start_time": "2023-01-09T19:18:54.517Z"
   },
   {
    "duration": 16161,
    "start_time": "2023-01-09T19:19:21.448Z"
   },
   {
    "duration": 17513,
    "start_time": "2023-01-09T19:20:22.353Z"
   },
   {
    "duration": 16241,
    "start_time": "2023-01-09T19:22:00.576Z"
   },
   {
    "duration": 16540,
    "start_time": "2023-01-09T19:22:27.430Z"
   },
   {
    "duration": 80,
    "start_time": "2023-01-09T19:24:10.261Z"
   },
   {
    "duration": 16286,
    "start_time": "2023-01-09T19:24:21.112Z"
   },
   {
    "duration": 792,
    "start_time": "2023-01-10T17:28:07.898Z"
   },
   {
    "duration": 429,
    "start_time": "2023-01-10T17:28:08.693Z"
   },
   {
    "duration": 84,
    "start_time": "2023-01-10T17:28:09.124Z"
   },
   {
    "duration": 34,
    "start_time": "2023-01-10T17:28:09.210Z"
   },
   {
    "duration": 8,
    "start_time": "2023-01-10T17:28:09.247Z"
   },
   {
    "duration": 12,
    "start_time": "2023-01-10T17:28:09.257Z"
   },
   {
    "duration": 72,
    "start_time": "2023-01-10T17:28:09.270Z"
   },
   {
    "duration": 13,
    "start_time": "2023-01-10T17:28:09.344Z"
   },
   {
    "duration": 27,
    "start_time": "2023-01-10T17:28:09.359Z"
   },
   {
    "duration": 12,
    "start_time": "2023-01-10T17:28:09.388Z"
   },
   {
    "duration": 14,
    "start_time": "2023-01-10T17:28:09.401Z"
   },
   {
    "duration": 22,
    "start_time": "2023-01-10T17:28:09.436Z"
   },
   {
    "duration": 43,
    "start_time": "2023-01-10T17:28:09.460Z"
   },
   {
    "duration": 86,
    "start_time": "2023-01-10T17:28:09.506Z"
   },
   {
    "duration": 19,
    "start_time": "2023-01-10T17:28:09.593Z"
   },
   {
    "duration": 104,
    "start_time": "2023-01-10T17:28:09.614Z"
   },
   {
    "duration": 152,
    "start_time": "2023-01-10T17:28:09.720Z"
   },
   {
    "duration": 427,
    "start_time": "2023-01-10T17:28:09.874Z"
   },
   {
    "duration": 433,
    "start_time": "2023-01-10T17:28:10.304Z"
   },
   {
    "duration": 711,
    "start_time": "2023-01-10T17:28:10.738Z"
   },
   {
    "duration": 188,
    "start_time": "2023-01-10T17:28:11.450Z"
   },
   {
    "duration": 720,
    "start_time": "2023-01-10T17:28:11.640Z"
   },
   {
    "duration": 439,
    "start_time": "2023-01-10T17:28:12.362Z"
   },
   {
    "duration": 456,
    "start_time": "2023-01-10T17:28:12.803Z"
   },
   {
    "duration": 112,
    "start_time": "2023-01-10T17:28:13.261Z"
   },
   {
    "duration": 422,
    "start_time": "2023-01-10T17:28:13.375Z"
   },
   {
    "duration": 361,
    "start_time": "2023-01-10T17:28:13.799Z"
   },
   {
    "duration": 173,
    "start_time": "2023-01-10T17:28:14.162Z"
   },
   {
    "duration": 223,
    "start_time": "2023-01-10T17:28:14.337Z"
   },
   {
    "duration": 2078,
    "start_time": "2023-01-10T17:28:14.561Z"
   },
   {
    "duration": 182,
    "start_time": "2023-01-10T17:28:16.641Z"
   },
   {
    "duration": 176,
    "start_time": "2023-01-10T17:28:16.824Z"
   },
   {
    "duration": 245,
    "start_time": "2023-01-10T17:28:17.002Z"
   },
   {
    "duration": 16831,
    "start_time": "2023-01-10T17:28:17.249Z"
   },
   {
    "duration": 17822,
    "start_time": "2023-01-10T17:34:34.270Z"
   },
   {
    "duration": 143,
    "start_time": "2023-01-10T17:47:26.449Z"
   },
   {
    "duration": 77,
    "start_time": "2023-01-10T17:47:50.515Z"
   },
   {
    "duration": 48,
    "start_time": "2023-01-10T17:49:10.074Z"
   },
   {
    "duration": 76,
    "start_time": "2023-01-10T17:50:01.693Z"
   },
   {
    "duration": 18545,
    "start_time": "2023-01-10T17:50:13.349Z"
   },
   {
    "duration": 18384,
    "start_time": "2023-01-10T17:51:02.901Z"
   },
   {
    "duration": 18265,
    "start_time": "2023-01-10T17:52:04.278Z"
   },
   {
    "duration": 15,
    "start_time": "2023-01-10T18:12:22.976Z"
   },
   {
    "duration": 21,
    "start_time": "2023-01-10T18:12:28.747Z"
   },
   {
    "duration": 16,
    "start_time": "2023-01-10T18:12:44.511Z"
   },
   {
    "duration": 15,
    "start_time": "2023-01-10T18:12:51.862Z"
   },
   {
    "duration": 19,
    "start_time": "2023-01-10T18:12:55.792Z"
   },
   {
    "duration": 15,
    "start_time": "2023-01-10T18:12:58.804Z"
   },
   {
    "duration": 17,
    "start_time": "2023-01-10T18:13:01.577Z"
   },
   {
    "duration": 19,
    "start_time": "2023-01-10T18:13:08.708Z"
   },
   {
    "duration": 17,
    "start_time": "2023-01-10T18:13:16.993Z"
   },
   {
    "duration": 47,
    "start_time": "2023-01-10T18:13:19.006Z"
   },
   {
    "duration": 14,
    "start_time": "2023-01-10T18:13:32.828Z"
   },
   {
    "duration": 45,
    "start_time": "2023-01-10T18:25:16.825Z"
   },
   {
    "duration": 30,
    "start_time": "2023-01-10T18:26:06.919Z"
   },
   {
    "duration": 13,
    "start_time": "2023-01-10T18:31:27.273Z"
   },
   {
    "duration": 655,
    "start_time": "2023-01-10T18:31:41.110Z"
   },
   {
    "duration": 45,
    "start_time": "2023-01-10T18:31:46.121Z"
   },
   {
    "duration": 293,
    "start_time": "2023-01-10T18:31:56.818Z"
   },
   {
    "duration": 329,
    "start_time": "2023-01-10T18:32:03.723Z"
   },
   {
    "duration": 301,
    "start_time": "2023-01-10T18:32:18.514Z"
   },
   {
    "duration": 262,
    "start_time": "2023-01-10T18:32:41.716Z"
   },
   {
    "duration": 3,
    "start_time": "2023-01-10T18:32:46.101Z"
   },
   {
    "duration": 255,
    "start_time": "2023-01-10T18:32:46.106Z"
   },
   {
    "duration": 76,
    "start_time": "2023-01-10T18:32:46.363Z"
   },
   {
    "duration": 27,
    "start_time": "2023-01-10T18:32:46.441Z"
   },
   {
    "duration": 11,
    "start_time": "2023-01-10T18:32:46.470Z"
   },
   {
    "duration": 12,
    "start_time": "2023-01-10T18:32:46.483Z"
   },
   {
    "duration": 62,
    "start_time": "2023-01-10T18:32:46.497Z"
   },
   {
    "duration": 14,
    "start_time": "2023-01-10T18:32:46.561Z"
   },
   {
    "duration": 32,
    "start_time": "2023-01-10T18:32:46.577Z"
   },
   {
    "duration": 26,
    "start_time": "2023-01-10T18:32:46.611Z"
   },
   {
    "duration": 30,
    "start_time": "2023-01-10T18:32:46.640Z"
   },
   {
    "duration": 33,
    "start_time": "2023-01-10T18:32:46.672Z"
   },
   {
    "duration": 38,
    "start_time": "2023-01-10T18:32:46.707Z"
   },
   {
    "duration": 107,
    "start_time": "2023-01-10T18:32:46.747Z"
   },
   {
    "duration": 20,
    "start_time": "2023-01-10T18:32:46.856Z"
   },
   {
    "duration": 106,
    "start_time": "2023-01-10T18:32:46.878Z"
   },
   {
    "duration": 212,
    "start_time": "2023-01-10T18:32:46.986Z"
   },
   {
    "duration": 412,
    "start_time": "2023-01-10T18:32:47.200Z"
   },
   {
    "duration": 445,
    "start_time": "2023-01-10T18:32:47.613Z"
   },
   {
    "duration": 765,
    "start_time": "2023-01-10T18:32:48.060Z"
   },
   {
    "duration": 191,
    "start_time": "2023-01-10T18:32:48.827Z"
   },
   {
    "duration": 712,
    "start_time": "2023-01-10T18:32:49.020Z"
   },
   {
    "duration": 391,
    "start_time": "2023-01-10T18:32:49.735Z"
   },
   {
    "duration": 541,
    "start_time": "2023-01-10T18:32:50.127Z"
   },
   {
    "duration": 118,
    "start_time": "2023-01-10T18:32:50.670Z"
   },
   {
    "duration": 346,
    "start_time": "2023-01-10T18:32:50.790Z"
   },
   {
    "duration": 343,
    "start_time": "2023-01-10T18:32:51.139Z"
   },
   {
    "duration": 175,
    "start_time": "2023-01-10T18:32:51.484Z"
   },
   {
    "duration": 236,
    "start_time": "2023-01-10T18:32:51.662Z"
   },
   {
    "duration": 2308,
    "start_time": "2023-01-10T18:32:51.899Z"
   },
   {
    "duration": 171,
    "start_time": "2023-01-10T18:32:54.209Z"
   },
   {
    "duration": 179,
    "start_time": "2023-01-10T18:32:54.382Z"
   },
   {
    "duration": 179,
    "start_time": "2023-01-10T18:32:54.562Z"
   },
   {
    "duration": 18970,
    "start_time": "2023-01-10T18:32:54.744Z"
   },
   {
    "duration": 27,
    "start_time": "2023-01-10T18:33:13.716Z"
   },
   {
    "duration": 333,
    "start_time": "2023-01-10T18:33:13.745Z"
   },
   {
    "duration": 4,
    "start_time": "2023-01-10T18:37:26.026Z"
   },
   {
    "duration": 267,
    "start_time": "2023-01-10T18:39:53.606Z"
   },
   {
    "duration": 55,
    "start_time": "2023-01-10T18:47:58.456Z"
   },
   {
    "duration": 50,
    "start_time": "2023-01-10T18:48:14.758Z"
   },
   {
    "duration": 13,
    "start_time": "2023-01-10T18:48:23.850Z"
   },
   {
    "duration": 15,
    "start_time": "2023-01-10T18:48:35.875Z"
   },
   {
    "duration": 21,
    "start_time": "2023-01-10T18:48:47.772Z"
   },
   {
    "duration": 124,
    "start_time": "2023-01-10T18:50:07.456Z"
   },
   {
    "duration": 169,
    "start_time": "2023-01-10T18:50:12.623Z"
   },
   {
    "duration": 132,
    "start_time": "2023-01-10T18:50:30.165Z"
   },
   {
    "duration": 131,
    "start_time": "2023-01-10T18:50:35.950Z"
   },
   {
    "duration": 175,
    "start_time": "2023-01-10T18:50:42.401Z"
   },
   {
    "duration": 141,
    "start_time": "2023-01-10T18:50:45.370Z"
   },
   {
    "duration": 153,
    "start_time": "2023-01-10T18:50:55.025Z"
   },
   {
    "duration": 152,
    "start_time": "2023-01-10T18:51:03.497Z"
   },
   {
    "duration": 4,
    "start_time": "2023-01-10T18:51:07.208Z"
   },
   {
    "duration": 380,
    "start_time": "2023-01-10T18:51:07.215Z"
   },
   {
    "duration": 95,
    "start_time": "2023-01-10T18:51:07.598Z"
   },
   {
    "duration": 23,
    "start_time": "2023-01-10T18:51:07.696Z"
   },
   {
    "duration": 20,
    "start_time": "2023-01-10T18:51:07.721Z"
   },
   {
    "duration": 9,
    "start_time": "2023-01-10T18:51:07.750Z"
   },
   {
    "duration": 46,
    "start_time": "2023-01-10T18:51:07.761Z"
   },
   {
    "duration": 34,
    "start_time": "2023-01-10T18:51:07.809Z"
   },
   {
    "duration": 32,
    "start_time": "2023-01-10T18:51:07.853Z"
   },
   {
    "duration": 13,
    "start_time": "2023-01-10T18:51:07.887Z"
   },
   {
    "duration": 10,
    "start_time": "2023-01-10T18:51:07.902Z"
   },
   {
    "duration": 42,
    "start_time": "2023-01-10T18:51:07.914Z"
   },
   {
    "duration": 28,
    "start_time": "2023-01-10T18:51:07.958Z"
   },
   {
    "duration": 102,
    "start_time": "2023-01-10T18:51:07.988Z"
   },
   {
    "duration": 22,
    "start_time": "2023-01-10T18:51:08.092Z"
   },
   {
    "duration": 112,
    "start_time": "2023-01-10T18:51:08.116Z"
   },
   {
    "duration": 164,
    "start_time": "2023-01-10T18:51:08.230Z"
   },
   {
    "duration": 562,
    "start_time": "2023-01-10T18:51:08.395Z"
   },
   {
    "duration": 449,
    "start_time": "2023-01-10T18:51:08.961Z"
   },
   {
    "duration": 1062,
    "start_time": "2023-01-10T18:51:09.412Z"
   },
   {
    "duration": 207,
    "start_time": "2023-01-10T18:51:10.476Z"
   },
   {
    "duration": 736,
    "start_time": "2023-01-10T18:51:10.685Z"
   },
   {
    "duration": 427,
    "start_time": "2023-01-10T18:51:11.423Z"
   },
   {
    "duration": 501,
    "start_time": "2023-01-10T18:51:11.856Z"
   },
   {
    "duration": 156,
    "start_time": "2023-01-10T18:51:12.359Z"
   },
   {
    "duration": 495,
    "start_time": "2023-01-10T18:51:12.517Z"
   },
   {
    "duration": 455,
    "start_time": "2023-01-10T18:51:13.015Z"
   },
   {
    "duration": 185,
    "start_time": "2023-01-10T18:51:13.472Z"
   },
   {
    "duration": 245,
    "start_time": "2023-01-10T18:51:13.659Z"
   },
   {
    "duration": 2314,
    "start_time": "2023-01-10T18:51:13.906Z"
   },
   {
    "duration": 182,
    "start_time": "2023-01-10T18:51:16.222Z"
   },
   {
    "duration": 197,
    "start_time": "2023-01-10T18:51:16.406Z"
   },
   {
    "duration": 214,
    "start_time": "2023-01-10T18:51:16.605Z"
   },
   {
    "duration": 19950,
    "start_time": "2023-01-10T18:51:16.821Z"
   },
   {
    "duration": 22,
    "start_time": "2023-01-10T18:51:36.773Z"
   },
   {
    "duration": 321,
    "start_time": "2023-01-10T18:51:36.797Z"
   },
   {
    "duration": 173,
    "start_time": "2023-01-10T18:51:37.120Z"
   },
   {
    "duration": 165,
    "start_time": "2023-01-10T18:51:54.028Z"
   },
   {
    "duration": 164,
    "start_time": "2023-01-10T18:51:59.619Z"
   },
   {
    "duration": 26,
    "start_time": "2023-01-10T18:55:17.270Z"
   },
   {
    "duration": 66,
    "start_time": "2023-01-10T18:55:47.229Z"
   },
   {
    "duration": 52,
    "start_time": "2023-01-10T18:58:09.566Z"
   },
   {
    "duration": 42,
    "start_time": "2023-01-10T18:58:16.571Z"
   },
   {
    "duration": 353,
    "start_time": "2023-01-10T18:58:31.155Z"
   },
   {
    "duration": 5,
    "start_time": "2023-01-10T19:00:13.107Z"
   },
   {
    "duration": 348,
    "start_time": "2023-01-10T19:00:19.527Z"
   },
   {
    "duration": 2842,
    "start_time": "2023-01-10T19:01:02.177Z"
   },
   {
    "duration": 2704,
    "start_time": "2023-01-10T19:02:56.054Z"
   },
   {
    "duration": 2721,
    "start_time": "2023-01-10T19:06:31.860Z"
   },
   {
    "duration": 2864,
    "start_time": "2023-01-10T19:06:53.938Z"
   },
   {
    "duration": 16,
    "start_time": "2023-01-10T19:07:32.062Z"
   },
   {
    "duration": 991,
    "start_time": "2023-01-10T19:08:13.795Z"
   },
   {
    "duration": 137087,
    "start_time": "2023-01-10T19:08:58.530Z"
   },
   {
    "duration": 13714,
    "start_time": "2023-01-10T19:11:28.761Z"
   },
   {
    "duration": 1544,
    "start_time": "2023-01-11T17:22:49.596Z"
   },
   {
    "duration": 4,
    "start_time": "2023-01-11T17:22:53.383Z"
   },
   {
    "duration": 414,
    "start_time": "2023-01-11T17:22:53.392Z"
   },
   {
    "duration": 77,
    "start_time": "2023-01-11T17:22:53.808Z"
   },
   {
    "duration": 22,
    "start_time": "2023-01-11T17:22:53.887Z"
   },
   {
    "duration": 8,
    "start_time": "2023-01-11T17:22:53.915Z"
   },
   {
    "duration": 6,
    "start_time": "2023-01-11T17:22:53.925Z"
   },
   {
    "duration": 41,
    "start_time": "2023-01-11T17:22:53.933Z"
   },
   {
    "duration": 11,
    "start_time": "2023-01-11T17:22:53.976Z"
   },
   {
    "duration": 37,
    "start_time": "2023-01-11T17:22:53.988Z"
   },
   {
    "duration": 10,
    "start_time": "2023-01-11T17:22:54.027Z"
   },
   {
    "duration": 13,
    "start_time": "2023-01-11T17:22:54.038Z"
   },
   {
    "duration": 13,
    "start_time": "2023-01-11T17:22:54.052Z"
   },
   {
    "duration": 29,
    "start_time": "2023-01-11T17:22:54.067Z"
   },
   {
    "duration": 70,
    "start_time": "2023-01-11T17:22:54.098Z"
   },
   {
    "duration": 18,
    "start_time": "2023-01-11T17:22:54.170Z"
   },
   {
    "duration": 125,
    "start_time": "2023-01-11T17:22:54.190Z"
   },
   {
    "duration": 207,
    "start_time": "2023-01-11T17:22:54.317Z"
   },
   {
    "duration": 455,
    "start_time": "2023-01-11T17:22:54.525Z"
   },
   {
    "duration": 445,
    "start_time": "2023-01-11T17:22:54.981Z"
   },
   {
    "duration": 685,
    "start_time": "2023-01-11T17:22:55.427Z"
   },
   {
    "duration": 168,
    "start_time": "2023-01-11T17:22:56.113Z"
   },
   {
    "duration": 671,
    "start_time": "2023-01-11T17:22:56.283Z"
   },
   {
    "duration": 368,
    "start_time": "2023-01-11T17:22:56.956Z"
   },
   {
    "duration": 413,
    "start_time": "2023-01-11T17:22:57.325Z"
   },
   {
    "duration": 101,
    "start_time": "2023-01-11T17:22:57.740Z"
   },
   {
    "duration": 382,
    "start_time": "2023-01-11T17:22:57.842Z"
   },
   {
    "duration": 304,
    "start_time": "2023-01-11T17:22:58.225Z"
   },
   {
    "duration": 175,
    "start_time": "2023-01-11T17:22:58.531Z"
   },
   {
    "duration": 211,
    "start_time": "2023-01-11T17:22:58.708Z"
   },
   {
    "duration": 1992,
    "start_time": "2023-01-11T17:22:58.920Z"
   },
   {
    "duration": 155,
    "start_time": "2023-01-11T17:23:00.915Z"
   },
   {
    "duration": 172,
    "start_time": "2023-01-11T17:23:01.072Z"
   },
   {
    "duration": 247,
    "start_time": "2023-01-11T17:23:01.246Z"
   },
   {
    "duration": 16613,
    "start_time": "2023-01-11T17:23:01.494Z"
   },
   {
    "duration": 19,
    "start_time": "2023-01-11T17:23:18.109Z"
   },
   {
    "duration": 275,
    "start_time": "2023-01-11T17:23:18.129Z"
   },
   {
    "duration": 140,
    "start_time": "2023-01-11T17:23:18.406Z"
   },
   {
    "duration": 2395,
    "start_time": "2023-01-11T17:23:18.547Z"
   },
   {
    "duration": 952,
    "start_time": "2023-01-11T17:23:20.944Z"
   },
   {
    "duration": 11676,
    "start_time": "2023-01-11T17:23:21.898Z"
   },
   {
    "duration": 2599,
    "start_time": "2023-01-11T17:42:03.882Z"
   },
   {
    "duration": 2509,
    "start_time": "2023-01-11T17:42:21.513Z"
   },
   {
    "duration": 2460,
    "start_time": "2023-01-11T17:43:03.311Z"
   },
   {
    "duration": 4,
    "start_time": "2023-01-11T17:43:25.117Z"
   },
   {
    "duration": 2459,
    "start_time": "2023-01-11T17:43:35.778Z"
   },
   {
    "duration": 3004,
    "start_time": "2023-01-11T17:43:49.027Z"
   },
   {
    "duration": 11,
    "start_time": "2023-01-11T17:44:47.779Z"
   },
   {
    "duration": 126,
    "start_time": "2023-01-11T17:45:03.620Z"
   },
   {
    "duration": 132,
    "start_time": "2023-01-11T17:46:00.791Z"
   },
   {
    "duration": 17366,
    "start_time": "2023-01-11T17:47:07.289Z"
   },
   {
    "duration": 17523,
    "start_time": "2023-01-11T17:48:07.729Z"
   },
   {
    "duration": 4766,
    "start_time": "2023-01-11T17:48:41.504Z"
   },
   {
    "duration": 4878,
    "start_time": "2023-01-11T17:55:07.640Z"
   },
   {
    "duration": 13,
    "start_time": "2023-01-11T18:04:08.972Z"
   },
   {
    "duration": 1272,
    "start_time": "2023-01-11T18:04:59.211Z"
   },
   {
    "duration": 1305,
    "start_time": "2023-01-11T18:05:33.069Z"
   },
   {
    "duration": 1332,
    "start_time": "2023-01-11T18:06:13.308Z"
   },
   {
    "duration": 1313,
    "start_time": "2023-01-11T18:06:21.936Z"
   },
   {
    "duration": 16761,
    "start_time": "2023-01-11T18:09:38.034Z"
   },
   {
    "duration": 87,
    "start_time": "2023-01-11T18:10:02.874Z"
   },
   {
    "duration": 16775,
    "start_time": "2023-01-11T18:10:04.908Z"
   },
   {
    "duration": 17012,
    "start_time": "2023-01-11T18:11:28.312Z"
   },
   {
    "duration": 17226,
    "start_time": "2023-01-11T18:11:49.077Z"
   },
   {
    "duration": 17209,
    "start_time": "2023-01-11T18:12:39.828Z"
   },
   {
    "duration": 273,
    "start_time": "2023-01-11T18:39:04.183Z"
   },
   {
    "duration": 293,
    "start_time": "2023-01-11T18:39:11.327Z"
   },
   {
    "duration": 5,
    "start_time": "2023-01-11T19:00:18.089Z"
   },
   {
    "duration": 5,
    "start_time": "2023-01-11T19:00:22.693Z"
   },
   {
    "duration": 157,
    "start_time": "2023-01-11T19:01:27.914Z"
   },
   {
    "duration": 54,
    "start_time": "2023-01-12T09:57:04.980Z"
   },
   {
    "duration": 1710,
    "start_time": "2023-01-12T09:57:13.271Z"
   },
   {
    "duration": 423,
    "start_time": "2023-01-12T09:57:14.984Z"
   },
   {
    "duration": 94,
    "start_time": "2023-01-12T09:57:15.409Z"
   },
   {
    "duration": 33,
    "start_time": "2023-01-12T09:57:15.505Z"
   },
   {
    "duration": 9,
    "start_time": "2023-01-12T09:57:15.540Z"
   },
   {
    "duration": 12,
    "start_time": "2023-01-12T09:57:15.550Z"
   },
   {
    "duration": 71,
    "start_time": "2023-01-12T09:57:15.564Z"
   },
   {
    "duration": 14,
    "start_time": "2023-01-12T09:57:15.637Z"
   },
   {
    "duration": 32,
    "start_time": "2023-01-12T09:57:15.653Z"
   },
   {
    "duration": 12,
    "start_time": "2023-01-12T09:57:15.687Z"
   },
   {
    "duration": 9,
    "start_time": "2023-01-12T09:57:15.700Z"
   },
   {
    "duration": 34,
    "start_time": "2023-01-12T09:57:15.711Z"
   },
   {
    "duration": 27,
    "start_time": "2023-01-12T09:57:15.747Z"
   },
   {
    "duration": 100,
    "start_time": "2023-01-12T09:57:15.777Z"
   },
   {
    "duration": 20,
    "start_time": "2023-01-12T09:57:15.879Z"
   },
   {
    "duration": 121,
    "start_time": "2023-01-12T09:57:15.900Z"
   },
   {
    "duration": 157,
    "start_time": "2023-01-12T09:57:16.022Z"
   },
   {
    "duration": 461,
    "start_time": "2023-01-12T09:57:16.181Z"
   },
   {
    "duration": 479,
    "start_time": "2023-01-12T09:57:16.644Z"
   },
   {
    "duration": 743,
    "start_time": "2023-01-12T09:57:17.125Z"
   },
   {
    "duration": 179,
    "start_time": "2023-01-12T09:57:17.870Z"
   },
   {
    "duration": 694,
    "start_time": "2023-01-12T09:57:18.051Z"
   },
   {
    "duration": 416,
    "start_time": "2023-01-12T09:57:18.747Z"
   },
   {
    "duration": 477,
    "start_time": "2023-01-12T09:57:19.165Z"
   },
   {
    "duration": 121,
    "start_time": "2023-01-12T09:57:19.643Z"
   },
   {
    "duration": 447,
    "start_time": "2023-01-12T09:57:19.766Z"
   },
   {
    "duration": 334,
    "start_time": "2023-01-12T09:57:20.215Z"
   },
   {
    "duration": 179,
    "start_time": "2023-01-12T09:57:20.551Z"
   },
   {
    "duration": 244,
    "start_time": "2023-01-12T09:57:20.736Z"
   },
   {
    "duration": 79,
    "start_time": "2023-01-12T09:57:20.983Z"
   },
   {
    "duration": 0,
    "start_time": "2023-01-12T09:57:21.065Z"
   },
   {
    "duration": 0,
    "start_time": "2023-01-12T09:57:21.067Z"
   },
   {
    "duration": 0,
    "start_time": "2023-01-12T09:57:21.069Z"
   },
   {
    "duration": 0,
    "start_time": "2023-01-12T09:57:21.071Z"
   },
   {
    "duration": 0,
    "start_time": "2023-01-12T09:57:21.072Z"
   },
   {
    "duration": 0,
    "start_time": "2023-01-12T09:57:21.074Z"
   },
   {
    "duration": 0,
    "start_time": "2023-01-12T09:57:21.076Z"
   },
   {
    "duration": 0,
    "start_time": "2023-01-12T09:57:21.078Z"
   },
   {
    "duration": 0,
    "start_time": "2023-01-12T09:57:21.080Z"
   },
   {
    "duration": 0,
    "start_time": "2023-01-12T09:57:21.081Z"
   },
   {
    "duration": 0,
    "start_time": "2023-01-12T09:57:21.083Z"
   },
   {
    "duration": 0,
    "start_time": "2023-01-12T09:57:21.085Z"
   },
   {
    "duration": 0,
    "start_time": "2023-01-12T09:57:21.086Z"
   },
   {
    "duration": 0,
    "start_time": "2023-01-12T09:57:21.088Z"
   },
   {
    "duration": 0,
    "start_time": "2023-01-12T09:57:21.089Z"
   },
   {
    "duration": 0,
    "start_time": "2023-01-12T09:57:21.090Z"
   },
   {
    "duration": 2080,
    "start_time": "2023-01-12T10:17:28.213Z"
   },
   {
    "duration": 1463,
    "start_time": "2023-01-12T10:21:07.585Z"
   },
   {
    "duration": 271,
    "start_time": "2023-01-12T10:21:09.050Z"
   },
   {
    "duration": 83,
    "start_time": "2023-01-12T10:21:09.323Z"
   },
   {
    "duration": 37,
    "start_time": "2023-01-12T10:21:09.408Z"
   },
   {
    "duration": 17,
    "start_time": "2023-01-12T10:21:09.447Z"
   },
   {
    "duration": 28,
    "start_time": "2023-01-12T10:21:09.465Z"
   },
   {
    "duration": 60,
    "start_time": "2023-01-12T10:21:09.495Z"
   },
   {
    "duration": 14,
    "start_time": "2023-01-12T10:21:09.557Z"
   },
   {
    "duration": 32,
    "start_time": "2023-01-12T10:21:09.573Z"
   },
   {
    "duration": 10,
    "start_time": "2023-01-12T10:21:09.607Z"
   },
   {
    "duration": 31,
    "start_time": "2023-01-12T10:21:09.619Z"
   },
   {
    "duration": 23,
    "start_time": "2023-01-12T10:21:09.652Z"
   },
   {
    "duration": 45,
    "start_time": "2023-01-12T10:21:09.677Z"
   },
   {
    "duration": 81,
    "start_time": "2023-01-12T10:21:09.724Z"
   },
   {
    "duration": 19,
    "start_time": "2023-01-12T10:21:09.807Z"
   },
   {
    "duration": 102,
    "start_time": "2023-01-12T10:21:09.837Z"
   },
   {
    "duration": 152,
    "start_time": "2023-01-12T10:21:09.941Z"
   },
   {
    "duration": 450,
    "start_time": "2023-01-12T10:21:10.095Z"
   },
   {
    "duration": 458,
    "start_time": "2023-01-12T10:21:10.547Z"
   },
   {
    "duration": 712,
    "start_time": "2023-01-12T10:21:11.006Z"
   },
   {
    "duration": 183,
    "start_time": "2023-01-12T10:21:11.720Z"
   },
   {
    "duration": 790,
    "start_time": "2023-01-12T10:21:11.905Z"
   },
   {
    "duration": 381,
    "start_time": "2023-01-12T10:21:12.697Z"
   },
   {
    "duration": 465,
    "start_time": "2023-01-12T10:21:13.080Z"
   },
   {
    "duration": 121,
    "start_time": "2023-01-12T10:21:13.547Z"
   },
   {
    "duration": 450,
    "start_time": "2023-01-12T10:21:13.670Z"
   },
   {
    "duration": 320,
    "start_time": "2023-01-12T10:21:14.121Z"
   },
   {
    "duration": 168,
    "start_time": "2023-01-12T10:21:14.444Z"
   },
   {
    "duration": 222,
    "start_time": "2023-01-12T10:21:14.614Z"
   },
   {
    "duration": 2084,
    "start_time": "2023-01-12T10:21:14.837Z"
   },
   {
    "duration": 172,
    "start_time": "2023-01-12T10:21:16.922Z"
   },
   {
    "duration": 194,
    "start_time": "2023-01-12T10:21:17.096Z"
   },
   {
    "duration": 284,
    "start_time": "2023-01-12T10:21:17.292Z"
   },
   {
    "duration": 167,
    "start_time": "2023-01-12T10:21:17.578Z"
   },
   {
    "duration": 17920,
    "start_time": "2023-01-12T10:21:17.747Z"
   },
   {
    "duration": 18035,
    "start_time": "2023-01-12T10:21:35.668Z"
   },
   {
    "duration": 32,
    "start_time": "2023-01-12T10:21:53.704Z"
   },
   {
    "duration": 307,
    "start_time": "2023-01-12T10:21:53.738Z"
   },
   {
    "duration": 159,
    "start_time": "2023-01-12T10:21:54.047Z"
   },
   {
    "duration": 3244,
    "start_time": "2023-01-12T10:21:54.208Z"
   },
   {
    "duration": 144,
    "start_time": "2023-01-12T10:21:57.453Z"
   },
   {
    "duration": 992,
    "start_time": "2023-01-12T10:21:57.599Z"
   },
   {
    "duration": 12641,
    "start_time": "2023-01-12T10:21:58.593Z"
   },
   {
    "duration": 18707,
    "start_time": "2023-01-12T10:22:11.235Z"
   },
   {
    "duration": 4867,
    "start_time": "2023-01-12T10:22:29.943Z"
   },
   {
    "duration": 1354,
    "start_time": "2023-01-12T10:22:34.812Z"
   },
   {
    "duration": 21,
    "start_time": "2023-01-12T10:23:10.854Z"
   },
   {
    "duration": 23,
    "start_time": "2023-01-12T10:23:46.302Z"
   },
   {
    "duration": 21,
    "start_time": "2023-01-12T10:25:01.482Z"
   },
   {
    "duration": 60,
    "start_time": "2023-01-12T10:26:53.728Z"
   },
   {
    "duration": 45,
    "start_time": "2023-01-12T14:10:01.730Z"
   },
   {
    "duration": 1471,
    "start_time": "2023-01-12T14:10:07.005Z"
   },
   {
    "duration": 1506,
    "start_time": "2023-01-12T14:10:08.478Z"
   },
   {
    "duration": 77,
    "start_time": "2023-01-12T14:10:09.985Z"
   },
   {
    "duration": 32,
    "start_time": "2023-01-12T14:10:10.064Z"
   },
   {
    "duration": 12,
    "start_time": "2023-01-12T14:10:10.097Z"
   },
   {
    "duration": 14,
    "start_time": "2023-01-12T14:10:10.111Z"
   },
   {
    "duration": 66,
    "start_time": "2023-01-12T14:10:10.127Z"
   },
   {
    "duration": 13,
    "start_time": "2023-01-12T14:10:10.195Z"
   },
   {
    "duration": 34,
    "start_time": "2023-01-12T14:10:10.209Z"
   },
   {
    "duration": 19,
    "start_time": "2023-01-12T14:10:10.245Z"
   },
   {
    "duration": 26,
    "start_time": "2023-01-12T14:10:10.266Z"
   },
   {
    "duration": 44,
    "start_time": "2023-01-12T14:10:10.293Z"
   },
   {
    "duration": 43,
    "start_time": "2023-01-12T14:10:10.339Z"
   },
   {
    "duration": 72,
    "start_time": "2023-01-12T14:10:10.383Z"
   },
   {
    "duration": 22,
    "start_time": "2023-01-12T14:10:10.457Z"
   },
   {
    "duration": 89,
    "start_time": "2023-01-12T14:10:10.481Z"
   },
   {
    "duration": 72,
    "start_time": "2023-01-12T14:10:10.571Z"
   },
   {
    "duration": 0,
    "start_time": "2023-01-12T14:10:10.645Z"
   },
   {
    "duration": 0,
    "start_time": "2023-01-12T14:10:10.646Z"
   },
   {
    "duration": 0,
    "start_time": "2023-01-12T14:10:10.648Z"
   },
   {
    "duration": 1,
    "start_time": "2023-01-12T14:10:10.648Z"
   },
   {
    "duration": 0,
    "start_time": "2023-01-12T14:10:10.650Z"
   },
   {
    "duration": 0,
    "start_time": "2023-01-12T14:10:10.651Z"
   },
   {
    "duration": 0,
    "start_time": "2023-01-12T14:10:10.652Z"
   },
   {
    "duration": 0,
    "start_time": "2023-01-12T14:10:10.653Z"
   },
   {
    "duration": 0,
    "start_time": "2023-01-12T14:10:10.655Z"
   },
   {
    "duration": 0,
    "start_time": "2023-01-12T14:10:10.655Z"
   },
   {
    "duration": 0,
    "start_time": "2023-01-12T14:10:10.656Z"
   },
   {
    "duration": 0,
    "start_time": "2023-01-12T14:10:10.657Z"
   },
   {
    "duration": 0,
    "start_time": "2023-01-12T14:10:10.678Z"
   },
   {
    "duration": 0,
    "start_time": "2023-01-12T14:10:10.679Z"
   },
   {
    "duration": 0,
    "start_time": "2023-01-12T14:10:10.680Z"
   },
   {
    "duration": 0,
    "start_time": "2023-01-12T14:10:10.681Z"
   },
   {
    "duration": 0,
    "start_time": "2023-01-12T14:10:10.682Z"
   },
   {
    "duration": 1,
    "start_time": "2023-01-12T14:10:10.683Z"
   },
   {
    "duration": 0,
    "start_time": "2023-01-12T14:10:10.685Z"
   },
   {
    "duration": 0,
    "start_time": "2023-01-12T14:10:10.686Z"
   },
   {
    "duration": 0,
    "start_time": "2023-01-12T14:10:10.687Z"
   },
   {
    "duration": 0,
    "start_time": "2023-01-12T14:10:10.688Z"
   },
   {
    "duration": 0,
    "start_time": "2023-01-12T14:10:10.689Z"
   },
   {
    "duration": 0,
    "start_time": "2023-01-12T14:10:10.690Z"
   },
   {
    "duration": 0,
    "start_time": "2023-01-12T14:10:10.691Z"
   },
   {
    "duration": 0,
    "start_time": "2023-01-12T14:10:10.692Z"
   },
   {
    "duration": 0,
    "start_time": "2023-01-12T14:10:10.693Z"
   },
   {
    "duration": 0,
    "start_time": "2023-01-12T14:10:10.694Z"
   },
   {
    "duration": 0,
    "start_time": "2023-01-12T14:10:10.695Z"
   },
   {
    "duration": 0,
    "start_time": "2023-01-12T14:10:10.697Z"
   },
   {
    "duration": 0,
    "start_time": "2023-01-12T14:10:10.697Z"
   },
   {
    "duration": 22,
    "start_time": "2023-01-12T14:12:13.963Z"
   },
   {
    "duration": 25,
    "start_time": "2023-01-12T14:12:21.796Z"
   },
   {
    "duration": 26,
    "start_time": "2023-01-12T14:14:13.544Z"
   },
   {
    "duration": 19,
    "start_time": "2023-01-12T14:15:32.521Z"
   },
   {
    "duration": 30,
    "start_time": "2023-01-12T14:15:40.957Z"
   },
   {
    "duration": 51,
    "start_time": "2023-01-12T14:15:43.711Z"
   },
   {
    "duration": 19,
    "start_time": "2023-01-12T14:15:58.561Z"
   },
   {
    "duration": 33,
    "start_time": "2023-01-12T14:16:04.928Z"
   },
   {
    "duration": 46,
    "start_time": "2023-01-12T14:16:08.114Z"
   },
   {
    "duration": 163,
    "start_time": "2023-01-12T14:17:01.119Z"
   },
   {
    "duration": 416,
    "start_time": "2023-01-12T14:17:01.285Z"
   },
   {
    "duration": 422,
    "start_time": "2023-01-12T14:17:01.703Z"
   },
   {
    "duration": 685,
    "start_time": "2023-01-12T14:17:02.127Z"
   },
   {
    "duration": 192,
    "start_time": "2023-01-12T14:17:02.814Z"
   },
   {
    "duration": 650,
    "start_time": "2023-01-12T14:17:03.008Z"
   },
   {
    "duration": 368,
    "start_time": "2023-01-12T14:17:03.660Z"
   },
   {
    "duration": 440,
    "start_time": "2023-01-12T14:17:04.030Z"
   },
   {
    "duration": 107,
    "start_time": "2023-01-12T14:17:04.471Z"
   },
   {
    "duration": 371,
    "start_time": "2023-01-12T14:17:04.580Z"
   },
   {
    "duration": 310,
    "start_time": "2023-01-12T14:17:04.952Z"
   },
   {
    "duration": 150,
    "start_time": "2023-01-12T14:17:05.263Z"
   },
   {
    "duration": 205,
    "start_time": "2023-01-12T14:17:05.414Z"
   },
   {
    "duration": 1896,
    "start_time": "2023-01-12T14:17:05.621Z"
   },
   {
    "duration": 150,
    "start_time": "2023-01-12T14:17:07.518Z"
   },
   {
    "duration": 155,
    "start_time": "2023-01-12T14:17:07.678Z"
   },
   {
    "duration": 235,
    "start_time": "2023-01-12T14:17:07.835Z"
   },
   {
    "duration": 139,
    "start_time": "2023-01-12T14:17:08.071Z"
   },
   {
    "duration": 16677,
    "start_time": "2023-01-12T14:17:08.211Z"
   },
   {
    "duration": 17,
    "start_time": "2023-01-12T14:17:24.890Z"
   },
   {
    "duration": 16046,
    "start_time": "2023-01-12T14:17:24.908Z"
   },
   {
    "duration": 12,
    "start_time": "2023-01-12T14:17:40.955Z"
   },
   {
    "duration": 255,
    "start_time": "2023-01-12T14:17:40.977Z"
   },
   {
    "duration": 135,
    "start_time": "2023-01-12T14:17:41.234Z"
   },
   {
    "duration": 2999,
    "start_time": "2023-01-12T14:17:41.370Z"
   },
   {
    "duration": 121,
    "start_time": "2023-01-12T14:17:44.371Z"
   },
   {
    "duration": 872,
    "start_time": "2023-01-12T14:17:44.493Z"
   },
   {
    "duration": 11553,
    "start_time": "2023-01-12T14:17:45.368Z"
   },
   {
    "duration": 17142,
    "start_time": "2023-01-12T14:17:56.923Z"
   },
   {
    "duration": 4573,
    "start_time": "2023-01-12T14:18:14.067Z"
   },
   {
    "duration": 1446,
    "start_time": "2023-01-12T14:18:18.642Z"
   },
   {
    "duration": 6,
    "start_time": "2023-01-12T14:24:49.099Z"
   },
   {
    "duration": 71,
    "start_time": "2023-01-12T14:27:33.861Z"
   },
   {
    "duration": 131,
    "start_time": "2023-01-12T14:27:38.795Z"
   },
   {
    "duration": 127,
    "start_time": "2023-01-12T14:27:42.140Z"
   },
   {
    "duration": 69,
    "start_time": "2023-01-12T14:29:22.927Z"
   },
   {
    "duration": 16543,
    "start_time": "2023-01-12T14:29:36.617Z"
   },
   {
    "duration": 18,
    "start_time": "2023-01-12T14:30:04.573Z"
   },
   {
    "duration": 16839,
    "start_time": "2023-01-12T14:32:35.247Z"
   },
   {
    "duration": 24,
    "start_time": "2023-01-12T14:56:37.324Z"
   },
   {
    "duration": 81,
    "start_time": "2023-01-12T15:22:12.336Z"
   },
   {
    "duration": 13,
    "start_time": "2023-01-12T15:22:35.080Z"
   },
   {
    "duration": 12,
    "start_time": "2023-01-12T15:22:44.269Z"
   },
   {
    "duration": 165,
    "start_time": "2023-01-12T15:31:35.103Z"
   },
   {
    "duration": 133,
    "start_time": "2023-01-12T15:31:55.841Z"
   },
   {
    "duration": 15,
    "start_time": "2023-01-12T15:50:34.059Z"
   },
   {
    "duration": 4,
    "start_time": "2023-01-12T15:51:05.154Z"
   },
   {
    "duration": 11,
    "start_time": "2023-01-12T15:51:15.503Z"
   },
   {
    "duration": 0,
    "start_time": "2023-01-12T16:06:01.765Z"
   },
   {
    "duration": 14402,
    "start_time": "2023-01-12T16:06:06.888Z"
   },
   {
    "duration": 8848,
    "start_time": "2023-01-12T16:06:54.584Z"
   },
   {
    "duration": 7548,
    "start_time": "2023-01-12T16:15:11.977Z"
   },
   {
    "duration": 26,
    "start_time": "2023-01-12T16:15:47.720Z"
   },
   {
    "duration": 27,
    "start_time": "2023-01-12T16:16:26.731Z"
   },
   {
    "duration": 28,
    "start_time": "2023-01-12T16:17:16.454Z"
   },
   {
    "duration": 37,
    "start_time": "2023-01-12T16:17:24.465Z"
   },
   {
    "duration": 74,
    "start_time": "2023-01-12T16:17:34.266Z"
   },
   {
    "duration": 43,
    "start_time": "2023-01-12T16:17:42.765Z"
   },
   {
    "duration": 32,
    "start_time": "2023-01-12T16:17:51.178Z"
   },
   {
    "duration": 99,
    "start_time": "2023-01-12T16:18:19.511Z"
   },
   {
    "duration": 10,
    "start_time": "2023-01-12T16:18:24.642Z"
   },
   {
    "duration": 96,
    "start_time": "2023-01-12T16:24:59.994Z"
   },
   {
    "duration": 88,
    "start_time": "2023-01-12T16:25:15.085Z"
   },
   {
    "duration": 96,
    "start_time": "2023-01-12T16:25:25.988Z"
   },
   {
    "duration": 70,
    "start_time": "2023-01-12T16:25:38.796Z"
   },
   {
    "duration": 67,
    "start_time": "2023-01-12T16:25:41.515Z"
   },
   {
    "duration": 12,
    "start_time": "2023-01-12T16:25:47.590Z"
   },
   {
    "duration": 11,
    "start_time": "2023-01-12T16:26:20.954Z"
   },
   {
    "duration": 10,
    "start_time": "2023-01-12T16:26:37.213Z"
   },
   {
    "duration": 21700,
    "start_time": "2023-01-12T16:33:34.423Z"
   },
   {
    "duration": 141541,
    "start_time": "2023-01-12T16:34:49.383Z"
   },
   {
    "duration": 140229,
    "start_time": "2023-01-12T16:37:31.386Z"
   },
   {
    "duration": 23842,
    "start_time": "2023-01-12T16:45:41.683Z"
   },
   {
    "duration": 21511,
    "start_time": "2023-01-12T16:46:05.671Z"
   },
   {
    "duration": 2427,
    "start_time": "2023-01-12T16:46:30.301Z"
   },
   {
    "duration": 51480,
    "start_time": "2023-01-12T16:48:12.054Z"
   },
   {
    "duration": 253686,
    "start_time": "2023-01-12T17:07:51.329Z"
   },
   {
    "duration": 4,
    "start_time": "2023-01-12T17:15:32.619Z"
   },
   {
    "duration": 14,
    "start_time": "2023-01-12T17:15:39.145Z"
   },
   {
    "duration": 14,
    "start_time": "2023-01-12T17:17:25.367Z"
   },
   {
    "duration": 9,
    "start_time": "2023-01-12T17:18:22.228Z"
   },
   {
    "duration": 5,
    "start_time": "2023-01-12T17:18:57.363Z"
   },
   {
    "duration": 35,
    "start_time": "2023-01-12T17:19:02.342Z"
   },
   {
    "duration": 36,
    "start_time": "2023-01-12T17:19:21.345Z"
   },
   {
    "duration": 49569,
    "start_time": "2023-01-12T17:20:34.134Z"
   }
  ],
  "kernelspec": {
   "display_name": "Python 3 (ipykernel)",
   "language": "python",
   "name": "python3"
  },
  "language_info": {
   "codemirror_mode": {
    "name": "ipython",
    "version": 3
   },
   "file_extension": ".py",
   "mimetype": "text/x-python",
   "name": "python",
   "nbconvert_exporter": "python",
   "pygments_lexer": "ipython3",
   "version": "3.9.5"
  },
  "toc": {
   "base_numbering": 1,
   "nav_menu": {},
   "number_sections": true,
   "sideBar": true,
   "skip_h1_title": true,
   "title_cell": "Table of Contents",
   "title_sidebar": "Contents",
   "toc_cell": false,
   "toc_position": {},
   "toc_section_display": true,
   "toc_window_display": false
  }
 },
 "nbformat": 4,
 "nbformat_minor": 2
}
